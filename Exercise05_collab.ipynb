{
  "nbformat": 4,
  "nbformat_minor": 0,
  "metadata": {
    "kernelspec": {
      "name": "python3",
      "display_name": "Python 3"
    },
    "colab": {
      "name": "Exercise05-collab.ipynb",
      "provenance": [],
      "collapsed_sections": [],
      "include_colab_link": true
    },
    "accelerator": "GPU"
  },
  "cells": [
    {
      "cell_type": "markdown",
      "metadata": {
        "id": "view-in-github",
        "colab_type": "text"
      },
      "source": [
        "<a href=\"https://colab.research.google.com/github/rim-yu/SGU_ANT6320_Assignment/blob/master/Exercise05_collab.ipynb\" target=\"_parent\"><img src=\"https://colab.research.google.com/assets/colab-badge.svg\" alt=\"Open In Colab\"/></a>"
      ]
    },
    {
      "cell_type": "markdown",
      "metadata": {
        "id": "4LJx-eIt5K98",
        "colab_type": "text"
      },
      "source": [
        "lesson4 : https://course.fast.ai/videos/?lesson=4\n",
        "\n",
        "detailed note : https://github.com/hiromis/notes/blob/master/Lesson4.md"
      ]
    },
    {
      "cell_type": "markdown",
      "metadata": {
        "id": "yXCnYRrv1o91",
        "colab_type": "text"
      },
      "source": [
        "**Collaborative Filtering**\n",
        "\n",
        "collaborative filtering은 추천 시스템 내에서 널리 쓰이는 방식. 콘텐츠 자체를 분석하지 않고 user의 평가, 피드백을 기반으로 추천하는 것을 의미. 세부적인 지표를 비교적 신경쓸 필요가 없음. 해당 콘텐츠가 어떤 것인지 관심이 없고 해당 콘텐츠에 내린 평가에 중점을 둔다. \n",
        "\n",
        "이에 대한 것 : https://blog.naver.com/shino1025/221861980501\n",
        "\n",
        "추천 알고리즘의 방법(User-based vs. Item-based): https://www.slideshare.net/springloops/collaborative-filtering-23732558\n",
        "\n",
        "**추천 시스템(recommender system)이란 사용자(user)가 선호하는 상품(item)을 예측하는 시스템이다.**\n",
        "\n",
        "Amazon과 같은 인터넷 쇼핑 사이트나 Netflix 등의 온라인 비디오 콘텐츠 제공 사이트는 사용자가 각각의 상품에 대해 평가한 평점(rate)을 가지고 있다. 이 기록을 기반으로 해서 사용자에게 어떤 상품을 추천할지 예측하게 된다.\n",
        "\n",
        "이에 대한 것 : https://datascienceschool.net/view-notebook/fcd3550f11ac4537acec8d18136f2066/\n"
      ]
    },
    {
      "cell_type": "markdown",
      "metadata": {
        "id": "6mbriEEvAMup",
        "colab_type": "text"
      },
      "source": [
        "**Embedding**\n",
        "\n",
        "An embedding, not surprisingly, is a matrix of weights. Specifically, an embedding is a matrix of weights that looks something like this:\n",
        "\n",
        "단어 임베딩에 대한 것 : https://datascienceschool.net/view-notebook/6927b0906f884a67b0da9310d3a581ee/\n",
        "\n",
        "단어 임베딩에 대한 것을 보다가 자세한 페이지를 또 발견 : https://www.r-craft.org/r-news/get-busy-with-word-embeddings-an-introduction/ "
      ]
    },
    {
      "cell_type": "markdown",
      "metadata": {
        "id": "Wi3p-Ft0DXSm",
        "colab_type": "text"
      },
      "source": [
        "**What is weight and bias in neural network?**\n",
        "\n",
        "In Neural network, some inputs are provided to an artificial neuron, and with each input a weight is associated. Weight increases the steepness of activation function. This means weight decide how fast the activation function will trigger whereas bias is used to delay the triggering of the activation function."
      ]
    },
    {
      "cell_type": "markdown",
      "metadata": {
        "id": "i1iKChPL7AED",
        "colab_type": "text"
      },
      "source": [
        "we've prepared a little IMDB sample that you can use which is in CSV file. You can read it in with Pandas and there's negative or positive, the text of each movie review, and boolean of is it in the validation set or the training set."
      ]
    },
    {
      "cell_type": "code",
      "metadata": {
        "id": "Dxv_0AXT3sAh",
        "colab_type": "code",
        "colab": {}
      },
      "source": [
        "from fastai.collab import *\n",
        "from fastai.tabular import *\n",
        "# fastai.collab, fastai.tabular의 모든 module을 import한다. "
      ],
      "execution_count": 0,
      "outputs": []
    },
    {
      "cell_type": "markdown",
      "metadata": {
        "id": "DURtdR5c3sAl",
        "colab_type": "text"
      },
      "source": [
        "## Collaborative filtering example"
      ]
    },
    {
      "cell_type": "markdown",
      "metadata": {
        "id": "xVru0_ie3sAl",
        "colab_type": "text"
      },
      "source": [
        "`collab` models use data in a `DataFrame` of user, items, and ratings."
      ]
    },
    {
      "cell_type": "code",
      "metadata": {
        "id": "V7Vx2qUo3sAm",
        "colab_type": "code",
        "colab": {}
      },
      "source": [
        "user, item, title = 'userId','movieId','title'\n",
        "# collab models use data in a DataFrame of user, items, and ratings. 이들에 userId, movieId, title로 string 값을 부여하였음. "
      ],
      "execution_count": 0,
      "outputs": []
    },
    {
      "cell_type": "code",
      "metadata": {
        "id": "x4HK2LZL3sAo",
        "colab_type": "code",
        "outputId": "6ad94272-382a-4ddc-f3a8-9802113025c0",
        "colab": {
          "base_uri": "https://localhost:8080/",
          "height": 52
        }
      },
      "source": [
        "path = untar_data(URLs.ML_SAMPLE)\n",
        "path\n",
        "# /root/.fastai/data 경로 아래 movie_lens_sample folder을 생성, ratings.csv file을 download."
      ],
      "execution_count": 0,
      "outputs": [
        {
          "output_type": "stream",
          "text": [
            "Downloading http://files.fast.ai/data/examples/movie_lens_sample\n"
          ],
          "name": "stdout"
        },
        {
          "output_type": "display_data",
          "data": {
            "text/html": [
              ""
            ],
            "text/plain": [
              "<IPython.core.display.HTML object>"
            ]
          },
          "metadata": {
            "tags": []
          }
        },
        {
          "output_type": "execute_result",
          "data": {
            "text/plain": [
              "PosixPath('/root/.fastai/data/movie_lens_sample')"
            ]
          },
          "metadata": {
            "tags": []
          },
          "execution_count": 3
        }
      ]
    },
    {
      "cell_type": "code",
      "metadata": {
        "id": "yYjVzjUpaHlh",
        "colab_type": "code",
        "outputId": "2dcae9e5-7f71-44b4-ee14-31740cc76633",
        "colab": {
          "base_uri": "https://localhost:8080/",
          "height": 34
        }
      },
      "source": [
        "cd /root/.fastai/data/movie_lens_sample"
      ],
      "execution_count": 0,
      "outputs": [
        {
          "output_type": "stream",
          "text": [
            "/root/.fastai/data/movie_lens_sample\n"
          ],
          "name": "stdout"
        }
      ]
    },
    {
      "cell_type": "code",
      "metadata": {
        "id": "qVE2DBx_aPOA",
        "colab_type": "code",
        "outputId": "894139d6-8f19-491b-aedc-b1ad4975ef1d",
        "colab": {
          "base_uri": "https://localhost:8080/",
          "height": 34
        }
      },
      "source": [
        "ls"
      ],
      "execution_count": 0,
      "outputs": [
        {
          "output_type": "stream",
          "text": [
            "\u001b[0m\u001b[01;32mratings.csv\u001b[0m*\n"
          ],
          "name": "stdout"
        }
      ]
    },
    {
      "cell_type": "code",
      "metadata": {
        "id": "DU2auJUgaSOI",
        "colab_type": "code",
        "outputId": "60228a71-e9a0-4c02-e7af-3c15d02c43a0",
        "colab": {
          "base_uri": "https://localhost:8080/",
          "height": 34
        }
      },
      "source": [
        "cd /content"
      ],
      "execution_count": 0,
      "outputs": [
        {
          "output_type": "stream",
          "text": [
            "/content\n"
          ],
          "name": "stdout"
        }
      ]
    },
    {
      "cell_type": "code",
      "metadata": {
        "id": "K72yeQFi3sAr",
        "colab_type": "code",
        "outputId": "8e3eb730-f8a8-418b-bbba-274ffaafd139",
        "colab": {
          "base_uri": "https://localhost:8080/",
          "height": 197
        }
      },
      "source": [
        "ratings = pd.read_csv(path/'ratings.csv')\n",
        "ratings.head() \n",
        "# timestamp : 어느 시점에 데이터가 존재했다는 사실을 증명하기 위하여 특정 위치에 표시하는 시각. 여기선 일단 무시한다고 함. \n",
        "# rating : 영화 등급을 의미. \n",
        "# ratings 첫 5개 행을 보여줌. "
      ],
      "execution_count": 0,
      "outputs": [
        {
          "output_type": "execute_result",
          "data": {
            "text/html": [
              "<div>\n",
              "<style scoped>\n",
              "    .dataframe tbody tr th:only-of-type {\n",
              "        vertical-align: middle;\n",
              "    }\n",
              "\n",
              "    .dataframe tbody tr th {\n",
              "        vertical-align: top;\n",
              "    }\n",
              "\n",
              "    .dataframe thead th {\n",
              "        text-align: right;\n",
              "    }\n",
              "</style>\n",
              "<table border=\"1\" class=\"dataframe\">\n",
              "  <thead>\n",
              "    <tr style=\"text-align: right;\">\n",
              "      <th></th>\n",
              "      <th>userId</th>\n",
              "      <th>movieId</th>\n",
              "      <th>rating</th>\n",
              "      <th>timestamp</th>\n",
              "    </tr>\n",
              "  </thead>\n",
              "  <tbody>\n",
              "    <tr>\n",
              "      <th>0</th>\n",
              "      <td>73</td>\n",
              "      <td>1097</td>\n",
              "      <td>4.0</td>\n",
              "      <td>1255504951</td>\n",
              "    </tr>\n",
              "    <tr>\n",
              "      <th>1</th>\n",
              "      <td>561</td>\n",
              "      <td>924</td>\n",
              "      <td>3.5</td>\n",
              "      <td>1172695223</td>\n",
              "    </tr>\n",
              "    <tr>\n",
              "      <th>2</th>\n",
              "      <td>157</td>\n",
              "      <td>260</td>\n",
              "      <td>3.5</td>\n",
              "      <td>1291598691</td>\n",
              "    </tr>\n",
              "    <tr>\n",
              "      <th>3</th>\n",
              "      <td>358</td>\n",
              "      <td>1210</td>\n",
              "      <td>5.0</td>\n",
              "      <td>957481884</td>\n",
              "    </tr>\n",
              "    <tr>\n",
              "      <th>4</th>\n",
              "      <td>130</td>\n",
              "      <td>316</td>\n",
              "      <td>2.0</td>\n",
              "      <td>1138999234</td>\n",
              "    </tr>\n",
              "  </tbody>\n",
              "</table>\n",
              "</div>"
            ],
            "text/plain": [
              "   userId  movieId  rating   timestamp\n",
              "0      73     1097     4.0  1255504951\n",
              "1     561      924     3.5  1172695223\n",
              "2     157      260     3.5  1291598691\n",
              "3     358     1210     5.0   957481884\n",
              "4     130      316     2.0  1138999234"
            ]
          },
          "metadata": {
            "tags": []
          },
          "execution_count": 4
        }
      ]
    },
    {
      "cell_type": "code",
      "metadata": {
        "id": "_l6WJVEV-Csk",
        "colab_type": "code",
        "outputId": "40c5f825-9b20-457b-9e98-5b8e55c02117",
        "colab": {
          "base_uri": "https://localhost:8080/",
          "height": 34
        }
      },
      "source": [
        "len(ratings)\n",
        "# 영화 등급으로 6031개의 값이 있음. "
      ],
      "execution_count": 0,
      "outputs": [
        {
          "output_type": "execute_result",
          "data": {
            "text/plain": [
              "6031"
            ]
          },
          "metadata": {
            "tags": []
          },
          "execution_count": 5
        }
      ]
    },
    {
      "cell_type": "markdown",
      "metadata": {
        "id": "T-aNydr43sAt",
        "colab_type": "text"
      },
      "source": [
        "That's all we need to create and train a model:"
      ]
    },
    {
      "cell_type": "code",
      "metadata": {
        "id": "q0R5YncB3sAt",
        "colab_type": "code",
        "colab": {}
      },
      "source": [
        "data = CollabDataBunch.from_df(ratings, seed=42)\n",
        "# dataframe을 통해 CollabDataBunch object를 만들어서 data에 저장한다. \n",
        "# collaborative filtering을 위한 DataBunch임. from_df를 통해서만 object가 생성된다.  "
      ],
      "execution_count": 0,
      "outputs": []
    },
    {
      "cell_type": "code",
      "metadata": {
        "id": "-9MDtk9g3sAv",
        "colab_type": "code",
        "colab": {}
      },
      "source": [
        "y_range = [0, 5.5]\n",
        "# rating이 5인 경우가 빈번하기 때문에 y_range의 최대값을 조금 더 크게 설정하는 것.  "
      ],
      "execution_count": 0,
      "outputs": []
    },
    {
      "cell_type": "code",
      "metadata": {
        "id": "N-Be4CkJ3sAx",
        "colab_type": "code",
        "colab": {}
      },
      "source": [
        "learn = collab_learner(data, n_factors=50, y_range=y_range)\n",
        "# collaborative filtering를 위한 learner을 만들어 learn에 저장한다. \n",
        "\n",
        "# collaborative filtering에서 사용하는 factor의 갯수 = 50. \n",
        "# The n_factors parameter determines the size of our embeddings. \n",
        "# n_factors는 매트릭스의 너비임. 모델 구조 설계 수준에서의 결정임.  \n",
        "\n",
        "# y_range는 마지막 활성화 함수를 s function으로 만든다."
      ],
      "execution_count": 0,
      "outputs": []
    },
    {
      "cell_type": "code",
      "metadata": {
        "id": "0UdUtZi_-eia",
        "colab_type": "code",
        "outputId": "9d783281-2bbc-44a1-85a5-e54bba0abb6f",
        "colab": {
          "base_uri": "https://localhost:8080/",
          "height": 122
        }
      },
      "source": [
        "learn.model\n",
        "# about Embedding dot Bias : https://seing.tistory.com/3 https://towardsdatascience.com/collaborative-filtering-and-embeddings-part-1-63b00b9739ce"
      ],
      "execution_count": 0,
      "outputs": [
        {
          "output_type": "execute_result",
          "data": {
            "text/plain": [
              "EmbeddingDotBias(\n",
              "  (u_weight): Embedding(101, 50)\n",
              "  (i_weight): Embedding(101, 50)\n",
              "  (u_bias): Embedding(101, 1)\n",
              "  (i_bias): Embedding(101, 1)\n",
              ")"
            ]
          },
          "metadata": {
            "tags": []
          },
          "execution_count": 11
        }
      ]
    },
    {
      "cell_type": "markdown",
      "metadata": {
        "id": "jFEY55igbitt",
        "colab_type": "text"
      },
      "source": [
        "\n",
        "\n",
        "> **how does n_factor work in the notebook**\n",
        "\n",
        "\n",
        "collab_learner(data, n_factors:int=None, use_nn:bool=False, emb_szs:Dict[str, int]=None, layers:Collection[int]=None, ps:Collection[float]=None, emb_drop:float=0.0, y_range:OptRange=None, use_bn:bool=True, bn_final:bool=False, **learn_kwargs) \n",
        "\n",
        "More specifically, binds data with a model that is either an EmbeddingDotBias with n_factors if use_nn=False or a EmbeddingNN with emb_szs otherwise. In both cases the numbers of users and items will be inferred from the data, y_range can be specified in the kwargs and you can pass metrics or wd to the Learner constructor.\n",
        "\n",
        "\n",
        "> **EmbeddingDotBias** : Base dot model for collaborative filtering.\n",
        "\n",
        "Creates a simple model with Embedding weights and biases for n_users and n_items, with n_factors latent factors. Takes the dot product of the embeddings and adds the bias, then if y_range is specified, feed the result to a sigmoid rescaled to go from y_range[0] to y_range[1].\n",
        "\n"
      ]
    },
    {
      "cell_type": "markdown",
      "metadata": {
        "id": "ZkOaT_SGVqSe",
        "colab_type": "text"
      },
      "source": [
        "\n",
        "\n",
        " > **about embedding**\n",
        "\n",
        "\n",
        "추천 시스템을 만들기 위해서 사람들과 영화를 **embedding** 해야함. 여기서 embedding한다는 것은 사람이나 영화를 각각의 특징들을 나타낼 수 있는 **vector**로 나타낸다는 뜻임. 사람과 영화를 vector로 embedding함으로써 두 vector간의 연산을 통해 서로간의 **유사도**를 구할 수 있음. 유사도를 구하기 위한 연산으로는 dot product, euclidean distance, cosine similarity 등을 활용할 수 있음. \n",
        "\n",
        "참고 링크 : https://seing.tistory.com/3"
      ]
    },
    {
      "cell_type": "code",
      "metadata": {
        "id": "ae-gfllt3sA0",
        "colab_type": "code",
        "outputId": "77bed517-eeb7-4f8f-c918-e008b90004bf",
        "colab": {
          "base_uri": "https://localhost:8080/",
          "height": 137
        }
      },
      "source": [
        "learn.fit_one_cycle(3, 5e-3)"
      ],
      "execution_count": 0,
      "outputs": [
        {
          "output_type": "display_data",
          "data": {
            "text/html": [
              "<table border=\"1\" class=\"dataframe\">\n",
              "  <thead>\n",
              "    <tr style=\"text-align: left;\">\n",
              "      <th>epoch</th>\n",
              "      <th>train_loss</th>\n",
              "      <th>valid_loss</th>\n",
              "      <th>time</th>\n",
              "    </tr>\n",
              "  </thead>\n",
              "  <tbody>\n",
              "    <tr>\n",
              "      <td>0</td>\n",
              "      <td>1.614029</td>\n",
              "      <td>0.956510</td>\n",
              "      <td>00:01</td>\n",
              "    </tr>\n",
              "    <tr>\n",
              "      <td>1</td>\n",
              "      <td>0.836646</td>\n",
              "      <td>0.678357</td>\n",
              "      <td>00:00</td>\n",
              "    </tr>\n",
              "    <tr>\n",
              "      <td>2</td>\n",
              "      <td>0.636150</td>\n",
              "      <td>0.670362</td>\n",
              "      <td>00:00</td>\n",
              "    </tr>\n",
              "  </tbody>\n",
              "</table>"
            ],
            "text/plain": [
              "<IPython.core.display.HTML object>"
            ]
          },
          "metadata": {
            "tags": []
          }
        }
      ]
    },
    {
      "cell_type": "code",
      "metadata": {
        "id": "WaPJg1mTIewI",
        "colab_type": "code",
        "outputId": "f6ab7884-5fab-4830-fc77-084c073233a2",
        "colab": {
          "base_uri": "https://localhost:8080/",
          "height": 142
        }
      },
      "source": [
        "learn.lr_find()"
      ],
      "execution_count": 0,
      "outputs": [
        {
          "output_type": "display_data",
          "data": {
            "text/html": [
              "\n",
              "    <div>\n",
              "        <style>\n",
              "            /* Turns off some styling */\n",
              "            progress {\n",
              "                /* gets rid of default border in Firefox and Opera. */\n",
              "                border: none;\n",
              "                /* Needs to be in here for Safari polyfill so background images work as expected. */\n",
              "                background-size: auto;\n",
              "            }\n",
              "            .progress-bar-interrupted, .progress-bar-interrupted::-webkit-progress-bar {\n",
              "                background: #F44336;\n",
              "            }\n",
              "        </style>\n",
              "      <progress value='1' class='' max='2', style='width:300px; height:20px; vertical-align: middle;'></progress>\n",
              "      50.00% [1/2 00:00<00:00]\n",
              "    </div>\n",
              "    \n",
              "<table border=\"1\" class=\"dataframe\">\n",
              "  <thead>\n",
              "    <tr style=\"text-align: left;\">\n",
              "      <th>epoch</th>\n",
              "      <th>train_loss</th>\n",
              "      <th>valid_loss</th>\n",
              "      <th>time</th>\n",
              "    </tr>\n",
              "  </thead>\n",
              "  <tbody>\n",
              "    <tr>\n",
              "      <td>0</td>\n",
              "      <td>0.571646</td>\n",
              "      <td>#na#</td>\n",
              "      <td>00:00</td>\n",
              "    </tr>\n",
              "  </tbody>\n",
              "</table><p>\n",
              "\n",
              "    <div>\n",
              "        <style>\n",
              "            /* Turns off some styling */\n",
              "            progress {\n",
              "                /* gets rid of default border in Firefox and Opera. */\n",
              "                border: none;\n",
              "                /* Needs to be in here for Safari polyfill so background images work as expected. */\n",
              "                background-size: auto;\n",
              "            }\n",
              "            .progress-bar-interrupted, .progress-bar-interrupted::-webkit-progress-bar {\n",
              "                background: #F44336;\n",
              "            }\n",
              "        </style>\n",
              "      <progress value='14' class='' max='75', style='width:300px; height:20px; vertical-align: middle;'></progress>\n",
              "      18.67% [14/75 00:00<00:00 1.0927]\n",
              "    </div>\n",
              "    "
            ],
            "text/plain": [
              "<IPython.core.display.HTML object>"
            ]
          },
          "metadata": {
            "tags": []
          }
        },
        {
          "output_type": "stream",
          "text": [
            "LR Finder is complete, type {learner_name}.recorder.plot() to see the graph.\n"
          ],
          "name": "stdout"
        }
      ]
    },
    {
      "cell_type": "markdown",
      "metadata": {
        "id": "X-4dkCH-KE1L",
        "colab_type": "text"
      },
      "source": [
        "\n",
        "\n",
        "> lr_find()에 대해서 다시 알게 됨.\n",
        "\n",
        "\n",
        "we choose a value that is approximately in the middle of the sharpest downward slope. Don't just pick the minimum value from the plot! \n",
        "\n",
        "graph에서 가장 가파른 하향 경사에 있는 중간값을 learning rate로 고르는 것이었음.\n",
        "\n",
        "\n",
        "> 조교님 코멘트 \n",
        "\n",
        "\n",
        "\n",
        "learning rate와 cycle 방법을 이해하기 위해 : https://arxiv.org/abs/1506.01186\n",
        "\n",
        "https://docs.fast.ai/callbacks.one_cycle.html#What-is-1cycle?\n"
      ]
    },
    {
      "cell_type": "code",
      "metadata": {
        "id": "ZwFqBsg3I8Bd",
        "colab_type": "code",
        "outputId": "0c6f742a-a784-4c1f-96b5-9c47aadad979",
        "colab": {
          "base_uri": "https://localhost:8080/",
          "height": 279
        }
      },
      "source": [
        "learn.recorder.plot()"
      ],
      "execution_count": 0,
      "outputs": [
        {
          "output_type": "display_data",
          "data": {
            "image/png": "[encoded data removed]",
            "text/plain": [
              "<Figure size 432x288 with 1 Axes>"
            ]
          },
          "metadata": {
            "tags": []
          }
        }
      ]
    },
    {
      "cell_type": "markdown",
      "metadata": {
        "id": "VOs50P5n3sA2",
        "colab_type": "text"
      },
      "source": [
        "## Movielens 100k"
      ]
    },
    {
      "cell_type": "markdown",
      "metadata": {
        "id": "TsBxg5dy3sA2",
        "colab_type": "text"
      },
      "source": [
        "Let's try with the full Movielens 100k data dataset, available from http://files.grouplens.org/datasets/movielens/ml-100k.zip \n",
        "\n",
        "MovieLense라는 영화 추천 웹사이트의 데이터를 샘플 평점 데이터로 제공.\n",
        "\n",
        "\n",
        "> **ml-100k 다운로드 방법** \n",
        "\n",
        "\n",
        "(1) 위 링크를 통해 zip 파일을 구글 드라이브에 저장한다.\n",
        "\n",
        "(2) cp command를 통해 zip 파일을 원하는 경로(/root/.fastai/data)로 이동(사실 복사한 것임)한다. 그럼 /root/.fastai/data/ml-100k.zip이 생성이 되겠쥬.\n",
        "\n",
        "(3) unzip command를 통해 zip 파일을 푼다.(ex4-planet 참고..) 그럼 /root/.fastai/data/ml-100k이 생성이 되겠쥬.\n",
        "\n",
        "(3) 아래에선 ~/ml-100k/u.data 를 사용하는 듯 합니당.. \n",
        "\n",
        "(4) 왜인지는 모르겠는데 경로설정 정신 똑바로 차리고 해야됨. \n",
        "\n",
        "이걸 통해 뜬금없이 알게된 사실 : 경로에는 .fastai 앞에 \\ 안해줘도 된당. mkdir 할 때나 \\.kaggle 이런 식으로 하는 것 같당."
      ]
    },
    {
      "cell_type": "code",
      "metadata": {
        "id": "1Ky2YBHy3sA2",
        "colab_type": "code",
        "colab": {}
      },
      "source": [
        "path=Config.data_path()#/'ml-100k'\n",
        "# data folder 바로 밑에 ml-100k.zip file을 unzip하기 위함. \n",
        "# 이렇게 하지 않으면 data/ml-100k/ml-100k folder 아래 unzip되어 file들이 생성되었음. "
      ],
      "execution_count": 0,
      "outputs": []
    },
    {
      "cell_type": "code",
      "metadata": {
        "id": "QdOvjazYb7yL",
        "colab_type": "code",
        "outputId": "e5cf695c-1233-45fe-a842-fffb27978c8c",
        "colab": {
          "base_uri": "https://localhost:8080/",
          "height": 34
        }
      },
      "source": [
        "path"
      ],
      "execution_count": 0,
      "outputs": [
        {
          "output_type": "execute_result",
          "data": {
            "text/plain": [
              "PosixPath('/root/.fastai/data')"
            ]
          },
          "metadata": {
            "tags": []
          },
          "execution_count": 15
        }
      ]
    },
    {
      "cell_type": "code",
      "metadata": {
        "id": "9BvCHyH9dCsT",
        "colab_type": "code",
        "outputId": "5a8e8b6f-2a69-43b9-cb10-e6e028a5742e",
        "colab": {
          "base_uri": "https://localhost:8080/",
          "height": 124
        }
      },
      "source": [
        "from google.colab import drive\n",
        "drive.mount('/content/drive')"
      ],
      "execution_count": 0,
      "outputs": [
        {
          "output_type": "stream",
          "text": [
            "Go to this URL in a browser: https://accounts.google.com/o/oauth2/auth?client_id=947318989803-6bn6qk8qdgf4n4g3pfee6491hc0brc4i.apps.googleusercontent.com&redirect_uri=urn%3aietf%3awg%3aoauth%3a2.0%3aoob&response_type=code&scope=email%20https%3a%2f%2fwww.googleapis.com%2fauth%2fdocs.test%20https%3a%2f%2fwww.googleapis.com%2fauth%2fdrive%20https%3a%2f%2fwww.googleapis.com%2fauth%2fdrive.photos.readonly%20https%3a%2f%2fwww.googleapis.com%2fauth%2fpeopleapi.readonly\n",
            "\n",
            "Enter your authorization code:\n",
            "··········\n",
            "Mounted at /content/drive\n"
          ],
          "name": "stdout"
        }
      ]
    },
    {
      "cell_type": "code",
      "metadata": {
        "id": "1dVHDzJ2dLOg",
        "colab_type": "code",
        "colab": {}
      },
      "source": [
        "! cp /content/drive/\"My Drive\"/\"required files for ML\"/ml-100k.zip /root/.fastai/data"
      ],
      "execution_count": 0,
      "outputs": []
    },
    {
      "cell_type": "code",
      "metadata": {
        "id": "xYDn0Di2dwZB",
        "colab_type": "code",
        "colab": {}
      },
      "source": [
        "! unzip -q -n {path}/ml-100k.zip -d {path}"
      ],
      "execution_count": 0,
      "outputs": []
    },
    {
      "cell_type": "code",
      "metadata": {
        "id": "k-DnWaS0__SW",
        "colab_type": "code",
        "outputId": "178ec81c-5e22-43a2-cf5c-b41ec920d5fd",
        "colab": {
          "base_uri": "https://localhost:8080/",
          "height": 34
        }
      },
      "source": [
        "cd /root/.fastai/data"
      ],
      "execution_count": 0,
      "outputs": [
        {
          "output_type": "stream",
          "text": [
            "/root/.fastai/data\n"
          ],
          "name": "stdout"
        }
      ]
    },
    {
      "cell_type": "code",
      "metadata": {
        "id": "hfve5sEpcDxp",
        "colab_type": "code",
        "outputId": "543987d0-0cbf-4b2c-ee59-bfe65b677f82",
        "colab": {
          "base_uri": "https://localhost:8080/",
          "height": 34
        }
      },
      "source": [
        "ls"
      ],
      "execution_count": 0,
      "outputs": [
        {
          "output_type": "stream",
          "text": [
            "\u001b[0m\u001b[01;34mml-100k\u001b[0m/  ml-100k.zip  \u001b[01;34mmovie_lens_sample\u001b[0m/  movie_lens_sample.tgz\n"
          ],
          "name": "stdout"
        }
      ]
    },
    {
      "cell_type": "code",
      "metadata": {
        "id": "WlFbWK6HhSHB",
        "colab_type": "code",
        "colab": {}
      },
      "source": [
        "# csv 파일이 궁금해진 나는 이거를 직접 보기로 하였당.\n",
        "! cp /root/.fastai/data/ml-100k/u.data /content/drive/\"My Drive\"\n",
        "! cp /root/.fastai/data/ml-100k/u.item /content/drive/\"My Drive\"\n",
        "\n",
        "\"\"\"\n",
        "u.data는 ratings command의 output과 동일했고, \n",
        "u.item은 1|Toy Story (1995)|01-Jan-1995||http://us.imdb.com/M/title-exact?Toy%20Story%20(1995)|0|0|0|1|1|1|0|0|0|0|0|0|0|0|0|0|0|0|0\n",
        "이런 식으로 tab(delimiter)으로 문자들이 구분되어있는 것을 볼 수 있었다. \n",
        "실제 data에선 title, date 등 columns가 정해져있진 않았다.(u.data도 마찬가지.) pd.read_csv function의 names는 columns의 name을 정하는 듯 하당. \n",
        "\"\"\""
      ],
      "execution_count": 0,
      "outputs": []
    },
    {
      "cell_type": "code",
      "metadata": {
        "id": "zifYRf-wMKVJ",
        "colab_type": "code",
        "colab": {}
      },
      "source": [
        "path=Config.data_path()/'ml-100k'\n",
        "# ml-100k folder 아래 file들을 다루기 위해 path를 재설정하였음. "
      ],
      "execution_count": 0,
      "outputs": []
    },
    {
      "cell_type": "code",
      "metadata": {
        "id": "67lZ6x8i3sA4",
        "colab_type": "code",
        "outputId": "beba2e82-dfec-4cab-d33d-b163cffdf58a",
        "colab": {
          "base_uri": "https://localhost:8080/",
          "height": 197
        }
      },
      "source": [
        "ratings = pd.read_csv(path/'u.data', delimiter='\\t', header=None,\n",
        "                      names=[user, item, 'rating', 'timestamp'])\n",
        "ratings.head()\n",
        "# 데이터의 분리 문자(delimiter)는 tab(\\t)이다. \n",
        "\n",
        "# header=None : headr 행이 없다는 것을 알린 후,\n",
        "# names=[x1, x2, x3, x4] : headr 행이 없기 때문에 header의 이름도 정해준다. . "
      ],
      "execution_count": 0,
      "outputs": [
        {
          "output_type": "execute_result",
          "data": {
            "text/html": [
              "<div>\n",
              "<style scoped>\n",
              "    .dataframe tbody tr th:only-of-type {\n",
              "        vertical-align: middle;\n",
              "    }\n",
              "\n",
              "    .dataframe tbody tr th {\n",
              "        vertical-align: top;\n",
              "    }\n",
              "\n",
              "    .dataframe thead th {\n",
              "        text-align: right;\n",
              "    }\n",
              "</style>\n",
              "<table border=\"1\" class=\"dataframe\">\n",
              "  <thead>\n",
              "    <tr style=\"text-align: right;\">\n",
              "      <th></th>\n",
              "      <th>userId</th>\n",
              "      <th>movieId</th>\n",
              "      <th>rating</th>\n",
              "      <th>timestamp</th>\n",
              "    </tr>\n",
              "  </thead>\n",
              "  <tbody>\n",
              "    <tr>\n",
              "      <th>0</th>\n",
              "      <td>196</td>\n",
              "      <td>242</td>\n",
              "      <td>3</td>\n",
              "      <td>881250949</td>\n",
              "    </tr>\n",
              "    <tr>\n",
              "      <th>1</th>\n",
              "      <td>186</td>\n",
              "      <td>302</td>\n",
              "      <td>3</td>\n",
              "      <td>891717742</td>\n",
              "    </tr>\n",
              "    <tr>\n",
              "      <th>2</th>\n",
              "      <td>22</td>\n",
              "      <td>377</td>\n",
              "      <td>1</td>\n",
              "      <td>878887116</td>\n",
              "    </tr>\n",
              "    <tr>\n",
              "      <th>3</th>\n",
              "      <td>244</td>\n",
              "      <td>51</td>\n",
              "      <td>2</td>\n",
              "      <td>880606923</td>\n",
              "    </tr>\n",
              "    <tr>\n",
              "      <th>4</th>\n",
              "      <td>166</td>\n",
              "      <td>346</td>\n",
              "      <td>1</td>\n",
              "      <td>886397596</td>\n",
              "    </tr>\n",
              "  </tbody>\n",
              "</table>\n",
              "</div>"
            ],
            "text/plain": [
              "   userId  movieId  rating  timestamp\n",
              "0     196      242       3  881250949\n",
              "1     186      302       3  891717742\n",
              "2      22      377       1  878887116\n",
              "3     244       51       2  880606923\n",
              "4     166      346       1  886397596"
            ]
          },
          "metadata": {
            "tags": []
          },
          "execution_count": 26
        }
      ]
    },
    {
      "cell_type": "code",
      "metadata": {
        "id": "s7qCsIbm3sA9",
        "colab_type": "code",
        "outputId": "7dff67a8-7aea-4119-f594-33de24316caf",
        "colab": {
          "base_uri": "https://localhost:8080/",
          "height": 34
        }
      },
      "source": [
        "len(ratings)\n",
        "# ratings의 행의 갯수가 10,000개임. 데이터 갯수가 10,000개를 의미한다. "
      ],
      "execution_count": 0,
      "outputs": [
        {
          "output_type": "execute_result",
          "data": {
            "text/plain": [
              "100000"
            ]
          },
          "metadata": {
            "tags": []
          },
          "execution_count": 27
        }
      ]
    },
    {
      "cell_type": "code",
      "metadata": {
        "id": "IX-E8pwo3sA6",
        "colab_type": "code",
        "outputId": "ceb8a016-d5ad-4f21-ccbb-e3f8f6b0ff41",
        "colab": {
          "base_uri": "https://localhost:8080/",
          "height": 197
        }
      },
      "source": [
        "movies = pd.read_csv(path/'u.item',  delimiter='|', encoding='latin-1', header=None,\n",
        "                    names=[item, 'title', 'date', 'N', 'url', *[f'g{i}' for i in range(19)]])\n",
        "movies.head()\n",
        "\n",
        "# g는 유저가 rating을 했는지 표현한 거고, N은 genre(장르)를 표현하는데 NaN은 장르가 없다는 것을 보여준다. \n",
        "# encoding='latni-1' : 이 command를 삭제하면 오류가 발생함. 파이썬은 유니 코드를 표준으로 사용하고 있지만 영어를 기준으로 한 비유니 코드의 경우 'latin-1'을 설정해주어야 한다. "
      ],
      "execution_count": 0,
      "outputs": [
        {
          "output_type": "execute_result",
          "data": {
            "text/html": [
              "<div>\n",
              "<style scoped>\n",
              "    .dataframe tbody tr th:only-of-type {\n",
              "        vertical-align: middle;\n",
              "    }\n",
              "\n",
              "    .dataframe tbody tr th {\n",
              "        vertical-align: top;\n",
              "    }\n",
              "\n",
              "    .dataframe thead th {\n",
              "        text-align: right;\n",
              "    }\n",
              "</style>\n",
              "<table border=\"1\" class=\"dataframe\">\n",
              "  <thead>\n",
              "    <tr style=\"text-align: right;\">\n",
              "      <th></th>\n",
              "      <th>movieId</th>\n",
              "      <th>title</th>\n",
              "      <th>date</th>\n",
              "      <th>N</th>\n",
              "      <th>url</th>\n",
              "      <th>g0</th>\n",
              "      <th>g1</th>\n",
              "      <th>g2</th>\n",
              "      <th>g3</th>\n",
              "      <th>g4</th>\n",
              "      <th>g5</th>\n",
              "      <th>g6</th>\n",
              "      <th>g7</th>\n",
              "      <th>g8</th>\n",
              "      <th>g9</th>\n",
              "      <th>g10</th>\n",
              "      <th>g11</th>\n",
              "      <th>g12</th>\n",
              "      <th>g13</th>\n",
              "      <th>g14</th>\n",
              "      <th>g15</th>\n",
              "      <th>g16</th>\n",
              "      <th>g17</th>\n",
              "      <th>g18</th>\n",
              "    </tr>\n",
              "  </thead>\n",
              "  <tbody>\n",
              "    <tr>\n",
              "      <th>0</th>\n",
              "      <td>1</td>\n",
              "      <td>Toy Story (1995)</td>\n",
              "      <td>01-Jan-1995</td>\n",
              "      <td>NaN</td>\n",
              "      <td>http://us.imdb.com/M/title-exact?Toy%20Story%2...</td>\n",
              "      <td>0</td>\n",
              "      <td>0</td>\n",
              "      <td>0</td>\n",
              "      <td>1</td>\n",
              "      <td>1</td>\n",
              "      <td>1</td>\n",
              "      <td>0</td>\n",
              "      <td>0</td>\n",
              "      <td>0</td>\n",
              "      <td>0</td>\n",
              "      <td>0</td>\n",
              "      <td>0</td>\n",
              "      <td>0</td>\n",
              "      <td>0</td>\n",
              "      <td>0</td>\n",
              "      <td>0</td>\n",
              "      <td>0</td>\n",
              "      <td>0</td>\n",
              "      <td>0</td>\n",
              "    </tr>\n",
              "    <tr>\n",
              "      <th>1</th>\n",
              "      <td>2</td>\n",
              "      <td>GoldenEye (1995)</td>\n",
              "      <td>01-Jan-1995</td>\n",
              "      <td>NaN</td>\n",
              "      <td>http://us.imdb.com/M/title-exact?GoldenEye%20(...</td>\n",
              "      <td>0</td>\n",
              "      <td>1</td>\n",
              "      <td>1</td>\n",
              "      <td>0</td>\n",
              "      <td>0</td>\n",
              "      <td>0</td>\n",
              "      <td>0</td>\n",
              "      <td>0</td>\n",
              "      <td>0</td>\n",
              "      <td>0</td>\n",
              "      <td>0</td>\n",
              "      <td>0</td>\n",
              "      <td>0</td>\n",
              "      <td>0</td>\n",
              "      <td>0</td>\n",
              "      <td>0</td>\n",
              "      <td>1</td>\n",
              "      <td>0</td>\n",
              "      <td>0</td>\n",
              "    </tr>\n",
              "    <tr>\n",
              "      <th>2</th>\n",
              "      <td>3</td>\n",
              "      <td>Four Rooms (1995)</td>\n",
              "      <td>01-Jan-1995</td>\n",
              "      <td>NaN</td>\n",
              "      <td>http://us.imdb.com/M/title-exact?Four%20Rooms%...</td>\n",
              "      <td>0</td>\n",
              "      <td>0</td>\n",
              "      <td>0</td>\n",
              "      <td>0</td>\n",
              "      <td>0</td>\n",
              "      <td>0</td>\n",
              "      <td>0</td>\n",
              "      <td>0</td>\n",
              "      <td>0</td>\n",
              "      <td>0</td>\n",
              "      <td>0</td>\n",
              "      <td>0</td>\n",
              "      <td>0</td>\n",
              "      <td>0</td>\n",
              "      <td>0</td>\n",
              "      <td>0</td>\n",
              "      <td>1</td>\n",
              "      <td>0</td>\n",
              "      <td>0</td>\n",
              "    </tr>\n",
              "    <tr>\n",
              "      <th>3</th>\n",
              "      <td>4</td>\n",
              "      <td>Get Shorty (1995)</td>\n",
              "      <td>01-Jan-1995</td>\n",
              "      <td>NaN</td>\n",
              "      <td>http://us.imdb.com/M/title-exact?Get%20Shorty%...</td>\n",
              "      <td>0</td>\n",
              "      <td>1</td>\n",
              "      <td>0</td>\n",
              "      <td>0</td>\n",
              "      <td>0</td>\n",
              "      <td>1</td>\n",
              "      <td>0</td>\n",
              "      <td>0</td>\n",
              "      <td>1</td>\n",
              "      <td>0</td>\n",
              "      <td>0</td>\n",
              "      <td>0</td>\n",
              "      <td>0</td>\n",
              "      <td>0</td>\n",
              "      <td>0</td>\n",
              "      <td>0</td>\n",
              "      <td>0</td>\n",
              "      <td>0</td>\n",
              "      <td>0</td>\n",
              "    </tr>\n",
              "    <tr>\n",
              "      <th>4</th>\n",
              "      <td>5</td>\n",
              "      <td>Copycat (1995)</td>\n",
              "      <td>01-Jan-1995</td>\n",
              "      <td>NaN</td>\n",
              "      <td>http://us.imdb.com/M/title-exact?Copycat%20(1995)</td>\n",
              "      <td>0</td>\n",
              "      <td>0</td>\n",
              "      <td>0</td>\n",
              "      <td>0</td>\n",
              "      <td>0</td>\n",
              "      <td>0</td>\n",
              "      <td>1</td>\n",
              "      <td>0</td>\n",
              "      <td>1</td>\n",
              "      <td>0</td>\n",
              "      <td>0</td>\n",
              "      <td>0</td>\n",
              "      <td>0</td>\n",
              "      <td>0</td>\n",
              "      <td>0</td>\n",
              "      <td>0</td>\n",
              "      <td>1</td>\n",
              "      <td>0</td>\n",
              "      <td>0</td>\n",
              "    </tr>\n",
              "  </tbody>\n",
              "</table>\n",
              "</div>"
            ],
            "text/plain": [
              "   movieId              title         date   N  ... g15  g16  g17  g18\n",
              "0        1   Toy Story (1995)  01-Jan-1995 NaN  ...   0    0    0    0\n",
              "1        2   GoldenEye (1995)  01-Jan-1995 NaN  ...   0    1    0    0\n",
              "2        3  Four Rooms (1995)  01-Jan-1995 NaN  ...   0    1    0    0\n",
              "3        4  Get Shorty (1995)  01-Jan-1995 NaN  ...   0    0    0    0\n",
              "4        5     Copycat (1995)  01-Jan-1995 NaN  ...   0    1    0    0\n",
              "\n",
              "[5 rows x 24 columns]"
            ]
          },
          "metadata": {
            "tags": []
          },
          "execution_count": 28
        }
      ]
    },
    {
      "cell_type": "markdown",
      "metadata": {
        "id": "1_ZzzReR8YYO",
        "colab_type": "text"
      },
      "source": [
        "\n",
        "\n",
        "> 조교님 코멘트\n",
        "\n",
        "\n",
        "g는 유저가 rating을 했는지 표현하는거고 N은 genre 표현하는데 NaN은 \"no genre listed\" 뜻"
      ]
    },
    {
      "cell_type": "code",
      "metadata": {
        "id": "FIqOQvBA3sBA",
        "colab_type": "code",
        "outputId": "246ed46b-8ee6-40c4-9840-ed88a3cb9c4e",
        "colab": {
          "base_uri": "https://localhost:8080/",
          "height": 197
        }
      },
      "source": [
        "rating_movie = ratings.merge(movies[[item, title]]) # merge 함수로 dataframe 합칠 수 있음. item(movieId), title을 합침.  \n",
        "rating_movie.head()\n",
        "\n",
        "# rating's header names = [user, item, 'rating', 'timestamp'])\n",
        "# movie's header names = [item, 'title', 'date', 'N', 'url', *[f'g{i}' for i in range(19)]]\n",
        "\n",
        "# title과 rating을 함께 보여주고 싶은 것임. "
      ],
      "execution_count": 0,
      "outputs": [
        {
          "output_type": "execute_result",
          "data": {
            "text/html": [
              "<div>\n",
              "<style scoped>\n",
              "    .dataframe tbody tr th:only-of-type {\n",
              "        vertical-align: middle;\n",
              "    }\n",
              "\n",
              "    .dataframe tbody tr th {\n",
              "        vertical-align: top;\n",
              "    }\n",
              "\n",
              "    .dataframe thead th {\n",
              "        text-align: right;\n",
              "    }\n",
              "</style>\n",
              "<table border=\"1\" class=\"dataframe\">\n",
              "  <thead>\n",
              "    <tr style=\"text-align: right;\">\n",
              "      <th></th>\n",
              "      <th>userId</th>\n",
              "      <th>movieId</th>\n",
              "      <th>rating</th>\n",
              "      <th>timestamp</th>\n",
              "      <th>title</th>\n",
              "    </tr>\n",
              "  </thead>\n",
              "  <tbody>\n",
              "    <tr>\n",
              "      <th>0</th>\n",
              "      <td>196</td>\n",
              "      <td>242</td>\n",
              "      <td>3</td>\n",
              "      <td>881250949</td>\n",
              "      <td>Kolya (1996)</td>\n",
              "    </tr>\n",
              "    <tr>\n",
              "      <th>1</th>\n",
              "      <td>63</td>\n",
              "      <td>242</td>\n",
              "      <td>3</td>\n",
              "      <td>875747190</td>\n",
              "      <td>Kolya (1996)</td>\n",
              "    </tr>\n",
              "    <tr>\n",
              "      <th>2</th>\n",
              "      <td>226</td>\n",
              "      <td>242</td>\n",
              "      <td>5</td>\n",
              "      <td>883888671</td>\n",
              "      <td>Kolya (1996)</td>\n",
              "    </tr>\n",
              "    <tr>\n",
              "      <th>3</th>\n",
              "      <td>154</td>\n",
              "      <td>242</td>\n",
              "      <td>3</td>\n",
              "      <td>879138235</td>\n",
              "      <td>Kolya (1996)</td>\n",
              "    </tr>\n",
              "    <tr>\n",
              "      <th>4</th>\n",
              "      <td>306</td>\n",
              "      <td>242</td>\n",
              "      <td>5</td>\n",
              "      <td>876503793</td>\n",
              "      <td>Kolya (1996)</td>\n",
              "    </tr>\n",
              "  </tbody>\n",
              "</table>\n",
              "</div>"
            ],
            "text/plain": [
              "   userId  movieId  rating  timestamp         title\n",
              "0     196      242       3  881250949  Kolya (1996)\n",
              "1      63      242       3  875747190  Kolya (1996)\n",
              "2     226      242       5  883888671  Kolya (1996)\n",
              "3     154      242       3  879138235  Kolya (1996)\n",
              "4     306      242       5  876503793  Kolya (1996)"
            ]
          },
          "metadata": {
            "tags": []
          },
          "execution_count": 29
        }
      ]
    },
    {
      "cell_type": "code",
      "metadata": {
        "id": "WlOUpjap3sBC",
        "colab_type": "code",
        "colab": {}
      },
      "source": [
        "data = CollabDataBunch.from_df(rating_movie, seed=42, valid_pct=0.1, item_name=title)\n",
        "# rating_movie를 통해 CollabDataBunch object를 생성한다. valid의 percentage는 10%로 할당하였음. "
      ],
      "execution_count": 0,
      "outputs": []
    },
    {
      "cell_type": "code",
      "metadata": {
        "id": "-G1-vqy5fSly",
        "colab_type": "code",
        "outputId": "47fa5f2d-fb50-4d5d-ee0a-717f446d2f6d",
        "colab": {
          "base_uri": "https://localhost:8080/",
          "height": 314
        }
      },
      "source": [
        "data\n",
        "# 협업 필터링 데이터의 기본 설정에서(CollabDataBunch) 첫 번째 열은 userId, 두 번째 열은 movieId, 세 번째 열은 rating임. (원래 그리 설정되어있음.)"
      ],
      "execution_count": 0,
      "outputs": [
        {
          "output_type": "execute_result",
          "data": {
            "text/plain": [
              "TabularDataBunch;\n",
              "\n",
              "Train: LabelList (90000 items)\n",
              "x: CollabList\n",
              "userId 196; title Kolya (1996); ,userId 63; title Kolya (1996); ,userId 226; title Kolya (1996); ,userId 154; title Kolya (1996); ,userId 306; title Kolya (1996); \n",
              "y: FloatList\n",
              "3.0,3.0,5.0,3.0,5.0\n",
              "Path: .;\n",
              "\n",
              "Valid: LabelList (10000 items)\n",
              "x: CollabList\n",
              "userId 498; title Casino (1995); ,userId 642; title Pocahontas (1995); ,userId 58; title 2001: A Space Odyssey (1968); ,userId 495; title Cat People (1982); ,userId 618; title Philadelphia (1993); \n",
              "y: FloatList\n",
              "3.0,5.0,4.0,3.0,3.0\n",
              "Path: .;\n",
              "\n",
              "Test: None"
            ]
          },
          "metadata": {
            "tags": []
          },
          "execution_count": 32
        }
      ]
    },
    {
      "cell_type": "markdown",
      "metadata": {
        "id": "lKNEsG1S8dvu",
        "colab_type": "text"
      },
      "source": [
        "\n",
        "\n",
        "> 조교님 코멘트\n",
        "\n",
        "\n",
        "floatlist = rating\n",
        "\n",
        "target = rating\n",
        "\n",
        "movieid와 title 합친 이유 : 보기 더 편함\n",
        "\n",
        "lesson 5에 설명 더 있음"
      ]
    },
    {
      "cell_type": "code",
      "metadata": {
        "id": "bJT53JLt3sBD",
        "colab_type": "code",
        "outputId": "f47a79eb-8a60-4460-d05c-c59f74c9bdd2",
        "colab": {
          "base_uri": "https://localhost:8080/",
          "height": 197
        }
      },
      "source": [
        "data.show_batch() "
      ],
      "execution_count": 0,
      "outputs": [
        {
          "output_type": "display_data",
          "data": {
            "text/html": [
              "<table border=\"1\" class=\"dataframe\">\n",
              "  <thead>\n",
              "    <tr style=\"text-align: right;\">\n",
              "      <th>userId</th>\n",
              "      <th>title</th>\n",
              "      <th>target</th>\n",
              "    </tr>\n",
              "  </thead>\n",
              "  <tbody>\n",
              "    <tr>\n",
              "      <td>486</td>\n",
              "      <td>2 Days in the Valley (1996)</td>\n",
              "      <td>4.0</td>\n",
              "    </tr>\n",
              "    <tr>\n",
              "      <td>344</td>\n",
              "      <td>Apt Pupil (1998)</td>\n",
              "      <td>5.0</td>\n",
              "    </tr>\n",
              "    <tr>\n",
              "      <td>660</td>\n",
              "      <td>To Wong Foo, Thanks for Everything! Julie Newmar (1995)</td>\n",
              "      <td>2.0</td>\n",
              "    </tr>\n",
              "    <tr>\n",
              "      <td>528</td>\n",
              "      <td>Face/Off (1997)</td>\n",
              "      <td>4.0</td>\n",
              "    </tr>\n",
              "    <tr>\n",
              "      <td>343</td>\n",
              "      <td>Philadelphia (1993)</td>\n",
              "      <td>5.0</td>\n",
              "    </tr>\n",
              "  </tbody>\n",
              "</table>"
            ],
            "text/plain": [
              "<IPython.core.display.HTML object>"
            ]
          },
          "metadata": {
            "tags": []
          }
        }
      ]
    },
    {
      "cell_type": "markdown",
      "metadata": {
        "id": "hIgEx2EH8jmz",
        "colab_type": "text"
      },
      "source": [
        "\n",
        "\n",
        "> 조교님 코멘트\n",
        "\n",
        "\n",
        "CollabDatabunch = databunch for collaborative filtering, 자동으로 잡히는 것 맞아요"
      ]
    },
    {
      "cell_type": "code",
      "metadata": {
        "id": "AP9CFoEj3sBF",
        "colab_type": "code",
        "colab": {}
      },
      "source": [
        "y_range = [0, 5.5]\n",
        "# rating이 5인 경우가 빈번하기 때문에 y_range의 최대값을 조금 더 크게 설정하는 것. "
      ],
      "execution_count": 0,
      "outputs": []
    },
    {
      "cell_type": "code",
      "metadata": {
        "id": "4ti_xx3A3sBH",
        "colab_type": "code",
        "colab": {}
      },
      "source": [
        "learn = collab_learner(data, n_factors=40, y_range=y_range, wd=1e-1) \n",
        "# 협업 필터링을 위한 학습자를 만들어서 learn에 저장한다.  \n",
        "# wd : weight decay for epochs. 정규화 방법. \n",
        "# y_range는 마지막 활성화 함수를 s function으로 만든다. \n",
        "# n_factors는 매트릭스의 너비임. 모델 구조 설계 수준에서의 결정임. 40이 높은 성능을 보였음. (경험적인 듯.) "
      ],
      "execution_count": 0,
      "outputs": []
    },
    {
      "cell_type": "code",
      "metadata": {
        "id": "zy4Y6VFv3sBJ",
        "colab_type": "code",
        "outputId": "ce47ee0d-7361-4f54-a040-100957f34e48",
        "colab": {
          "base_uri": "https://localhost:8080/",
          "height": 374
        }
      },
      "source": [
        "learn.lr_find()\n",
        "learn.recorder.plot(skip_end=15)\n",
        "# skip_end : 마지막에 있는 integer들 skip한다. "
      ],
      "execution_count": 0,
      "outputs": [
        {
          "output_type": "display_data",
          "data": {
            "text/html": [
              "\n",
              "    <div>\n",
              "        <style>\n",
              "            /* Turns off some styling */\n",
              "            progress {\n",
              "                /* gets rid of default border in Firefox and Opera. */\n",
              "                border: none;\n",
              "                /* Needs to be in here for Safari polyfill so background images work as expected. */\n",
              "                background-size: auto;\n",
              "            }\n",
              "            .progress-bar-interrupted, .progress-bar-interrupted::-webkit-progress-bar {\n",
              "                background: #F44336;\n",
              "            }\n",
              "        </style>\n",
              "      <progress value='0' class='' max='1', style='width:300px; height:20px; vertical-align: middle;'></progress>\n",
              "      0.00% [0/1 00:00<00:00]\n",
              "    </div>\n",
              "    \n",
              "<table border=\"1\" class=\"dataframe\">\n",
              "  <thead>\n",
              "    <tr style=\"text-align: left;\">\n",
              "      <th>epoch</th>\n",
              "      <th>train_loss</th>\n",
              "      <th>valid_loss</th>\n",
              "      <th>time</th>\n",
              "    </tr>\n",
              "  </thead>\n",
              "  <tbody>\n",
              "  </tbody>\n",
              "</table><p>\n",
              "\n",
              "    <div>\n",
              "        <style>\n",
              "            /* Turns off some styling */\n",
              "            progress {\n",
              "                /* gets rid of default border in Firefox and Opera. */\n",
              "                border: none;\n",
              "                /* Needs to be in here for Safari polyfill so background images work as expected. */\n",
              "                background-size: auto;\n",
              "            }\n",
              "            .progress-bar-interrupted, .progress-bar-interrupted::-webkit-progress-bar {\n",
              "                background: #F44336;\n",
              "            }\n",
              "        </style>\n",
              "      <progress value='75' class='' max='1406', style='width:300px; height:20px; vertical-align: middle;'></progress>\n",
              "      5.33% [75/1406 00:00<00:09 1.8576]\n",
              "    </div>\n",
              "    "
            ],
            "text/plain": [
              "<IPython.core.display.HTML object>"
            ]
          },
          "metadata": {
            "tags": []
          }
        },
        {
          "output_type": "stream",
          "text": [
            "LR Finder is complete, type {learner_name}.recorder.plot() to see the graph.\n"
          ],
          "name": "stdout"
        },
        {
          "output_type": "display_data",
          "data": {
            "image/png": "[encoded data removed]",
            "text/plain": [
              "<Figure size 432x288 with 1 Axes>"
            ]
          },
          "metadata": {
            "tags": []
          }
        }
      ]
    },
    {
      "cell_type": "markdown",
      "metadata": {
        "id": "pVpgCNpr8nS7",
        "colab_type": "text"
      },
      "source": [
        "\n",
        "\n",
        "> 조교님 코멘트\n",
        "\n",
        "\n",
        "skipend은 마지막에 있는 integer들 skip하는 것임"
      ]
    },
    {
      "cell_type": "code",
      "metadata": {
        "id": "Ab1Os0QEhRuj",
        "colab_type": "code",
        "outputId": "6c16d7a1-741c-479d-a7fa-ad2d1f79edeb",
        "colab": {
          "base_uri": "https://localhost:8080/",
          "height": 197
        }
      },
      "source": [
        "learn.fit_one_cycle(5, 5e-2)"
      ],
      "execution_count": 0,
      "outputs": [
        {
          "output_type": "display_data",
          "data": {
            "text/html": [
              "<table border=\"1\" class=\"dataframe\">\n",
              "  <thead>\n",
              "    <tr style=\"text-align: left;\">\n",
              "      <th>epoch</th>\n",
              "      <th>train_loss</th>\n",
              "      <th>valid_loss</th>\n",
              "      <th>time</th>\n",
              "    </tr>\n",
              "  </thead>\n",
              "  <tbody>\n",
              "    <tr>\n",
              "      <td>0</td>\n",
              "      <td>1.327123</td>\n",
              "      <td>1.376556</td>\n",
              "      <td>00:13</td>\n",
              "    </tr>\n",
              "    <tr>\n",
              "      <td>1</td>\n",
              "      <td>1.601844</td>\n",
              "      <td>1.571571</td>\n",
              "      <td>00:13</td>\n",
              "    </tr>\n",
              "    <tr>\n",
              "      <td>2</td>\n",
              "      <td>1.260615</td>\n",
              "      <td>1.225502</td>\n",
              "      <td>00:13</td>\n",
              "    </tr>\n",
              "    <tr>\n",
              "      <td>3</td>\n",
              "      <td>0.938176</td>\n",
              "      <td>0.930072</td>\n",
              "      <td>00:13</td>\n",
              "    </tr>\n",
              "    <tr>\n",
              "      <td>4</td>\n",
              "      <td>0.726580</td>\n",
              "      <td>0.861103</td>\n",
              "      <td>00:13</td>\n",
              "    </tr>\n",
              "  </tbody>\n",
              "</table>"
            ],
            "text/plain": [
              "<IPython.core.display.HTML object>"
            ]
          },
          "metadata": {
            "tags": []
          }
        }
      ]
    },
    {
      "cell_type": "code",
      "metadata": {
        "id": "_a_AP05a3sBL",
        "colab_type": "code",
        "outputId": "b5a38c6e-71e1-47cb-d3eb-87772e7fb965",
        "colab": {
          "base_uri": "https://localhost:8080/",
          "height": 197
        }
      },
      "source": [
        "learn.fit_one_cycle(5, 5e-3) "
      ],
      "execution_count": 0,
      "outputs": [
        {
          "output_type": "display_data",
          "data": {
            "text/html": [
              "<table border=\"1\" class=\"dataframe\">\n",
              "  <thead>\n",
              "    <tr style=\"text-align: left;\">\n",
              "      <th>epoch</th>\n",
              "      <th>train_loss</th>\n",
              "      <th>valid_loss</th>\n",
              "      <th>time</th>\n",
              "    </tr>\n",
              "  </thead>\n",
              "  <tbody>\n",
              "    <tr>\n",
              "      <td>0</td>\n",
              "      <td>0.954022</td>\n",
              "      <td>0.941275</td>\n",
              "      <td>00:09</td>\n",
              "    </tr>\n",
              "    <tr>\n",
              "      <td>1</td>\n",
              "      <td>0.875767</td>\n",
              "      <td>0.880459</td>\n",
              "      <td>00:08</td>\n",
              "    </tr>\n",
              "    <tr>\n",
              "      <td>2</td>\n",
              "      <td>0.785743</td>\n",
              "      <td>0.837372</td>\n",
              "      <td>00:09</td>\n",
              "    </tr>\n",
              "    <tr>\n",
              "      <td>3</td>\n",
              "      <td>0.675648</td>\n",
              "      <td>0.816720</td>\n",
              "      <td>00:09</td>\n",
              "    </tr>\n",
              "    <tr>\n",
              "      <td>4</td>\n",
              "      <td>0.553013</td>\n",
              "      <td>0.814406</td>\n",
              "      <td>00:09</td>\n",
              "    </tr>\n",
              "  </tbody>\n",
              "</table>"
            ],
            "text/plain": [
              "<IPython.core.display.HTML object>"
            ]
          },
          "metadata": {
            "tags": []
          }
        }
      ]
    },
    {
      "cell_type": "code",
      "metadata": {
        "id": "2f1c1gd-3sBN",
        "colab_type": "code",
        "colab": {}
      },
      "source": [
        "learn.save('dotprod')\n",
        "# 학습한 내용을 저장하였음. "
      ],
      "execution_count": 0,
      "outputs": []
    },
    {
      "cell_type": "markdown",
      "metadata": {
        "id": "cAJWYoh13sBO",
        "colab_type": "text"
      },
      "source": [
        "Here's [some benchmarks](https://www.librec.net/release/v1.3/example.html) on the same dataset for the popular Librec system for collaborative filtering. They show best results based on RMSE of 0.91, which corresponds to an MSE of `0.91**2 = 0.83`."
      ]
    },
    {
      "cell_type": "markdown",
      "metadata": {
        "id": "nDTIS5LD3sBP",
        "colab_type": "text"
      },
      "source": [
        "## Interpretation"
      ]
    },
    {
      "cell_type": "markdown",
      "metadata": {
        "id": "4wKeWhl33sBP",
        "colab_type": "text"
      },
      "source": [
        "### Setup"
      ]
    },
    {
      "cell_type": "markdown",
      "metadata": {
        "id": "rXuLrkwEnmRy",
        "colab_type": "text"
      },
      "source": [
        "\n",
        "\n",
        "> **Bias**\n",
        "\n",
        "\n",
        "관찰된 등급 값의 편차(variation)은 상호 작용과 관계없이 편향(bias) 또는 절편(intercept)으로 알려진 사용자 또는 아이템과 관련된 영향으로 인한 것이다. 예를 들어 일반적인 collaborative filtering data는 일부 사용자가, 다른 사용자보다 높은 등급을 부여하고, 일부 아이템이 다른 아이템보다 높은 등급을 받는, 큰 체계적인(systematic) 경향(tendency)을 나타낸다. **결국 일부 아이템은 다른 아이템보다 더 좋게 혹은 더 나쁘게 인식된다.**\n",
        "\n",
        "\n",
        "> **Bias 구하기**\n",
        "\n",
        "\n",
        "바이어스는 평균(average)으로부터 사용자 및 아이템에서 관측된 표준 편차(deviations)를 나타낸다. 예를 들어 타이타닉 영화의 사용자 rim의 등급에 대한 1차 예상치를 원한다고 가정할 때, **(1) 모든 영화에 대한 평균 평점은 3.7 등급이고, (2) 타이타닉 영화는 평균 영화보다 평균 이상으로 0.5등급을 얻는 경향이 있고, (3) rim은 평균 사용자보다 0.3 등급 낮은 경향이 있다.** 이 때 rim의 타이타닉 등급 평가는 3.9(3.7+0.5-0.3)이다. \n",
        "\n",
        "참고 링크 : https://jeongchul.tistory.com/553\n",
        "\n",
        "\n",
        "> **User-Based Collaborative Filtering**\n",
        "\n",
        "\n",
        "사용자 기반의 협업 필터링에서의 유사도는 두 사용자가 얼마나 유사한 항목(아이템)을 선호했는지를 기준으로 한다. 사용자 기반에서는 한 사용자가 평가한 영화들의 점수들을 벡터로 나타낼 수 있다. 두 사용자 간의 유사도는 두 벡터 간의 유사도로 정의할 수 있다. 두 벡터 간의 유사도를 구하기 위해서 대개는 코사인 유사도, 피어슨 유사도가 이용된다. + 비슷한 사용자들을 알아내어 이 사용자들이 공통적으로 좋게 평가한 아이템을 추천하는 것임. \n",
        "\n",
        "\n",
        "> **Item-Based Colaborative Filtering**\n",
        "\n",
        "아이템 기반도 사용자 기반과 매우 유사한 과정을 거친다. 여기서는 아이템들에 대한 유사도를 계산한다. 두 아이템에 대한 사용자들의 평가 점수를 벡터로 나타내 두 영화의 유사도를 구하는 것임. 만약 영화 A와 B의 유사도가 0.99로 상당히 높은 유사도를 보인다면 A를 좋아하는 사람은 B를 좋아할 확률이 높다는 말로 풀이될 수 있음. "
      ]
    },
    {
      "cell_type": "code",
      "metadata": {
        "id": "GqjXC9oA3sBP",
        "colab_type": "code",
        "colab": {}
      },
      "source": [
        "learn.load('dotprod');\n",
        "# 학습한 내용을 로드함. "
      ],
      "execution_count": 0,
      "outputs": []
    },
    {
      "cell_type": "code",
      "metadata": {
        "id": "nW-UUtJT3sBR",
        "colab_type": "code",
        "outputId": "bf35341e-6d59-4891-a754-38a0e073830a",
        "colab": {
          "base_uri": "https://localhost:8080/",
          "height": 122
        }
      },
      "source": [
        "learn.model\n",
        "# n_factors = 40. \n",
        "# bias : Bias for item or user (based on is_item) for all in arr. \n",
        "# weight : Weight for item or user (based on is_item) for all in arr."
      ],
      "execution_count": 0,
      "outputs": [
        {
          "output_type": "execute_result",
          "data": {
            "text/plain": [
              "EmbeddingDotBias(\n",
              "  (u_weight): Embedding(944, 40)\n",
              "  (i_weight): Embedding(1654, 40)\n",
              "  (u_bias): Embedding(944, 1)\n",
              "  (i_bias): Embedding(1654, 1)\n",
              ")"
            ]
          },
          "metadata": {
            "tags": []
          },
          "execution_count": 40
        }
      ]
    },
    {
      "cell_type": "code",
      "metadata": {
        "id": "aIAeWQS93sBT",
        "colab_type": "code",
        "outputId": "81bde1a2-22e5-4932-ec8c-815f8af903eb",
        "colab": {
          "base_uri": "https://localhost:8080/",
          "height": 244
        }
      },
      "source": [
        "g = rating_movie.groupby(title)['rating'].count()\n",
        "# title별로 rating의 갯수를 count함. (count() 함수는 데이터 갯수를 세어주는 함수임.)\n",
        "# 사용자의 각 영화 평가 수. 영화에 rating을 부여한 사용자 수를 뽑는다. "
      ],
      "execution_count": 0,
      "outputs": [
        {
          "output_type": "execute_result",
          "data": {
            "text/plain": [
              "title\n",
              "'Til There Was You (1997)                  9\n",
              "1-900 (1994)                               5\n",
              "101 Dalmatians (1996)                    109\n",
              "12 Angry Men (1957)                      125\n",
              "187 (1997)                                41\n",
              "                                        ... \n",
              "Young Guns II (1990)                      44\n",
              "Young Poisoner's Handbook, The (1995)     41\n",
              "Zeus and Roxanne (1997)                    6\n",
              "unknown                                    9\n",
              "Á köldum klaka (Cold Fever) (1994)         1\n",
              "Name: rating, Length: 1664, dtype: int64"
            ]
          },
          "metadata": {
            "tags": []
          },
          "execution_count": 41
        }
      ]
    },
    {
      "cell_type": "code",
      "metadata": {
        "id": "qJORFgWlmXT6",
        "colab_type": "code",
        "outputId": "28c94fcf-d135-4b56-b6b9-93c8cf79b3ce",
        "colab": {
          "base_uri": "https://localhost:8080/",
          "height": 69
        }
      },
      "source": [
        "top_movies = g.sort_values(ascending=False).index.values[:1000]\n",
        "top_movies[:10]\n",
        "# sort_values() : g값에 대해 정렬을 수행한다. ascending=False일 경우 내림차순.(높은 값부터 1,000개 찍어냄.)\n",
        "# 좋은 영화인지는 모르겠지만 사용자들이 가장 많이 본 영화라고 할 수 있음."
      ],
      "execution_count": 0,
      "outputs": [
        {
          "output_type": "execute_result",
          "data": {
            "text/plain": [
              "array(['Star Wars (1977)', 'Contact (1997)', 'Fargo (1996)', 'Return of the Jedi (1983)', 'Liar Liar (1997)',\n",
              "       'English Patient, The (1996)', 'Scream (1996)', 'Toy Story (1995)', 'Air Force One (1997)',\n",
              "       'Independence Day (ID4) (1996)'], dtype=object)"
            ]
          },
          "metadata": {
            "tags": []
          },
          "execution_count": 42
        }
      ]
    },
    {
      "cell_type": "markdown",
      "metadata": {
        "id": "HDYTMHnm3sBU",
        "colab_type": "text"
      },
      "source": [
        "### Movie bias"
      ]
    },
    {
      "cell_type": "code",
      "metadata": {
        "id": "SRAu-Rcx3sBV",
        "colab_type": "code",
        "outputId": "7075bb27-66c4-47dd-daca-bd9d7b872831",
        "colab": {
          "base_uri": "https://localhost:8080/",
          "height": 34
        }
      },
      "source": [
        "movie_bias = learn.bias(top_movies, is_item=True)\n",
        "movie_bias.shape\n",
        "# is_item = True : 영화의 bias를 원한다는 의미임. False는 사용자의 bias를 의미한다. "
      ],
      "execution_count": 0,
      "outputs": [
        {
          "output_type": "execute_result",
          "data": {
            "text/plain": [
              "torch.Size([1000])"
            ]
          },
          "metadata": {
            "tags": []
          },
          "execution_count": 43
        }
      ]
    },
    {
      "cell_type": "code",
      "metadata": {
        "id": "9HSQICfwB1CP",
        "colab_type": "code",
        "outputId": "26c42c33-b5ee-4aa6-e89f-2779584d1b71",
        "colab": {
          "base_uri": "https://localhost:8080/",
          "height": 52
        }
      },
      "source": [
        "movie_bias[:10]"
      ],
      "execution_count": 0,
      "outputs": [
        {
          "output_type": "execute_result",
          "data": {
            "text/plain": [
              "tensor([0.5472, 0.3980, 0.3906, 0.4126, 0.0895, 0.1334, 0.2239, 0.2915, 0.2949,\n",
              "        0.1485])"
            ]
          },
          "metadata": {
            "tags": []
          },
          "execution_count": 44
        }
      ]
    },
    {
      "cell_type": "code",
      "metadata": {
        "id": "HLx0wHEn3sBX",
        "colab_type": "code",
        "colab": {}
      },
      "source": [
        "mean_ratings = rating_movie.groupby(title)['rating'].mean() \n",
        "movie_ratings = [(b, i, mean_ratings.loc[i]) for i,b in zip(top_movies, movie_bias)]\n",
        "# top_movies의 title, bias 및 mean을 합친다. \n",
        "# zip() : 같은 column끼리 묶인다. "
      ],
      "execution_count": 0,
      "outputs": []
    },
    {
      "cell_type": "code",
      "metadata": {
        "id": "IXhnydhPpjZr",
        "colab_type": "code",
        "outputId": "86626d95-ab39-4fc9-da51-49b60f70facc",
        "colab": {
          "base_uri": "https://localhost:8080/",
          "height": 244
        }
      },
      "source": [
        "# mean_ratings = rating_movie.groupby(title)['rating'].mean() \n",
        "mean_ratings\n",
        "# title로 groupby돼서 각 title에 대한 rating의 평균값을 보여준다. "
      ],
      "execution_count": 0,
      "outputs": [
        {
          "output_type": "execute_result",
          "data": {
            "text/plain": [
              "title\n",
              "'Til There Was You (1997)                2.333333\n",
              "1-900 (1994)                             2.600000\n",
              "101 Dalmatians (1996)                    2.908257\n",
              "12 Angry Men (1957)                      4.344000\n",
              "187 (1997)                               3.024390\n",
              "                                           ...   \n",
              "Young Guns II (1990)                     2.772727\n",
              "Young Poisoner's Handbook, The (1995)    3.341463\n",
              "Zeus and Roxanne (1997)                  2.166667\n",
              "unknown                                  3.444444\n",
              "Á köldum klaka (Cold Fever) (1994)       3.000000\n",
              "Name: rating, Length: 1664, dtype: float64"
            ]
          },
          "metadata": {
            "tags": []
          },
          "execution_count": 46
        }
      ]
    },
    {
      "cell_type": "code",
      "metadata": {
        "id": "RDbGMf-Pt7Bi",
        "colab_type": "code",
        "outputId": "86fabfb6-014d-4adc-9afd-93d1e6c9cf3e",
        "colab": {
          "base_uri": "https://localhost:8080/",
          "height": 192
        }
      },
      "source": [
        "movie_ratings = [(b, i, mean_ratings.loc[i]) for i,b in zip(top_movies, movie_bias)] \n",
        "movie_ratings[:10]\n",
        "# i는 title임. 즉 mean_ratings.loc['title'].\n",
        "# bias - title - mean."
      ],
      "execution_count": 0,
      "outputs": [
        {
          "output_type": "execute_result",
          "data": {
            "text/plain": [
              "[(tensor(0.5472), 'Star Wars (1977)', 4.3584905660377355),\n",
              " (tensor(0.3980), 'Contact (1997)', 3.8035363457760316),\n",
              " (tensor(0.3906), 'Fargo (1996)', 4.155511811023622),\n",
              " (tensor(0.4126), 'Return of the Jedi (1983)', 4.007889546351085),\n",
              " (tensor(0.0895), 'Liar Liar (1997)', 3.156701030927835),\n",
              " (tensor(0.1334), 'English Patient, The (1996)', 3.656964656964657),\n",
              " (tensor(0.2239), 'Scream (1996)', 3.4414225941422596),\n",
              " (tensor(0.2915), 'Toy Story (1995)', 3.8783185840707963),\n",
              " (tensor(0.2949), 'Air Force One (1997)', 3.6310904872389793),\n",
              " (tensor(0.1485), 'Independence Day (ID4) (1996)', 3.438228438228438)]"
            ]
          },
          "metadata": {
            "tags": []
          },
          "execution_count": 47
        }
      ]
    },
    {
      "cell_type": "code",
      "metadata": {
        "id": "oZSCu-UC3sBY",
        "colab_type": "code",
        "colab": {}
      },
      "source": [
        "item0 = lambda o:o[0]\n",
        "# bias 크기를 사용해서 영화를 재정렬할 수 있다. "
      ],
      "execution_count": 0,
      "outputs": []
    },
    {
      "cell_type": "code",
      "metadata": {
        "id": "fNGT0--I3sBa",
        "colab_type": "code",
        "outputId": "25337561-d347-4072-f87e-4753ca8fe243",
        "colab": {
          "base_uri": "https://localhost:8080/",
          "height": 349
        }
      },
      "source": [
        "sorted(movie_ratings, key=item0)[:15] \n",
        "# bias가 낮은 15개를 보여준다. 'Cable Guy, The (1996)' 영화는 등급이 2 이상임. "
      ],
      "execution_count": 0,
      "outputs": [
        {
          "output_type": "execute_result",
          "data": {
            "text/plain": [
              "[(tensor(-0.3817),\n",
              "  'Children of the Corn: The Gathering (1996)',\n",
              "  1.3157894736842106),\n",
              " (tensor(-0.3180), 'Mortal Kombat: Annihilation (1997)', 1.9534883720930232),\n",
              " (tensor(-0.3105),\n",
              "  'Lawnmower Man 2: Beyond Cyberspace (1996)',\n",
              "  1.7142857142857142),\n",
              " (tensor(-0.2661), 'Cable Guy, The (1996)', 2.339622641509434),\n",
              " (tensor(-0.2583), 'Striptease (1996)', 2.2388059701492535),\n",
              " (tensor(-0.2514), 'Bio-Dome (1996)', 1.903225806451613),\n",
              " (tensor(-0.2502), 'Free Willy 3: The Rescue (1997)', 1.7407407407407407),\n",
              " (tensor(-0.2473), 'Barb Wire (1996)', 1.9333333333333333),\n",
              " (tensor(-0.2441), 'Island of Dr. Moreau, The (1996)', 2.1578947368421053),\n",
              " (tensor(-0.2219), \"Joe's Apartment (1996)\", 2.2444444444444445),\n",
              " (tensor(-0.2179), 'Beverly Hills Ninja (1997)', 2.3125),\n",
              " (tensor(-0.2152), 'Crow: City of Angels, The (1996)', 1.9487179487179487),\n",
              " (tensor(-0.2139), 'Grease 2 (1982)', 2.0),\n",
              " (tensor(-0.2131), 'Speed 2: Cruise Control (1997)', 2.1315789473684212),\n",
              " (tensor(-0.2105), \"Stephen King's The Langoliers (1995)\", 2.413793103448276)]"
            ]
          },
          "metadata": {
            "tags": []
          },
          "execution_count": 49
        }
      ]
    },
    {
      "cell_type": "code",
      "metadata": {
        "id": "9_CCvExV3sBc",
        "colab_type": "code",
        "outputId": "98e35448-6807-4d50-dfc5-b2d3299164af",
        "colab": {
          "base_uri": "https://localhost:8080/",
          "height": 279
        }
      },
      "source": [
        "sorted(movie_ratings, key=lambda o: o[0], reverse=True)[:15] \n",
        "# bias가 높은 15개를 보여준다. "
      ],
      "execution_count": 0,
      "outputs": [
        {
          "output_type": "execute_result",
          "data": {
            "text/plain": [
              "[(tensor(0.5875), \"Schindler's List (1993)\", 4.466442953020135),\n",
              " (tensor(0.5558), 'Shawshank Redemption, The (1994)', 4.445229681978798),\n",
              " (tensor(0.5472), 'Star Wars (1977)', 4.3584905660377355),\n",
              " (tensor(0.5467), 'Titanic (1997)', 4.2457142857142856),\n",
              " (tensor(0.5435), 'Silence of the Lambs, The (1991)', 4.28974358974359),\n",
              " (tensor(0.5346), 'L.A. Confidential (1997)', 4.161616161616162),\n",
              " (tensor(0.5261), 'Rear Window (1954)', 4.3875598086124405),\n",
              " (tensor(0.5146), 'As Good As It Gets (1997)', 4.196428571428571),\n",
              " (tensor(0.5108), 'Good Will Hunting (1997)', 4.262626262626263),\n",
              " (tensor(0.5006), 'Usual Suspects, The (1995)', 4.385767790262173),\n",
              " (tensor(0.4754), 'Apt Pupil (1998)', 4.1),\n",
              " (tensor(0.4652), 'Vertigo (1958)', 4.251396648044692),\n",
              " (tensor(0.4588), 'Boot, Das (1981)', 4.203980099502488),\n",
              " (tensor(0.4583), 'Casablanca (1942)', 4.45679012345679),\n",
              " (tensor(0.4431), 'Close Shave, A (1995)', 4.491071428571429)]"
            ]
          },
          "metadata": {
            "tags": []
          },
          "execution_count": 50
        }
      ]
    },
    {
      "cell_type": "markdown",
      "metadata": {
        "id": "yJkiBmFS3sBd",
        "colab_type": "text"
      },
      "source": [
        "### Movie weights"
      ]
    },
    {
      "cell_type": "markdown",
      "metadata": {
        "id": "tNEf0jeBDLe2",
        "colab_type": "text"
      },
      "source": [
        "https://towardsdatascience.com/collaborative-filtering-using-fastai-a2ec5a2a4049\n",
        "이거 참고해서 마지막으로 정리하고 제출하기. "
      ]
    },
    {
      "cell_type": "code",
      "metadata": {
        "id": "RfIVEpef3sBe",
        "colab_type": "code",
        "outputId": "c8d949a1-11a7-421c-b740-a2cc67cbba08",
        "colab": {
          "base_uri": "https://localhost:8080/",
          "height": 34
        }
      },
      "source": [
        "movie_w = learn.weight(top_movies, is_item=True)\n",
        "movie_w.shape\n",
        "# top_movies에서 weight를 가져온다. is_item = True는 영화의 bias를 원한다는 의미임.\n",
        "# 우리가 설정한 n_factor가 40이기 때문에 결과 행렬은 (1000, 40)임.\n",
        "# 5개의 열, 매개변수 값 대신 40개의 매개변수 값을 가짐. 영화의 '특정 특성'을 설명하기 위함이다. \n",
        "# 우리가 할 일은 40가지 잠재 요인을 3으로 압축하는 것임.   "
      ],
      "execution_count": 0,
      "outputs": [
        {
          "output_type": "execute_result",
          "data": {
            "text/plain": [
              "torch.Size([1000, 40])"
            ]
          },
          "metadata": {
            "tags": []
          },
          "execution_count": 51
        }
      ]
    },
    {
      "cell_type": "code",
      "metadata": {
        "id": "HB-wyDgz3sBg",
        "colab_type": "code",
        "outputId": "a41b74cc-0a26-44f6-d876-598d861d68bb",
        "colab": {
          "base_uri": "https://localhost:8080/",
          "height": 34
        }
      },
      "source": [
        "movie_pca = movie_w.pca(3)\n",
        "movie_pca.shape\n",
        "# pca(principal component analysis) : 고차원의 데이터를 저차원의 데이터로 환원시키는 기법이다. 선형 변형 함수임. \n",
        "# torch.Size([1000, 40]) -> torch.Size([1000, 3])으로 줄어든 것을 확인할 수 있다."
      ],
      "execution_count": 0,
      "outputs": [
        {
          "output_type": "execute_result",
          "data": {
            "text/plain": [
              "torch.Size([1000, 3])"
            ]
          },
          "metadata": {
            "tags": []
          },
          "execution_count": 52
        }
      ]
    },
    {
      "cell_type": "code",
      "metadata": {
        "id": "uB0q2dbk3sBi",
        "colab_type": "code",
        "colab": {}
      },
      "source": [
        "fac0, fac1, fac2 = movie_pca.t() # 잠재 요소를 추출하여 fac0, fac1, fac2라고 부른다. \n",
        "movie_comp = [(f, i) for f,i in zip(fac0, top_movies)] # fac0으로 병합한다. 첫 번째 특정 특성. "
      ],
      "execution_count": 0,
      "outputs": []
    },
    {
      "cell_type": "code",
      "metadata": {
        "id": "cnZ6Wy7KDjmu",
        "colab_type": "code",
        "outputId": "0b192399-6bc8-4cfc-b252-9ee4b1166e56",
        "colab": {
          "base_uri": "https://localhost:8080/",
          "height": 192
        }
      },
      "source": [
        "movie_comp[:10] "
      ],
      "execution_count": 0,
      "outputs": [
        {
          "output_type": "execute_result",
          "data": {
            "text/plain": [
              "[(tensor(-0.6179), 'Star Wars (1977)'),\n",
              " (tensor(-0.0422), 'Contact (1997)'),\n",
              " (tensor(-0.8793), 'Fargo (1996)'),\n",
              " (tensor(-0.1756), 'Return of the Jedi (1983)'),\n",
              " (tensor(0.6166), 'Liar Liar (1997)'),\n",
              " (tensor(-0.4384), 'English Patient, The (1996)'),\n",
              " (tensor(0.3783), 'Scream (1996)'),\n",
              " (tensor(-0.2077), 'Toy Story (1995)'),\n",
              " (tensor(0.3920), 'Air Force One (1997)'),\n",
              " (tensor(0.4646), 'Independence Day (ID4) (1996)')]"
            ]
          },
          "metadata": {
            "tags": []
          },
          "execution_count": 55
        }
      ]
    },
    {
      "cell_type": "code",
      "metadata": {
        "id": "y0zMU_hs3sBk",
        "colab_type": "code",
        "outputId": "ef3eaa7c-4a29-4e5d-a1df-75f38f05494b",
        "colab": {
          "base_uri": "https://localhost:8080/",
          "height": 192
        }
      },
      "source": [
        "sorted(movie_comp, key=itemgetter(0), reverse=True)[:10] # 내림차순.\n",
        "# 무엇을 의미하는진 모르지만 특정 특성이 될 것임. 매우 클래식한, 고전으로 판단되는 영화들임. "
      ],
      "execution_count": 0,
      "outputs": [
        {
          "output_type": "execute_result",
          "data": {
            "text/plain": [
              "[(tensor(1.2699), 'Jungle2Jungle (1997)'),\n",
              " (tensor(1.2694), \"McHale's Navy (1997)\"),\n",
              " (tensor(1.2373), 'Home Alone 3 (1997)'),\n",
              " (tensor(1.1594), 'Congo (1995)'),\n",
              " (tensor(1.1478), 'Leave It to Beaver (1997)'),\n",
              " (tensor(1.1253), 'Bio-Dome (1996)'),\n",
              " (tensor(1.1105), 'Children of the Corn: The Gathering (1996)'),\n",
              " (tensor(1.0865), 'Sliver (1993)'),\n",
              " (tensor(1.0648), 'D3: The Mighty Ducks (1996)'),\n",
              " (tensor(1.0018), 'Batman & Robin (1997)')]"
            ]
          },
          "metadata": {
            "tags": []
          },
          "execution_count": 56
        }
      ]
    },
    {
      "cell_type": "code",
      "metadata": {
        "id": "Uf_VGnpk3sBm",
        "colab_type": "code",
        "outputId": "57227fe4-a2ab-4965-b9ad-1aa10db9fb25",
        "colab": {
          "base_uri": "https://localhost:8080/",
          "height": 192
        }
      },
      "source": [
        "sorted(movie_comp, key=itemgetter(0))[:10] # 오름차순. \n",
        "# 영화의 특정 특성이 일부 사람들의 영화에 대한 선호도와 일치하는 것으로 추정된다. "
      ],
      "execution_count": 0,
      "outputs": [
        {
          "output_type": "execute_result",
          "data": {
            "text/plain": [
              "[(tensor(-1.0923), 'Casablanca (1942)'),\n",
              " (tensor(-1.0479), 'Wrong Trousers, The (1993)'),\n",
              " (tensor(-1.0467), '12 Angry Men (1957)'),\n",
              " (tensor(-1.0425), 'Close Shave, A (1995)'),\n",
              " (tensor(-1.0414), 'Chinatown (1974)'),\n",
              " (tensor(-1.0125), 'Third Man, The (1949)'),\n",
              " (tensor(-0.9610), 'Godfather, The (1972)'),\n",
              " (tensor(-0.9501), 'Apocalypse Now (1979)'),\n",
              " (tensor(-0.9396), 'Lawrence of Arabia (1962)'),\n",
              " (tensor(-0.9360), 'Persuasion (1995)')]"
            ]
          },
          "metadata": {
            "tags": []
          },
          "execution_count": 57
        }
      ]
    },
    {
      "cell_type": "code",
      "metadata": {
        "id": "onlobnmA3sBq",
        "colab_type": "code",
        "colab": {}
      },
      "source": [
        "movie_comp_ = [(f, i) for f,i in zip(fac1, top_movies)] # 다른 잠재요인. "
      ],
      "execution_count": 0,
      "outputs": []
    },
    {
      "cell_type": "code",
      "metadata": {
        "id": "LfaHSGM43sBs",
        "colab_type": "code",
        "outputId": "f5bf42fb-b928-4e64-b3a3-e639cc1342fd",
        "colab": {
          "base_uri": "https://localhost:8080/",
          "height": 192
        }
      },
      "source": [
        "sorted(movie_comp_, key=itemgetter(0), reverse=True)[:10] # 내림차순.\n",
        "# 가족과 함께 볼 수 있는 영화들임. "
      ],
      "execution_count": 0,
      "outputs": [
        {
          "output_type": "execute_result",
          "data": {
            "text/plain": [
              "[(tensor(0.8739), 'Ready to Wear (Pret-A-Porter) (1994)'),\n",
              " (tensor(0.8714), 'Keys to Tulsa (1997)'),\n",
              " (tensor(0.8388), 'Dead Man (1995)'),\n",
              " (tensor(0.7887), 'Serial Mom (1994)'),\n",
              " (tensor(0.7856), 'Trainspotting (1996)'),\n",
              " (tensor(0.7632), 'Cable Guy, The (1996)'),\n",
              " (tensor(0.7608), 'Clockwork Orange, A (1971)'),\n",
              " (tensor(0.7508), 'Showgirls (1995)'),\n",
              " (tensor(0.7461), 'Nosferatu (Nosferatu, eine Symphonie des Grauens) (1922)'),\n",
              " (tensor(0.7300), 'To Die For (1995)')]"
            ]
          },
          "metadata": {
            "tags": []
          },
          "execution_count": 59
        }
      ]
    },
    {
      "cell_type": "code",
      "metadata": {
        "id": "nnZLEeZy3sBw",
        "colab_type": "code",
        "outputId": "65e64ca3-3f3a-4eb8-bd04-58c57e4daf7a",
        "colab": {
          "base_uri": "https://localhost:8080/",
          "height": 192
        }
      },
      "source": [
        "sorted(movie_comp_, key=itemgetter(0))[:10] # 오름차순."
      ],
      "execution_count": 0,
      "outputs": [
        {
          "output_type": "execute_result",
          "data": {
            "text/plain": [
              "[(tensor(-1.1372), 'Raiders of the Lost Ark (1981)'),\n",
              " (tensor(-1.1169), 'Braveheart (1995)'),\n",
              " (tensor(-1.0411), 'Titanic (1997)'),\n",
              " (tensor(-0.9260), 'American President, The (1995)'),\n",
              " (tensor(-0.8753), \"It's a Wonderful Life (1946)\"),\n",
              " (tensor(-0.8666), 'Forrest Gump (1994)'),\n",
              " (tensor(-0.8601), 'Independence Day (ID4) (1996)'),\n",
              " (tensor(-0.8458), 'Field of Dreams (1989)'),\n",
              " (tensor(-0.8381), 'Top Gun (1986)'),\n",
              " (tensor(-0.8133), 'Sleepless in Seattle (1993)')]"
            ]
          },
          "metadata": {
            "tags": []
          },
          "execution_count": 60
        }
      ]
    },
    {
      "cell_type": "code",
      "metadata": {
        "id": "y4qXNHS9Ee51",
        "colab_type": "code",
        "outputId": "94ea2ebf-6a46-4f48-9a92-8c868e0de4d0",
        "colab": {
          "base_uri": "https://localhost:8080/",
          "height": 69
        }
      },
      "source": [
        "top_movies # 영화 순위. "
      ],
      "execution_count": 0,
      "outputs": [
        {
          "output_type": "execute_result",
          "data": {
            "text/plain": [
              "array(['Star Wars (1977)', 'Contact (1997)', 'Fargo (1996)', 'Return of the Jedi (1983)', ...,\n",
              "       'In the Bleak Midwinter (1995)', 'Party Girl (1995)', 'Highlander III: The Sorcerer (1994)',\n",
              "       'Bastard Out of Carolina (1996)'], dtype=object)"
            ]
          },
          "metadata": {
            "tags": []
          },
          "execution_count": 65
        }
      ]
    },
    {
      "cell_type": "code",
      "metadata": {
        "id": "tC7XV2yM3sBy",
        "colab_type": "code",
        "outputId": "ace89c76-0e4c-4cb9-9138-3fb4a5ce2f39",
        "colab": {
          "base_uri": "https://localhost:8080/",
          "height": 863
        }
      },
      "source": [
        "idxs = np.random.choice(len(top_movies), 50, replace=False)\n",
        "idxs = list(range(50))\n",
        "\n",
        "X = fac0[idxs] # 첫 번째 특정 특성. \n",
        "Y = fac2[idxs] # 두 번째 특정 특성.\n",
        "\n",
        "plt.figure(figsize=(15,15))\n",
        "plt.scatter(X, Y)\n",
        "\n",
        "for i, x, y in zip(top_movies[idxs], X, Y):\n",
        "    plt.text(x, y, i, color=np.random.rand(3)*0.7, fontsize=11)\n",
        "plt.show()\n",
        "\n",
        "# 가장 인기있는 50가지 영화를 보여준다. top_moives - fac0 - fac2, 영화의 등급을 기준으로 fac0과 fac2를 보여줌. \n",
        "# 영화마다 f0, f1, f2가 다름. 즉 영화마다 특정 특성이 다른 것을 보여준다.  "
      ],
      "execution_count": 0,
      "outputs": [
        {
          "output_type": "display_data",
          "data": {
            "image/png": "[encoded data removed]",
            "text/plain": [
              "<Figure size 1080x1080 with 1 Axes>"
            ]
          },
          "metadata": {
            "tags": []
          }
        }
      ]
    }
  ]
}