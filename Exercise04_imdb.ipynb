{
  "nbformat": 4,
  "nbformat_minor": 0,
  "metadata": {
    "kernelspec": {
      "name": "python3",
      "display_name": "Python 3"
    },
    "colab": {
      "name": "Exercise04-imdb.ipynb",
      "provenance": [],
      "collapsed_sections": [],
      "include_colab_link": true
    },
    "accelerator": "GPU"
  },
  "cells": [
    {
      "cell_type": "markdown",
      "metadata": {
        "id": "view-in-github",
        "colab_type": "text"
      },
      "source": [
        "<a href=\"https://colab.research.google.com/github/rim-yu/SGU_ANT6320_Assignment/blob/master/Exercise04_imdb.ipynb\" target=\"_parent\"><img src=\"https://colab.research.google.com/assets/colab-badge.svg\" alt=\"Open In Colab\"/></a>"
      ]
    },
    {
      "cell_type": "markdown",
      "metadata": {
        "id": "z-ZC2r6rT_kf",
        "colab_type": "text"
      },
      "source": [
        "# IMDB"
      ]
    },
    {
      "cell_type": "markdown",
      "metadata": {
        "id": "3NjGoVUcz_9h",
        "colab_type": "text"
      },
      "source": [
        "https://course.fast.ai/videos/?lesson=4\n",
        "01:05\n",
        "\n"
      ]
    },
    {
      "cell_type": "code",
      "metadata": {
        "id": "cIL1im0hT_kg",
        "colab_type": "code",
        "colab": {}
      },
      "source": [
        "%reload_ext autoreload\n",
        "%autoreload 2\n",
        "# reload automatically.\n",
        "%matplotlib inline\n",
        "# notebook을 실행한 browser에서 바로 Rich output을 볼 수 있게 해주는 command. "
      ],
      "execution_count": 0,
      "outputs": []
    },
    {
      "cell_type": "code",
      "metadata": {
        "id": "f-zRb1fBT_kk",
        "colab_type": "code",
        "colab": {}
      },
      "source": [
        "from fastai.text import *\n",
        "# fastai.text의 모든 module을 import한다."
      ],
      "execution_count": 0,
      "outputs": []
    },
    {
      "cell_type": "markdown",
      "metadata": {
        "id": "WtiwdAjLT_km",
        "colab_type": "text"
      },
      "source": [
        "## Preparing the data"
      ]
    },
    {
      "cell_type": "markdown",
      "metadata": {
        "id": "4eZ1wTQKT_kn",
        "colab_type": "text"
      },
      "source": [
        "First let's download the dataset we are going to study. The [dataset](http://ai.stanford.edu/~amaas/data/sentiment/) has been curated by Andrew Maas et al. and contains a total of 100,000 reviews on IMDB. 25,000 of them are labelled as positive and negative for training, another 25,000 are labelled for testing (in both cases they are highly polarized). The remaning 50,000 is an additional unlabelled data (but we will find a use for it nonetheless).\n",
        "\n",
        "We'll begin with a sample we've prepared for you, so that things run quickly before going over the full dataset."
      ]
    },
    {
      "cell_type": "code",
      "metadata": {
        "id": "zhzDSduHT_kn",
        "colab_type": "code",
        "outputId": "a7a8610c-1196-4932-eb43-ea76d62098dc",
        "colab": {
          "base_uri": "https://localhost:8080/",
          "height": 52
        }
      },
      "source": [
        "path = untar_data(URLs.IMDB_SAMPLE) \n",
        "path.ls()\n",
        "# url을 통해 IMDB_SAMPLE file의 path를 가져온다. \n",
        "# IMDB : Internet Movie DataBase\n",
        "\n",
        "# IMDB dataset에는 영화 리뷰가 있음. 리뷰는 긍정적이거나 부정적이다. \n",
        "# 이 dataset은 csv file로 저장되었고 pandas로 열어볼 수 있다.  "
      ],
      "execution_count": 3,
      "outputs": [
        {
          "output_type": "stream",
          "text": [
            "Downloading http://files.fast.ai/data/examples/imdb_sample\n"
          ],
          "name": "stdout"
        },
        {
          "output_type": "display_data",
          "data": {
            "text/html": [
              ""
            ],
            "text/plain": [
              "<IPython.core.display.HTML object>"
            ]
          },
          "metadata": {
            "tags": []
          }
        },
        {
          "output_type": "execute_result",
          "data": {
            "text/plain": [
              "[PosixPath('/root/.fastai/data/imdb_sample/texts.csv')]"
            ]
          },
          "metadata": {
            "tags": []
          },
          "execution_count": 3
        }
      ]
    },
    {
      "cell_type": "code",
      "metadata": {
        "id": "NQNXYA72Ne1b",
        "colab_type": "code",
        "outputId": "41d36149-2303-4dd7-d562-e762467d8998",
        "colab": {
          "base_uri": "https://localhost:8080/",
          "height": 34
        }
      },
      "source": [
        "cd /root/\\.fastai/data/imdb_sample"
      ],
      "execution_count": 0,
      "outputs": [
        {
          "output_type": "stream",
          "text": [
            "/root/.fastai/data/imdb_sample\n"
          ],
          "name": "stdout"
        }
      ]
    },
    {
      "cell_type": "code",
      "metadata": {
        "id": "T-gg2U8KNkVw",
        "colab_type": "code",
        "outputId": "eb73556e-834d-4148-fa02-a33aefb2d140",
        "colab": {
          "base_uri": "https://localhost:8080/",
          "height": 34
        }
      },
      "source": [
        "ls"
      ],
      "execution_count": 0,
      "outputs": [
        {
          "output_type": "stream",
          "text": [
            "texts.csv\n"
          ],
          "name": "stdout"
        }
      ]
    },
    {
      "cell_type": "markdown",
      "metadata": {
        "id": "uWNSUr_ST_kq",
        "colab_type": "text"
      },
      "source": [
        "It only contains one csv file, let's have a look at it."
      ]
    },
    {
      "cell_type": "code",
      "metadata": {
        "id": "JSJhSQQbT_kq",
        "colab_type": "code",
        "outputId": "5d6b71d1-95e5-468e-b426-4af641e3240d",
        "colab": {
          "base_uri": "https://localhost:8080/",
          "height": 197
        }
      },
      "source": [
        "df = pd.read_csv(path/'texts.csv')\n",
        "df.head()\n",
        "# texts.csv file을 df에 저장하고 첫 5개 행을 보여준다. "
      ],
      "execution_count": 4,
      "outputs": [
        {
          "output_type": "execute_result",
          "data": {
            "text/html": [
              "<div>\n",
              "<style scoped>\n",
              "    .dataframe tbody tr th:only-of-type {\n",
              "        vertical-align: middle;\n",
              "    }\n",
              "\n",
              "    .dataframe tbody tr th {\n",
              "        vertical-align: top;\n",
              "    }\n",
              "\n",
              "    .dataframe thead th {\n",
              "        text-align: right;\n",
              "    }\n",
              "</style>\n",
              "<table border=\"1\" class=\"dataframe\">\n",
              "  <thead>\n",
              "    <tr style=\"text-align: right;\">\n",
              "      <th></th>\n",
              "      <th>label</th>\n",
              "      <th>text</th>\n",
              "      <th>is_valid</th>\n",
              "    </tr>\n",
              "  </thead>\n",
              "  <tbody>\n",
              "    <tr>\n",
              "      <th>0</th>\n",
              "      <td>negative</td>\n",
              "      <td>Un-bleeping-believable! Meg Ryan doesn't even ...</td>\n",
              "      <td>False</td>\n",
              "    </tr>\n",
              "    <tr>\n",
              "      <th>1</th>\n",
              "      <td>positive</td>\n",
              "      <td>This is a extremely well-made film. The acting...</td>\n",
              "      <td>False</td>\n",
              "    </tr>\n",
              "    <tr>\n",
              "      <th>2</th>\n",
              "      <td>negative</td>\n",
              "      <td>Every once in a long while a movie will come a...</td>\n",
              "      <td>False</td>\n",
              "    </tr>\n",
              "    <tr>\n",
              "      <th>3</th>\n",
              "      <td>positive</td>\n",
              "      <td>Name just says it all. I watched this movie wi...</td>\n",
              "      <td>False</td>\n",
              "    </tr>\n",
              "    <tr>\n",
              "      <th>4</th>\n",
              "      <td>negative</td>\n",
              "      <td>This movie succeeds at being one of the most u...</td>\n",
              "      <td>False</td>\n",
              "    </tr>\n",
              "  </tbody>\n",
              "</table>\n",
              "</div>"
            ],
            "text/plain": [
              "      label                                               text  is_valid\n",
              "0  negative  Un-bleeping-believable! Meg Ryan doesn't even ...     False\n",
              "1  positive  This is a extremely well-made film. The acting...     False\n",
              "2  negative  Every once in a long while a movie will come a...     False\n",
              "3  positive  Name just says it all. I watched this movie wi...     False\n",
              "4  negative  This movie succeeds at being one of the most u...     False"
            ]
          },
          "metadata": {
            "tags": []
          },
          "execution_count": 4
        }
      ]
    },
    {
      "cell_type": "code",
      "metadata": {
        "id": "3yIfQnFjT_kt",
        "colab_type": "code",
        "outputId": "f62ce608-8c06-4c5c-93fc-6e8178f00a47",
        "colab": {}
      },
      "source": [
        "df['text'][1]\n",
        "# 'text' 열의 2번째 행을 보여준다. "
      ],
      "execution_count": 0,
      "outputs": [
        {
          "output_type": "execute_result",
          "data": {
            "text/plain": [
              "'This is a extremely well-made film. The acting, script and camera-work are all first-rate. The music is good, too, though it is mostly early in the film, when things are still relatively cheery. There are no really superstars in the cast, though several faces will be familiar. The entire cast does an excellent job with the script.<br /><br />But it is hard to watch, because there is no good end to a situation like the one presented. It is now fashionable to blame the British for setting Hindus and Muslims against each other, and then cruelly separating them into two countries. There is some merit in this view, but it\\'s also true that no one forced Hindus and Muslims in the region to mistreat each other as they did around the time of partition. It seems more likely that the British simply saw the tensions between the religions and were clever enough to exploit them to their own ends.<br /><br />The result is that there is much cruelty and inhumanity in the situation and this is very unpleasant to remember and to see on the screen. But it is never painted as a black-and-white case. There is baseness and nobility on both sides, and also the hope for change in the younger generation.<br /><br />There is redemption of a sort, in the end, when Puro has to make a hard choice between a man who has ruined her life, but also truly loved her, and her family which has disowned her, then later come looking for her. But by that point, she has no option that is without great pain for her.<br /><br />This film carries the message that both Muslims and Hindus have their grave faults, and also that both can be dignified and caring people. The reality of partition makes that realisation all the more wrenching, since there can never be real reconciliation across the India/Pakistan border. In that sense, it is similar to \"Mr & Mrs Iyer\".<br /><br />In the end, we were glad to have seen the film, even though the resolution was heartbreaking. If the UK and US could deal with their own histories of racism with this kind of frankness, they would certainly be better off.'"
            ]
          },
          "metadata": {
            "tags": []
          },
          "execution_count": 0
        }
      ]
    },
    {
      "cell_type": "markdown",
      "metadata": {
        "id": "JzDjQP-0T_kv",
        "colab_type": "text"
      },
      "source": [
        "It contains one line per review, with the label ('negative' or 'positive'), the text and a flag to determine if it should be part of the validation set or the training set. If we ignore this flag, we can create a DataBunch containing this data in one line of code:"
      ]
    },
    {
      "cell_type": "code",
      "metadata": {
        "id": "aOy88b_RT_kv",
        "colab_type": "code",
        "outputId": "e8bb92c4-9999-46d7-b7c5-0546fb3d2034",
        "colab": {
          "base_uri": "https://localhost:8080/",
          "height": 17
        }
      },
      "source": [
        "data_lm = TextDataBunch.from_csv(path, 'texts.csv')\n",
        "# csv fil e을 통해 TextDataBunch를 생성, data_lm에 저장한다. "
      ],
      "execution_count": 5,
      "outputs": [
        {
          "output_type": "display_data",
          "data": {
            "text/html": [
              ""
            ],
            "text/plain": [
              "<IPython.core.display.HTML object>"
            ]
          },
          "metadata": {
            "tags": []
          }
        },
        {
          "output_type": "display_data",
          "data": {
            "text/html": [
              ""
            ],
            "text/plain": [
              "<IPython.core.display.HTML object>"
            ]
          },
          "metadata": {
            "tags": []
          }
        }
      ]
    },
    {
      "cell_type": "markdown",
      "metadata": {
        "id": "sQuJhjZiT_kx",
        "colab_type": "text"
      },
      "source": [
        "By executing this line a process was launched that took a bit of time. Let's dig a bit into it. Images could be fed (almost) directly into a model because they're just a big array of pixel values that are floats between 0 and 1. A text is composed of words, and we can't apply mathematical functions to them directly. We first have to convert them to numbers. This is done in two differents steps: tokenization and numericalization. A `TextDataBunch` does all of that behind the scenes for you.\n",
        "\n",
        "Before we delve into the explanations, let's take the time to save the things that were calculated."
      ]
    },
    {
      "cell_type": "code",
      "metadata": {
        "id": "05VV-3v9T_ky",
        "colab_type": "code",
        "colab": {}
      },
      "source": [
        "data_lm.save()\n",
        "# data_lm을 저장한다. "
      ],
      "execution_count": 0,
      "outputs": []
    },
    {
      "cell_type": "markdown",
      "metadata": {
        "id": "qbLATVgWT_k1",
        "colab_type": "text"
      },
      "source": [
        "Next time we launch this notebook, we can skip the cell above that took a bit of time (and that will take a lot more when you get to the full dataset) and load those results like this:"
      ]
    },
    {
      "cell_type": "code",
      "metadata": {
        "id": "L2wu-p1vT_k2",
        "colab_type": "code",
        "colab": {}
      },
      "source": [
        "data = load_data(path)\n",
        "# path를 통해 data를 load한다. "
      ],
      "execution_count": 0,
      "outputs": []
    },
    {
      "cell_type": "markdown",
      "metadata": {
        "id": "NW6_bIg8T_k3",
        "colab_type": "text"
      },
      "source": [
        "### Tokenization"
      ]
    },
    {
      "cell_type": "markdown",
      "metadata": {
        "id": "AB_m9TUqT_k4",
        "colab_type": "text"
      },
      "source": [
        "The first step of processing we make the texts go through is to split the raw sentences into words, or more exactly tokens. The easiest way to do this would be to split the string on spaces, but we can be smarter:\n",
        "\n",
        "- we need to take care of punctuation(구두점)\n",
        "- some words are contractions of two different words, like isn't or don't\n",
        "- we may need to clean some parts of our texts, if there's HTML code for instance \n",
        "(HTML : 웹 문서를 만들기 위하여 사용하는 기본적인 프로그래밍 언어의 한 종류)\n",
        "\n",
        "To see what the tokenizer had done behind the scenes, let's have a look at a few texts in a batch."
      ]
    },
    {
      "cell_type": "code",
      "metadata": {
        "id": "z8A1PhbmT_k4",
        "colab_type": "code",
        "outputId": "9da58d25-9e47-4efa-effc-465b050caf76",
        "colab": {
          "base_uri": "https://localhost:8080/",
          "height": 281
        }
      },
      "source": [
        "data = TextClasDataBunch.from_csv(path, 'texts.csv') \n",
        "data.show_batch()\n",
        "# csv file을 통해 TextClasDataBunch를 생성, data에 저장한다. \n",
        "# show_batch()를 통해 data를 보여준다. \n",
        "# 토큰화된 단어를 우리에게 돌려줄 것임. "
      ],
      "execution_count": 10,
      "outputs": [
        {
          "output_type": "display_data",
          "data": {
            "text/html": [
              ""
            ],
            "text/plain": [
              "<IPython.core.display.HTML object>"
            ]
          },
          "metadata": {
            "tags": []
          }
        },
        {
          "output_type": "display_data",
          "data": {
            "text/html": [
              ""
            ],
            "text/plain": [
              "<IPython.core.display.HTML object>"
            ]
          },
          "metadata": {
            "tags": []
          }
        },
        {
          "output_type": "display_data",
          "data": {
            "text/html": [
              "<table border=\"1\" class=\"dataframe\">\n",
              "  <thead>\n",
              "    <tr style=\"text-align: right;\">\n",
              "      <th>text</th>\n",
              "      <th>target</th>\n",
              "    </tr>\n",
              "  </thead>\n",
              "  <tbody>\n",
              "    <tr>\n",
              "      <td>xxbos xxmaj raising xxmaj victor xxmaj vargas : a xxmaj review \\n \\n  xxmaj you know , xxmaj raising xxmaj victor xxmaj vargas is like sticking your hands into a big , xxunk bowl of xxunk . xxmaj it 's warm and gooey , but you 're not sure if it feels right . xxmaj try as i might , no matter how warm and gooey xxmaj raising xxmaj</td>\n",
              "      <td>negative</td>\n",
              "    </tr>\n",
              "    <tr>\n",
              "      <td>xxbos xxmaj now that xxmaj che(2008 ) has finished its relatively short xxmaj australian cinema run ( extremely limited xxunk screen in xxmaj sydney , after xxunk ) , i can xxunk join both xxunk of \" xxmaj at xxmaj the xxmaj movies \" in taking xxmaj steven xxmaj soderbergh to task . \\n \\n  xxmaj it 's usually satisfying to watch a film director change his style /</td>\n",
              "      <td>negative</td>\n",
              "    </tr>\n",
              "    <tr>\n",
              "      <td>xxbos xxmaj this film sat on my xxmaj xxunk for weeks before i watched it . i dreaded a self - indulgent xxunk flick about relationships gone bad . i was wrong ; this was an xxunk xxunk into the screwed - up xxunk of xxmaj new xxmaj yorkers . \\n \\n  xxmaj the format is the same as xxmaj max xxmaj xxunk ' \" xxmaj la xxmaj ronde</td>\n",
              "      <td>positive</td>\n",
              "    </tr>\n",
              "    <tr>\n",
              "      <td>xxbos xxmaj many neglect that this is n't just a classic due to the fact that it 's the first xxup 3d game , or even the first xxunk - up . xxmaj it 's also one of the first xxunk games , one of the xxunk definitely the first ) truly claustrophobic games , and just a pretty well - xxunk gaming experience in general . xxmaj with graphics</td>\n",
              "      <td>positive</td>\n",
              "    </tr>\n",
              "    <tr>\n",
              "      <td>xxbos i really wanted to love this show . i truly , honestly did . \\n \\n  xxmaj for the first time , gay viewers get their own version of the \" xxmaj the xxmaj bachelor \" . xxmaj with the help of his obligatory \" hag \" xxmaj xxunk , xxmaj james , a good looking , well - to - do thirty - something has the chance</td>\n",
              "      <td>negative</td>\n",
              "    </tr>\n",
              "  </tbody>\n",
              "</table>"
            ],
            "text/plain": [
              "<IPython.core.display.HTML object>"
            ]
          },
          "metadata": {
            "tags": []
          }
        }
      ]
    },
    {
      "cell_type": "markdown",
      "metadata": {
        "id": "sZo7-q4xT_k7",
        "colab_type": "text"
      },
      "source": [
        "The texts are truncated at 100 tokens for more readability. We can see that it did more than just split on space and punctuation symbols: \n",
        "- the \"'s\" are grouped together in one token\n",
        "- the contractions are separated like this: \"did\", \"n't\"\n",
        "- content has been cleaned for any HTML symbol and lower cased\n",
        "- there are several **special tokens (all those that begin by xx)**, to replace unknown tokens (see below) or to introduce different text fields (here we only have one)."
      ]
    },
    {
      "cell_type": "markdown",
      "metadata": {
        "id": "yB33uvolT_k7",
        "colab_type": "text"
      },
      "source": [
        "### Numericalization"
      ]
    },
    {
      "cell_type": "markdown",
      "metadata": {
        "id": "DElbebaqT_k8",
        "colab_type": "text"
      },
      "source": [
        "Once we have extracted tokens from our texts, we convert to integers by creating a list of all the words used. We only keep the ones that appear at least twice with a maximum vocabulary size of 60,000 (by default) and replace the ones that don't make the cut by the unknown token `UNK`.\n",
        "\n",
        "The correspondance from ids to tokens is stored in the `vocab` attribute of our datasets, in a dictionary called `itos` (for int to string)."
      ]
    },
    {
      "cell_type": "code",
      "metadata": {
        "id": "4k63ZGNFT_k9",
        "colab_type": "code",
        "outputId": "94d7b1c8-16ad-4b66-dc28-a6e4ef492030",
        "colab": {
          "base_uri": "https://localhost:8080/",
          "height": 192
        }
      },
      "source": [
        "data.vocab.itos[:10]\n",
        "# Get the first ten in order of frequency.\n",
        "# 모든 영화 리뷰에 나타나는 10개의 고유한 단어 토큰임. 빈도가 잦은 순. \n",
        "# 일반적인 단어가 아님. -> 이거 왜 있나. "
      ],
      "execution_count": 11,
      "outputs": [
        {
          "output_type": "execute_result",
          "data": {
            "text/plain": [
              "['xxunk',\n",
              " 'xxpad',\n",
              " 'xxbos',\n",
              " 'xxeos',\n",
              " 'xxfld',\n",
              " 'xxmaj',\n",
              " 'xxup',\n",
              " 'xxrep',\n",
              " 'xxwrep',\n",
              " 'the']"
            ]
          },
          "metadata": {
            "tags": []
          },
          "execution_count": 11
        }
      ]
    },
    {
      "cell_type": "markdown",
      "metadata": {
        "id": "mNar8qaMT_k_",
        "colab_type": "text"
      },
      "source": [
        "And if we look at what a what's in our datasets, we'll see the tokenized text as a representation:"
      ]
    },
    {
      "cell_type": "code",
      "metadata": {
        "id": "h2pfd4tRT_k_",
        "colab_type": "code",
        "outputId": "b0325542-448f-4036-f0f6-1abd71310fb4",
        "colab": {
          "base_uri": "https://localhost:8080/",
          "height": 194
        }
      },
      "source": [
        "data.train_ds[0][0]\n",
        "# datasets에 무엇이 있는지 알아본다. \n",
        "# https://mc.ai/fastai-lesson-4-notes-nlp/"
      ],
      "execution_count": 12,
      "outputs": [
        {
          "output_type": "execute_result",
          "data": {
            "text/plain": [
              "Text xxbos xxmaj oh dear . xxmaj yet another example of \" xxmaj xxunk \" and religion . xxmaj no doubt we 'll be seeing some depressing nonsense featuring some \" hunky and macho freedom xxunk \" from the xxup ira . xxmaj well that was my initial reaction when the credits started but just over an hour and a half later i was in a state of shock . xxmaj what a superb movie \n",
              " \n",
              "  xxmaj the story starts on the day of the wedding between xxmaj sean xxmaj cloney and xxmaj sheila xxmaj kelly in the 1950s . xxmaj there is a slight problem since they 're getting married in the catholic church and that is xxmaj sheila is a protestant but in order for the wedding to happen xxmaj sheila takes a pledge that her children will be brought up catholic and attend the catholic school when they 're old enough . xxmaj the story - xxmaj which is set in the 1950s - then jumps forward a few years when the xxmaj cloney daughters are about to start school but xxmaj sheila has decided they 'll be xxunk the local protestant school much to the disgust of local priest xxmaj father xxmaj stafford . xxmaj from there things xxunk \n",
              " \n",
              "  xxmaj let me put my cards on the table and state that despite having both xxmaj irish catholic and xxmaj xxunk protestant heritage i was brought up as xxunk and have considered myself as an atheist throughout my adult life . xxmaj in fact when it comes to religion i consider myself a xxmaj marxist and religion is a cynical weapon used to manipulate people . a xxup love xxup divided shows what happens when self appointed moral xxunk take it upon themselves to tell other people what to think and believe . xxmaj may i have the xxunk to state that if xxmaj karl xxmaj marx saw this movie he 'd love it and call it a masterpiece ? xxmaj perhaps i should n't since the drama of this story shows what happens when other people do your thinking for you \n",
              " \n",
              "  xxmaj in xxunk to the couple of reviewers who have claimed this movie is propaganda of the worst sort i do n't claim to know the exact details of what happened in xxmaj county xxmaj xxunk and there 's no denying that xxmaj father xxmaj stafford and his flock of catholic sheep are portrayed as being the bad guys but xxmaj sheila is n't blameless herself . xxmaj think about a woman living in a rural village in 1950s xxmaj ireland who takes a pledge to bring her children up as catholics then changes her mind and believes there will be no consequences of this ? xxmaj this is a warning against taking xxunk and not keeping to them . xxmaj not only that but she disappears to let other people pick up the pieces of their shattered lives . xxmaj there 's also something that no one else has picked up upon and that is that the only character with any type of moral sense is former xxup ira man xxmaj andy xxmaj bailey who is shown as being xxunk not because he was a former xxup ira member ( xxmaj that makes a change . xxmaj we 're not talking about xxup the xxup devil xxup 's xxup own here ) but simply because he is an atheist who has decided to think for himself \n",
              " \n",
              "  a xxup love xxup divided is a superb movie that has a lot to say for itself , all of which i agree with . xxmaj if there 's any sort of criticism it 's that it feels too much like a xxup xxunk rather than a cinematic movie but believe me i can live with that and is essential viewing to anyone who thinks religion is the xxunk of the masses"
            ]
          },
          "metadata": {
            "tags": []
          },
          "execution_count": 12
        }
      ]
    },
    {
      "cell_type": "markdown",
      "metadata": {
        "id": "d0YDC4oKT_lB",
        "colab_type": "text"
      },
      "source": [
        "But the underlying data is all numbers"
      ]
    },
    {
      "cell_type": "code",
      "metadata": {
        "id": "PlkC9iSWT_lC",
        "colab_type": "code",
        "outputId": "b74f70aa-63d0-4e7c-f7bc-d87a8fcf97a2",
        "colab": {
          "base_uri": "https://localhost:8080/",
          "height": 34
        }
      },
      "source": [
        "data.train_ds[0][0].data[:10] \n",
        "# 다음 각 영화 리뷰를 값 목록으로 변환한다. \n",
        "# 숫자 열의 각 값은 토큰 위치에 해당한다. 여기서 2는 첫 번째 토큰 'xxunk'를 나타냄. "
      ],
      "execution_count": 13,
      "outputs": [
        {
          "output_type": "execute_result",
          "data": {
            "text/plain": [
              "array([   2,    5,  431, 2191,   11,    5,  283,  206,  653,   14])"
            ]
          },
          "metadata": {
            "tags": []
          },
          "execution_count": 13
        }
      ]
    },
    {
      "cell_type": "markdown",
      "metadata": {
        "id": "Bg2HASbjT_lE",
        "colab_type": "text"
      },
      "source": [
        "### With the data block API"
      ]
    },
    {
      "cell_type": "markdown",
      "metadata": {
        "id": "aCTuONlmT_lF",
        "colab_type": "text"
      },
      "source": [
        "We can use the data block API with NLP and have a lot more flexibility than what the default factory methods offer. In the previous example for instance, the data was randomly split between train and validation instead of reading the third column of the csv.\n",
        "\n",
        "With the data block API though, we have to manually call the tokenize and numericalize steps. This allows more flexibility, and if you're not using the defaults from fastai, the various arguments to pass will appear in the step they're revelant, so it'll be more readable."
      ]
    },
    {
      "cell_type": "code",
      "metadata": {
        "id": "AqAzv7nJT_lF",
        "colab_type": "code",
        "outputId": "084e7819-5fca-4519-d2c8-cb546c86bba8",
        "colab": {
          "base_uri": "https://localhost:8080/",
          "height": 17
        }
      },
      "source": [
        "data = (TextList.from_csv(path, 'texts.csv', cols='text')\n",
        "                .split_from_df(col=2) # validation flag.\n",
        "                .label_from_df(cols=0) # 긍정적이거나 부정적이거나. \n",
        "                .databunch())\n",
        "# csv file을 통해 TextList를 생성, data에 저장한다. "
      ],
      "execution_count": 20,
      "outputs": [
        {
          "output_type": "display_data",
          "data": {
            "text/html": [
              ""
            ],
            "text/plain": [
              "<IPython.core.display.HTML object>"
            ]
          },
          "metadata": {
            "tags": []
          }
        },
        {
          "output_type": "display_data",
          "data": {
            "text/html": [
              ""
            ],
            "text/plain": [
              "<IPython.core.display.HTML object>"
            ]
          },
          "metadata": {
            "tags": []
          }
        }
      ]
    },
    {
      "cell_type": "code",
      "metadata": {
        "id": "h3lytEhrb9WP",
        "colab_type": "code",
        "colab": {}
      },
      "source": [
        "\"\"\"\n",
        "data = (TextSplitData.from_csv(path, 'texts.csv', input_cols=1, label_cols=0, valid_cols=2)\n",
        "        .dataset(TextDataset) # 데이터셋을 만들어준다. \n",
        "        .tokenize() # 토큰화 변환을 수행. \n",
        "        .numericalize() # 수치 변환을 수행. \n",
        "        .databunch(TextDataBunch)) # databunc를 생성. \n",
        "\"\"\""
      ],
      "execution_count": 0,
      "outputs": []
    },
    {
      "cell_type": "markdown",
      "metadata": {
        "id": "mlgVOaxPT_lH",
        "colab_type": "text"
      },
      "source": [
        "## Language model"
      ]
    },
    {
      "cell_type": "markdown",
      "metadata": {
        "id": "NDGdvddeT_lH",
        "colab_type": "text"
      },
      "source": [
        "Note that language models can use a lot of GPU, so you may need to decrease batchsize here."
      ]
    },
    {
      "cell_type": "code",
      "metadata": {
        "id": "LZkJuWswT_lI",
        "colab_type": "code",
        "colab": {}
      },
      "source": [
        "bs=48\n",
        "# batch size = 48."
      ],
      "execution_count": 0,
      "outputs": []
    },
    {
      "cell_type": "markdown",
      "metadata": {
        "id": "YERPqYkpT_lK",
        "colab_type": "text"
      },
      "source": [
        "Now let's grab the full dataset for what follows."
      ]
    },
    {
      "cell_type": "code",
      "metadata": {
        "id": "a47sjTPZT_lK",
        "colab_type": "code",
        "outputId": "c022e289-b471-4632-c7af-711b5eb2cb10",
        "colab": {
          "base_uri": "https://localhost:8080/",
          "height": 157
        }
      },
      "source": [
        "path = untar_data(URLs.IMDB) \n",
        "path.ls()\n",
        "# url을 통해 IMDB file의 path를 가져온다. \n",
        "# 25,000개의 train에 대한 리뷰가 있고, 25,000개의 valid에 대한 리뷰. 5만개의 감독되지(unsupervised) 않은 리뷰.? "
      ],
      "execution_count": 22,
      "outputs": [
        {
          "output_type": "stream",
          "text": [
            "Downloading https://s3.amazonaws.com/fast-ai-nlp/imdb\n"
          ],
          "name": "stdout"
        },
        {
          "output_type": "display_data",
          "data": {
            "text/html": [
              ""
            ],
            "text/plain": [
              "<IPython.core.display.HTML object>"
            ]
          },
          "metadata": {
            "tags": []
          }
        },
        {
          "output_type": "execute_result",
          "data": {
            "text/plain": [
              "[PosixPath('/root/.fastai/data/imdb/train'),\n",
              " PosixPath('/root/.fastai/data/imdb/tmp_clas'),\n",
              " PosixPath('/root/.fastai/data/imdb/tmp_lm'),\n",
              " PosixPath('/root/.fastai/data/imdb/test'),\n",
              " PosixPath('/root/.fastai/data/imdb/unsup'),\n",
              " PosixPath('/root/.fastai/data/imdb/README'),\n",
              " PosixPath('/root/.fastai/data/imdb/imdb.vocab')]"
            ]
          },
          "metadata": {
            "tags": []
          },
          "execution_count": 22
        }
      ]
    },
    {
      "cell_type": "code",
      "metadata": {
        "id": "4CnjzqDkT_lM",
        "colab_type": "code",
        "outputId": "22b061ef-98c0-491d-d206-ecf5d28357db",
        "colab": {
          "base_uri": "https://localhost:8080/",
          "height": 87
        }
      },
      "source": [
        "(path/'train').ls()\n",
        "# train folder에 있는 file을 보여준다. "
      ],
      "execution_count": 23,
      "outputs": [
        {
          "output_type": "execute_result",
          "data": {
            "text/plain": [
              "[PosixPath('/root/.fastai/data/imdb/train/labeledBow.feat'),\n",
              " PosixPath('/root/.fastai/data/imdb/train/pos'),\n",
              " PosixPath('/root/.fastai/data/imdb/train/unsupBow.feat'),\n",
              " PosixPath('/root/.fastai/data/imdb/train/neg')]"
            ]
          },
          "metadata": {
            "tags": []
          },
          "execution_count": 23
        }
      ]
    },
    {
      "cell_type": "markdown",
      "metadata": {
        "id": "zOFb4EDcT_lO",
        "colab_type": "text"
      },
      "source": [
        "The reviews are in a training and test set following an imagenet structure. The only difference is that there is an `unsup` folder on top of `train` and `test` that contains the unlabelled data.\n",
        "\n",
        "We're not going to train a model that classifies the reviews from scratch. Like in computer vision, we'll use a model pretrained on a bigger dataset (a cleaned subset of wikipedia called [wikitext-103](https://einstein.ai/research/blog/the-wikitext-long-term-dependency-language-modeling-dataset)). That model has been trained to guess what the next word is, its input being all the previous words. It has a recurrent structure and a hidden state that is updated each time it sees a new word. This hidden state thus contains information about the sentence up to that point.\n",
        "\n",
        "We are going to use that 'knowledge' of the English language to build our classifier, but first, like for computer vision, we need to fine-tune the pretrained model to our particular dataset. Because the English of the reviews left by people on IMDB isn't the same as the English of wikipedia, we'll need to adjust the parameters of our model by a little bit. Plus there might be some words that would be extremely common in the reviews dataset but would be barely present in wikipedia, and therefore might not be part of the vocabulary the model was trained on."
      ]
    },
    {
      "cell_type": "markdown",
      "metadata": {
        "id": "swedCO4ET_lP",
        "colab_type": "text"
      },
      "source": [
        "This is where the unlabelled data is going to be useful to us, as we can use it to fine-tune our model. Let's create our data object with the data block API (next line takes a few minutes)."
      ]
    },
    {
      "cell_type": "code",
      "metadata": {
        "id": "VHgjc5ocT_lQ",
        "colab_type": "code",
        "outputId": "a0e25249-bb1c-4821-81af-ee2067d420ed",
        "colab": {
          "base_uri": "https://localhost:8080/",
          "height": 17
        }
      },
      "source": [
        "data_lm = (TextList.from_folder(path) # 텍스트 파일 목록 \n",
        "           #Inputs: all the text files in path\n",
        "            .filter_by_folder(include=['train', 'test', 'unsup']) \n",
        "           #We may have other temp folders that contain text files so we only keep what's in train and test\n",
        "            .split_by_rand_pct(0.1) # 무작위로 10%로 나눔. \n",
        "           #We randomly split and keep 10% (10,000 reviews) for validation\n",
        "            .label_for_lm()           \n",
        "           #We want to do a language model so we label accordingly\n",
        "            .databunch(bs=bs))\n",
        "data_lm.save('data_lm.pkl') # 로컬에 저장된 파일. \n",
        "\n",
        "# train set과 test set를 연결하고 더 작은 valid set을 사용하여 언어를 훈련시킬 더 많은 데이터를 얻는다. "
      ],
      "execution_count": 24,
      "outputs": [
        {
          "output_type": "display_data",
          "data": {
            "text/html": [
              ""
            ],
            "text/plain": [
              "<IPython.core.display.HTML object>"
            ]
          },
          "metadata": {
            "tags": []
          }
        },
        {
          "output_type": "display_data",
          "data": {
            "text/html": [
              ""
            ],
            "text/plain": [
              "<IPython.core.display.HTML object>"
            ]
          },
          "metadata": {
            "tags": []
          }
        }
      ]
    },
    {
      "cell_type": "code",
      "metadata": {
        "id": "eh95CE7deWwD",
        "colab_type": "code",
        "colab": {}
      },
      "source": [
        "\"\"\"\n",
        "data_Im = (TextFileList.from_folder(path)\n",
        "           .label_const(0)\n",
        "           .split_by_folder(valid='test')\n",
        "           .datasets()\n",
        "           .tokenize()\n",
        "           .numericalize()\n",
        "           .databunch(TextLMDataBunch))\n",
        "\"\"\""
      ],
      "execution_count": 0,
      "outputs": []
    },
    {
      "cell_type": "markdown",
      "metadata": {
        "id": "toj8WTYHT_lR",
        "colab_type": "text"
      },
      "source": [
        "We have to use a special kind of `TextDataBunch` for the language model, that ignores the labels (that's why we put 0 everywhere), will shuffle the texts at each epoch before concatenating them all together (only for training, we don't shuffle for the validation set) and will send batches that read that text in order with targets that are the next word in the sentence.\n",
        "\n",
        "The line before being a bit long, we want to load quickly the final ids by using the following cell."
      ]
    },
    {
      "cell_type": "code",
      "metadata": {
        "id": "3OHn79CnT_lR",
        "colab_type": "code",
        "colab": {}
      },
      "source": [
        "data_lm = load_data(path, 'data_lm.pkl', bs=bs)\n",
        "# data를 load해서 data_Im에 저장한다. "
      ],
      "execution_count": 0,
      "outputs": []
    },
    {
      "cell_type": "code",
      "metadata": {
        "id": "BlREumJ_T_lT",
        "colab_type": "code",
        "outputId": "775b6ea9-2b1a-44a8-9bce-ed2eb8b1bfb8",
        "colab": {
          "base_uri": "https://localhost:8080/",
          "height": 281
        }
      },
      "source": [
        "data_lm.show_batch()\n",
        "# data_Im을 보여준다. "
      ],
      "execution_count": 26,
      "outputs": [
        {
          "output_type": "display_data",
          "data": {
            "text/html": [
              "<table border=\"1\" class=\"dataframe\">\n",
              "  <thead>\n",
              "    <tr style=\"text-align: right;\">\n",
              "      <th>idx</th>\n",
              "      <th>text</th>\n",
              "    </tr>\n",
              "  </thead>\n",
              "  <tbody>\n",
              "    <tr>\n",
              "      <td>0</td>\n",
              "      <td>on the imdb ( mainly those who saw the newer version first ) seem to be fiercely unkind to this version xxrep 4 . but if one applies a little common sense , and takes into consideration the time when it was made and the technical possibilities that existed at that time , then they will realise that this is a pretty good film . xxmaj indeed , it was</td>\n",
              "    </tr>\n",
              "    <tr>\n",
              "      <td>1</td>\n",
              "      <td>very impressed by it . xxmaj that 's why i wanted to see it again and all i can say is that it still has n't lost its power , even though i 'm used to a lot more when it comes to movies than that i was ten years ago . \\n \\n  ' xxmaj kalifornia ' tells the tale of the writer xxmaj brian xxmaj kessler and</td>\n",
              "    </tr>\n",
              "    <tr>\n",
              "      <td>2</td>\n",
              "      <td>with dream logic , where the focus is atmosphere , creepiness , the uncanny , and for many viewers -- scares . xxmaj how well the film works for you will largely depend on how well you can adapt yourself to , or are used to , this different approach to film - making ( although admittedly , some of the seeming gaps are filled in by previous entries in</td>\n",
              "    </tr>\n",
              "    <tr>\n",
              "      <td>3</td>\n",
              "      <td>film has . xxmaj there 's plenty of xxunk stunts , too , and even though some think they are and look gratuitous or stupid when used in films , i can not agree and think they give motion pictures the kind of magic , freedom and creativeness any other tool could not give . xxmaj when people fly in these films , it means the films are not just</td>\n",
              "    </tr>\n",
              "    <tr>\n",
              "      <td>4</td>\n",
              "      <td>about three months ago . xxmaj the whole concept about a xxmaj latin family xxup tv show really amazed me . i am surprised that finally xxmaj latinos have a good shot to be on xxup tv . xxmaj this show is probably one the best i 've seen , it 's funny , heartwarming , touchy , and nice . xxbos xxmaj yes , xxmaj keaton looks like he</td>\n",
              "    </tr>\n",
              "  </tbody>\n",
              "</table>"
            ],
            "text/plain": [
              "<IPython.core.display.HTML object>"
            ]
          },
          "metadata": {
            "tags": []
          }
        }
      ]
    },
    {
      "cell_type": "markdown",
      "metadata": {
        "id": "4OwU5CVpT_lW",
        "colab_type": "text"
      },
      "source": [
        "We can then put this in a learner object very easily with a model loaded with the pretrained weights. They'll be downloaded the first time you'll execute the following line and stored in `~/.fastai/models/` (or elsewhere if you specified different paths in your config file)."
      ]
    },
    {
      "cell_type": "code",
      "metadata": {
        "id": "xlVo0yhkT_lW",
        "colab_type": "code",
        "outputId": "97fc95c5-4f01-4d01-d6fb-1b29a1561364",
        "colab": {
          "base_uri": "https://localhost:8080/",
          "height": 34
        }
      },
      "source": [
        "learn = language_model_learner(data_lm, AWD_LSTM, drop_mult=0.3)\n",
        "# pretrained model을 이용해서 learner을 생성, learn에 저장한다.\n",
        "# CNN model 대신 language model을 만든다. \n",
        "# 두 가지 데이터를 보내야 하는데, 우리가 사용하고자 하는 pre-trained model = 위키텍스트 파일. \n",
        "# AWD_LSTM : Weight-Dropped LSTM(Long Short-Term Memory)\n",
        "# drop_mult : drop out. 1보다 작은 값에 대한 이야기. "
      ],
      "execution_count": 27,
      "outputs": [
        {
          "output_type": "stream",
          "text": [
            "Downloading https://s3.amazonaws.com/fast-ai-modelzoo/wt103-fwd\n"
          ],
          "name": "stdout"
        },
        {
          "output_type": "display_data",
          "data": {
            "text/html": [
              ""
            ],
            "text/plain": [
              "<IPython.core.display.HTML object>"
            ]
          },
          "metadata": {
            "tags": []
          }
        }
      ]
    },
    {
      "cell_type": "code",
      "metadata": {
        "id": "jlyfjLBhT_lZ",
        "colab_type": "code",
        "outputId": "7b59e85f-6b50-4a9e-b562-896546d96b3e",
        "colab": {
          "base_uri": "https://localhost:8080/",
          "height": 112
        }
      },
      "source": [
        "learn.lr_find()\n",
        "# lr을 찾는다. "
      ],
      "execution_count": 28,
      "outputs": [
        {
          "output_type": "display_data",
          "data": {
            "text/html": [
              "\n",
              "    <div>\n",
              "        <style>\n",
              "            /* Turns off some styling */\n",
              "            progress {\n",
              "                /* gets rid of default border in Firefox and Opera. */\n",
              "                border: none;\n",
              "                /* Needs to be in here for Safari polyfill so background images work as expected. */\n",
              "                background-size: auto;\n",
              "            }\n",
              "            .progress-bar-interrupted, .progress-bar-interrupted::-webkit-progress-bar {\n",
              "                background: #F44336;\n",
              "            }\n",
              "        </style>\n",
              "      <progress value='0' class='' max='1' style='width:300px; height:20px; vertical-align: middle;'></progress>\n",
              "      0.00% [0/1 00:00<00:00]\n",
              "    </div>\n",
              "    \n",
              "<table border=\"1\" class=\"dataframe\">\n",
              "  <thead>\n",
              "    <tr style=\"text-align: left;\">\n",
              "      <th>epoch</th>\n",
              "      <th>train_loss</th>\n",
              "      <th>valid_loss</th>\n",
              "      <th>accuracy</th>\n",
              "      <th>time</th>\n",
              "    </tr>\n",
              "  </thead>\n",
              "  <tbody>\n",
              "  </tbody>\n",
              "</table><p>\n",
              "\n",
              "    <div>\n",
              "        <style>\n",
              "            /* Turns off some styling */\n",
              "            progress {\n",
              "                /* gets rid of default border in Firefox and Opera. */\n",
              "                border: none;\n",
              "                /* Needs to be in here for Safari polyfill so background images work as expected. */\n",
              "                background-size: auto;\n",
              "            }\n",
              "            .progress-bar-interrupted, .progress-bar-interrupted::-webkit-progress-bar {\n",
              "                background: #F44336;\n",
              "            }\n",
              "        </style>\n",
              "      <progress value='99' class='' max='8050' style='width:300px; height:20px; vertical-align: middle;'></progress>\n",
              "      1.23% [99/8050 00:18<25:04 11.5675]\n",
              "    </div>\n",
              "    "
            ],
            "text/plain": [
              "<IPython.core.display.HTML object>"
            ]
          },
          "metadata": {
            "tags": []
          }
        },
        {
          "output_type": "stream",
          "text": [
            "LR Finder is complete, type {learner_name}.recorder.plot() to see the graph.\n"
          ],
          "name": "stdout"
        }
      ]
    },
    {
      "cell_type": "code",
      "metadata": {
        "id": "MCdV4DC3T_lb",
        "colab_type": "code",
        "outputId": "67e99917-c77b-4799-efea-8ecfbd216b20",
        "colab": {
          "base_uri": "https://localhost:8080/",
          "height": 281
        }
      },
      "source": [
        "learn.recorder.plot(skip_end=15)\n",
        "# lr과 loss의 상관관계를 보여준다. "
      ],
      "execution_count": 29,
      "outputs": [
        {
          "output_type": "display_data",
          "data": {
            "image/png": "[encoded data removed]",
            "text/plain": [
              "<Figure size 432x288 with 1 Axes>"
            ]
          },
          "metadata": {
            "tags": [],
            "needs_background": "light"
          }
        }
      ]
    },
    {
      "cell_type": "code",
      "metadata": {
        "id": "nPVBF4NNT_ld",
        "colab_type": "code",
        "outputId": "5b35e210-7096-4658-8c8e-164ff33aa69c",
        "colab": {
          "base_uri": "https://localhost:8080/",
          "height": 77
        }
      },
      "source": [
        "learn.fit_one_cycle(1, 1e-2, moms=(0.8,0.7))\n",
        "# 1 epoch 학습한다.  \n",
        "# moms : Momentum's equals. 운동량을 줄이는 데 도움이 된다. "
      ],
      "execution_count": 30,
      "outputs": [
        {
          "output_type": "display_data",
          "data": {
            "text/html": [
              "<table border=\"1\" class=\"dataframe\">\n",
              "  <thead>\n",
              "    <tr style=\"text-align: left;\">\n",
              "      <th>epoch</th>\n",
              "      <th>train_loss</th>\n",
              "      <th>valid_loss</th>\n",
              "      <th>accuracy</th>\n",
              "      <th>time</th>\n",
              "    </tr>\n",
              "  </thead>\n",
              "  <tbody>\n",
              "    <tr>\n",
              "      <td>0</td>\n",
              "      <td>4.151765</td>\n",
              "      <td>4.023757</td>\n",
              "      <td>0.295197</td>\n",
              "      <td>26:05</td>\n",
              "    </tr>\n",
              "  </tbody>\n",
              "</table>"
            ],
            "text/plain": [
              "<IPython.core.display.HTML object>"
            ]
          },
          "metadata": {
            "tags": []
          }
        }
      ]
    },
    {
      "cell_type": "code",
      "metadata": {
        "id": "saF9KzGqT_lf",
        "colab_type": "code",
        "colab": {}
      },
      "source": [
        "learn.save('fit_head')\n",
        "# 학습한 learner을 저장한다. "
      ],
      "execution_count": 0,
      "outputs": []
    },
    {
      "cell_type": "code",
      "metadata": {
        "id": "Goz8QxTOT_lh",
        "colab_type": "code",
        "colab": {}
      },
      "source": [
        "learn.load('fit_head');\n",
        "# 학습한 learner을 load한다. "
      ],
      "execution_count": 0,
      "outputs": []
    },
    {
      "cell_type": "markdown",
      "metadata": {
        "id": "wxyVVPSCT_li",
        "colab_type": "text"
      },
      "source": [
        "To complete the fine-tuning, we can then unfeeze and launch a new training."
      ]
    },
    {
      "cell_type": "code",
      "metadata": {
        "id": "HkmQ8Z6FT_lj",
        "colab_type": "code",
        "colab": {}
      },
      "source": [
        "learn.unfreeze()"
      ],
      "execution_count": 0,
      "outputs": []
    },
    {
      "cell_type": "code",
      "metadata": {
        "id": "olB3TK71T_lk",
        "colab_type": "code",
        "colab": {
          "base_uri": "https://localhost:8080/",
          "height": 347
        },
        "outputId": "80d18d94-578e-4938-f411-68f6abb2e91d"
      },
      "source": [
        "learn.fit_one_cycle(10, 1e-3, moms=(0.8,0.7))\n",
        "# 10 epochs 학습한다. accuracy 점차 증가. "
      ],
      "execution_count": 34,
      "outputs": [
        {
          "output_type": "display_data",
          "data": {
            "text/html": [
              "<table border=\"1\" class=\"dataframe\">\n",
              "  <thead>\n",
              "    <tr style=\"text-align: left;\">\n",
              "      <th>epoch</th>\n",
              "      <th>train_loss</th>\n",
              "      <th>valid_loss</th>\n",
              "      <th>accuracy</th>\n",
              "      <th>time</th>\n",
              "    </tr>\n",
              "  </thead>\n",
              "  <tbody>\n",
              "    <tr>\n",
              "      <td>0</td>\n",
              "      <td>3.877629</td>\n",
              "      <td>3.842662</td>\n",
              "      <td>0.313299</td>\n",
              "      <td>26:18</td>\n",
              "    </tr>\n",
              "    <tr>\n",
              "      <td>1</td>\n",
              "      <td>3.851923</td>\n",
              "      <td>3.802835</td>\n",
              "      <td>0.319727</td>\n",
              "      <td>26:15</td>\n",
              "    </tr>\n",
              "    <tr>\n",
              "      <td>2</td>\n",
              "      <td>3.795313</td>\n",
              "      <td>3.774707</td>\n",
              "      <td>0.323622</td>\n",
              "      <td>26:18</td>\n",
              "    </tr>\n",
              "    <tr>\n",
              "      <td>3</td>\n",
              "      <td>3.785785</td>\n",
              "      <td>3.743859</td>\n",
              "      <td>0.327418</td>\n",
              "      <td>26:17</td>\n",
              "    </tr>\n",
              "    <tr>\n",
              "      <td>4</td>\n",
              "      <td>3.734906</td>\n",
              "      <td>3.718021</td>\n",
              "      <td>0.330520</td>\n",
              "      <td>26:13</td>\n",
              "    </tr>\n",
              "    <tr>\n",
              "      <td>5</td>\n",
              "      <td>3.664509</td>\n",
              "      <td>3.697165</td>\n",
              "      <td>0.333014</td>\n",
              "      <td>26:21</td>\n",
              "    </tr>\n",
              "    <tr>\n",
              "      <td>6</td>\n",
              "      <td>3.632839</td>\n",
              "      <td>3.680647</td>\n",
              "      <td>0.334970</td>\n",
              "      <td>26:16</td>\n",
              "    </tr>\n",
              "    <tr>\n",
              "      <td>7</td>\n",
              "      <td>3.580627</td>\n",
              "      <td>3.668744</td>\n",
              "      <td>0.336678</td>\n",
              "      <td>26:16</td>\n",
              "    </tr>\n",
              "    <tr>\n",
              "      <td>8</td>\n",
              "      <td>3.524276</td>\n",
              "      <td>3.665415</td>\n",
              "      <td>0.337458</td>\n",
              "      <td>26:18</td>\n",
              "    </tr>\n",
              "    <tr>\n",
              "      <td>9</td>\n",
              "      <td>3.511542</td>\n",
              "      <td>3.664893</td>\n",
              "      <td>0.337624</td>\n",
              "      <td>26:25</td>\n",
              "    </tr>\n",
              "  </tbody>\n",
              "</table>"
            ],
            "text/plain": [
              "<IPython.core.display.HTML object>"
            ]
          },
          "metadata": {
            "tags": []
          }
        }
      ]
    },
    {
      "cell_type": "code",
      "metadata": {
        "id": "PLuH3MbCT_lm",
        "colab_type": "code",
        "colab": {}
      },
      "source": [
        "learn.save('fine_tuned')"
      ],
      "execution_count": 0,
      "outputs": []
    },
    {
      "cell_type": "markdown",
      "metadata": {
        "id": "CqsNLj56T_lo",
        "colab_type": "text"
      },
      "source": [
        "How good is our model? Well let's try to see what it predicts after a few given words."
      ]
    },
    {
      "cell_type": "code",
      "metadata": {
        "id": "tFPm2ONqT_lo",
        "colab_type": "code",
        "colab": {}
      },
      "source": [
        "learn.load('fine_tuned');"
      ],
      "execution_count": 0,
      "outputs": []
    },
    {
      "cell_type": "code",
      "metadata": {
        "id": "_ATt-NJ0T_lq",
        "colab_type": "code",
        "colab": {}
      },
      "source": [
        "TEXT = \"I liked this movie because\"\n",
        "N_WORDS = 40\n",
        "N_SENTENCES = 2"
      ],
      "execution_count": 0,
      "outputs": []
    },
    {
      "cell_type": "code",
      "metadata": {
        "id": "nYAJWsWtT_ls",
        "colab_type": "code",
        "outputId": "fe685f0a-c522-4f65-89f2-69a181885ce4",
        "colab": {
          "base_uri": "https://localhost:8080/",
          "height": 72
        }
      },
      "source": [
        "print(\"\\n\".join(learn.predict(TEXT, N_WORDS, temperature=0.75) for _ in range(N_SENTENCES)))\n",
        "# see what it predicts after a few given words."
      ],
      "execution_count": 38,
      "outputs": [
        {
          "output_type": "stream",
          "text": [
            "I liked this movie because of the American \" Oh my God \" factor . If you really want to see a very good , well - written , well - directed , well - acted , well - directed and\n",
            "I liked this movie because it had some real moments of humour , it was scary and full of suspense , and had some great characters , such as Albert Finney and George Washington . The humor is very simple\n"
          ],
          "name": "stdout"
        }
      ]
    },
    {
      "cell_type": "markdown",
      "metadata": {
        "id": "2tSTLwdOT_lu",
        "colab_type": "text"
      },
      "source": [
        "We have to save not only the model, but also its encoder, the part that's responsible for creating and updating the hidden state. For the next part, we don't care about the part that tries to guess the next word."
      ]
    },
    {
      "cell_type": "code",
      "metadata": {
        "id": "VcgwPfB2T_lv",
        "colab_type": "code",
        "colab": {}
      },
      "source": [
        "learn.save_encoder('fine_tuned_enc')\n",
        "# 단어를 생성하는 게 아닌 문장을 이해하는 step. "
      ],
      "execution_count": 0,
      "outputs": []
    },
    {
      "cell_type": "markdown",
      "metadata": {
        "id": "9uRnBJOjT_lx",
        "colab_type": "text"
      },
      "source": [
        "## Classifier"
      ]
    },
    {
      "cell_type": "markdown",
      "metadata": {
        "id": "LDzxQxpOT_lx",
        "colab_type": "text"
      },
      "source": [
        "Now, we'll create a new data object that only grabs the labelled data and keeps those labels. Again, this line takes a bit of time. \n",
        "\n",
        "분류기를 만들기 위해 미세 조정을 수행한다. NLP 분류기 모델을 만드는 것은 이전 모델과 비슷하다는 것을 알게 되었다. "
      ]
    },
    {
      "cell_type": "code",
      "metadata": {
        "id": "rBxFkJvmT_lx",
        "colab_type": "code",
        "colab": {}
      },
      "source": [
        "path = untar_data(URLs.IMDB)\n",
        "# url을 통해 IMDB file의 path를 가져온다. "
      ],
      "execution_count": 0,
      "outputs": []
    },
    {
      "cell_type": "code",
      "metadata": {
        "id": "O14yJ2h_T_lz",
        "colab_type": "code",
        "colab": {
          "base_uri": "https://localhost:8080/",
          "height": 17
        },
        "outputId": "190864d9-4ace-4b1b-b23c-81c5bcd4d1ea"
      },
      "source": [
        "data_clas = (TextList.from_folder(path, vocab=data_lm.vocab)\n",
        "             #grab all the text files in path\n",
        "             .split_by_folder(valid='test')\n",
        "             #split by train and valid folder (that only keeps 'train' and 'test' so no need to filter)\n",
        "             .label_from_folder(classes=['neg', 'pos'])\n",
        "             #label them all with their folders\n",
        "             .databunch(bs=bs))\n",
        "# 때로는 GPU 메모리가 부족함. 메모리가 부족하면 bs를 낮추어야함. 카드에 맞는 배치 크기를 찾아야 함. \n",
        "# folder를 통해 TextList를 생성, data_clas에 저장한다. \n",
        "# 테스트 세트는 건드리지 않으므로 폴더 별로 분할한 다음 레이블을 붙인다. \n",
        "data_clas.save('data_clas.pkl')"
      ],
      "execution_count": 41,
      "outputs": [
        {
          "output_type": "display_data",
          "data": {
            "text/html": [
              ""
            ],
            "text/plain": [
              "<IPython.core.display.HTML object>"
            ]
          },
          "metadata": {
            "tags": []
          }
        },
        {
          "output_type": "display_data",
          "data": {
            "text/html": [
              ""
            ],
            "text/plain": [
              "<IPython.core.display.HTML object>"
            ]
          },
          "metadata": {
            "tags": []
          }
        }
      ]
    },
    {
      "cell_type": "code",
      "metadata": {
        "id": "FMBg6AfWT_l2",
        "colab_type": "code",
        "colab": {}
      },
      "source": [
        "data_clas = load_data(path, 'data_clas.pkl', bs=bs)"
      ],
      "execution_count": 0,
      "outputs": []
    },
    {
      "cell_type": "code",
      "metadata": {
        "id": "EB2Nu2C1T_l4",
        "colab_type": "code",
        "outputId": "7d23d462-0a8c-45db-9823-4387f5952c7a",
        "colab": {
          "base_uri": "https://localhost:8080/",
          "height": 281
        }
      },
      "source": [
        "data_clas.show_batch()\n",
        "# data_clas를 보여준다. "
      ],
      "execution_count": 43,
      "outputs": [
        {
          "output_type": "display_data",
          "data": {
            "text/html": [
              "<table border=\"1\" class=\"dataframe\">\n",
              "  <thead>\n",
              "    <tr style=\"text-align: right;\">\n",
              "      <th>text</th>\n",
              "      <th>target</th>\n",
              "    </tr>\n",
              "  </thead>\n",
              "  <tbody>\n",
              "    <tr>\n",
              "      <td>xxbos xxmaj match 1 : xxmaj tag xxmaj team xxmaj table xxmaj match xxmaj bubba xxmaj ray and xxmaj spike xxmaj dudley vs xxmaj eddie xxmaj guerrero and xxmaj chris xxmaj benoit xxmaj bubba xxmaj ray and xxmaj spike xxmaj dudley started things off with a xxmaj tag xxmaj team xxmaj table xxmaj match against xxmaj eddie xxmaj guerrero and xxmaj chris xxmaj benoit . xxmaj according to the rules</td>\n",
              "      <td>pos</td>\n",
              "    </tr>\n",
              "    <tr>\n",
              "      <td>xxbos xxmaj titanic directed by xxmaj james xxmaj cameron presents a fictional love story on the historical setting of the xxmaj titanic . xxmaj the plot is simple , xxunk , or not for those who love plots that twist and turn and keep you in suspense . xxmaj the end of the movie can be figured out within minutes of the start of the film , but the love</td>\n",
              "      <td>pos</td>\n",
              "    </tr>\n",
              "    <tr>\n",
              "      <td>xxbos xxmaj polish film maker xxmaj walerian xxmaj borowczyk 's xxmaj la xxmaj bête ( xxmaj french , 1975 , aka xxmaj the xxmaj beast ) is among the most controversial and brave films ever made and a very excellent one too . xxmaj this film tells everything that 's generally been hidden and denied about our nature and our sexual nature in particular with the symbolism and silence of</td>\n",
              "      <td>pos</td>\n",
              "    </tr>\n",
              "    <tr>\n",
              "      <td>xxbos xxmaj okay , so i 'm not a big video game buff , but was the game xxmaj house of the xxmaj dead really famous enough to make a movie from ? xxmaj sure , they went as far as to actually put in quick video game clips throughout the movie , as though justifying any particular scene of violence , but there are dozens and dozens of games</td>\n",
              "      <td>neg</td>\n",
              "    </tr>\n",
              "    <tr>\n",
              "      <td>xxbos xxmaj prior to this release , xxmaj neil labute had this to say about the 1973 original : \" xxmaj it 's surprising how many people say it 's their favorite soundtrack . i 'm like , come on ! xxmaj you may not like the new one , but if that 's your favorite soundtrack , i do n't know if i * want * you to like</td>\n",
              "      <td>neg</td>\n",
              "    </tr>\n",
              "  </tbody>\n",
              "</table>"
            ],
            "text/plain": [
              "<IPython.core.display.HTML object>"
            ]
          },
          "metadata": {
            "tags": []
          }
        }
      ]
    },
    {
      "cell_type": "markdown",
      "metadata": {
        "id": "oUsfEYmhT_l5",
        "colab_type": "text"
      },
      "source": [
        "We can then create a model to classify those reviews and load the encoder we saved before."
      ]
    },
    {
      "cell_type": "code",
      "metadata": {
        "id": "Q_YKs5eST_l6",
        "colab_type": "code",
        "colab": {
          "base_uri": "https://localhost:8080/",
          "height": 1000
        },
        "outputId": "9f8e5aee-5e8d-45a9-c0f3-446194dfb7c8"
      },
      "source": [
        "learn = text_classifier_learner(data_clas, AWD_LSTM, drop_mult=0.5)\n",
        "# overfitting이 일어날 경우 drop_mult의 값을 늘릴 수 잇음. \n",
        "learn.load_encoder('fine_tuned_enc')\n",
        "# Create a model to classify those reviews and load the encoder we saved before."
      ],
      "execution_count": 44,
      "outputs": [
        {
          "output_type": "execute_result",
          "data": {
            "text/plain": [
              "RNNLearner(data=TextClasDataBunch;\n",
              "\n",
              "Train: LabelList (25000 items)\n",
              "x: TextList\n",
              "xxbos xxmaj more than twenty years before xxmaj peter xxmaj jackson 's visionary adaptation of xxmaj the xxmaj lord xxmaj of xxmaj the xxmaj rings , there was this 1978 animated effort from director xxmaj ralph xxmaj bakshi . xxmaj an ambitious and reasonably faithful version of the story , this has sadly been rather over - shadowed by the xxmaj jackson trilogy . xxmaj indeed , many reviewers here on the imdb ( mainly those who saw the newer version first ) seem to be fiercely unkind to this version xxrep 4 . but if one applies a little common sense , and takes into consideration the time when it was made and the technical possibilities that existed at that time , then they will realise that this is a pretty good film . xxmaj indeed , it was shortly after seeing this animated movie back in the early ' 80s that i sought out xxmaj tolkien 's book and immediately became a lifelong fan of these richly detailed xxmaj middle xxmaj earth adventures . xxmaj so , in some respects , i owe this film a degree of acknowledgement as the film which shaped my literary tastes forever . \n",
              " \n",
              "  xxmaj sauron , the xxmaj dark xxmaj lord of xxmaj middle xxmaj earth , forges an all - powerful ring that gives him incredible power . xxmaj following a great battle during which xxmaj sauron is defeated , the ring falls into possession of a king named xxmaj xxunk \n",
              " . but instead of destroying it he foolishly chooses to keep it . xxmaj for centuries the ring passes from hand to hand , eventually coming into the possession of a hobbit named xxmaj frodo xxmaj baggins who lives in a peace - loving community known as xxmaj the xxmaj shire . xxmaj frodo learns from a wizard named xxmaj gandalf that his ring is in fact xxmaj the xxmaj one xxmaj ring , the very same that was forged by xxmaj sauron all those centuries ago , and that its master is once again searching for it in order to restore his dark power over the entire land . xxmaj frodo embarks on a perilous journey to protect the ring with three other hobbit companions , but every step of the way they are hunted by xxmaj sauron 's ring - wraiths , the xxmaj black xxmaj riders . xxmaj there follow many adventures , during which a company of nine adventurers is formed to guide the ring to the only place where it can be \" unmade \"  xxmaj mount xxmaj doom , in the land of xxmaj mordor . xxmaj the film concludes with xxmaj frodo and his best friend xxmaj sam on the borders of xxmaj mordor , closing ever nearer to their horrifying destination . xxmaj meanwhile xxmaj gandalf and the other members of the company fight off a huge army of orcs at the legendary fortress of xxmaj helm 's xxmaj deep . \n",
              " \n",
              "  xxmaj this version covers just over half of the original book . a second instalment was planned to bring the story to an end , but was sadly never completed . xxmaj while the ending feels abrupt , it does at least end at a sensible point in the story . xxmaj one has to feel a little frustration and regret that no sequel exists in which we might follow these animated heroes to their eventual goal . xxmaj the animation is passable , with a nice variety of locales and characters presented in interesting detail . xxmaj the music by xxmaj leonard xxmaj rosenman is suitably stirring and fits in appropriately with the epic narrative . xxmaj the voice - overs are decent , too , especially xxmaj john xxmaj hurt as xxmaj aragorn and xxmaj peter xxmaj xxunk as xxmaj gollum . xxmaj on the other hand , xxmaj michael xxmaj xxunk - who provides the voice for xxmaj sam - is rather campy and goofy , which is not well suited to the character . xxmaj the xxmaj lord xxmaj of xxmaj the xxmaj rings is a commendable attempt to visualise the staggering book on which it is based .,xxbos xxmaj the lovely xxmaj danish actress xxmaj sonja xxmaj richter steals this film from under the noses of everyone , no small feat considering the terrific performances surrounding her . \n",
              " \n",
              "  xxmaj richter plays xxmaj anna , an out - of - work , independent - minded , somewhat neurotic ( and perhaps suicidal ) actress who lands a desperation job looking after a wheelchair - bound , muted , aged father named xxmaj walentin ( the great xxmaj danish actor xxmaj frits xxmaj xxunk , who died at 77 shortly after this film was made ) . \n",
              " \n",
              "  xxup spoiler xxup alert \n",
              " \n",
              "  xxmaj walentin refuses to respond to anyone xxunk he confronts the gifted xxmaj anna , whose whimsical and mischievous manner brings the poor old battered devil back from a self - imposed death sentence . \n",
              " \n",
              "  xxmaj writer / director / actor xxmaj eric xxmaj clausen has made a strong film about the difficulty a ponderous businessman son ( xxmaj jorgen , played by xxmaj clausen ) has loving a father who has never accepted him . xxmaj the film sags toward the end , but xxmaj clausen has some important things to say about euthanasia , the nature and value of loving and caring , and how one person , the irrepressible xxmaj anna , can alter the course of a human life . xxmaj highly recommended . xxmaj sonja xxmaj richter 's performance is alone worth the price of admission .,xxbos \" xxmaj emma \" was a product of what might be called by the xxmaj first xxmaj great xxmaj jane xxmaj austen xxmaj cycle of the mid - nineties , and it was recently shown on xxmaj british television , doubtless because of the interest in the author created by the xxmaj second xxmaj great xxmaj jane xxmaj austen xxmaj cycle which started with \" xxmaj pride and xxmaj prejudice \" two years ago . xxmaj we currently have in the cinemas the xxmaj austen biopic \" xxmaj becoming xxmaj jane \" , and xxup itv have recently produced three xxup tv movies based on xxmaj austen novels . xxmaj these include \" xxmaj northanger xxmaj abbey \" , the only one of the six major novels not to have been filmed previously , so the cycle should now be complete . xxmaj no doubt , however , there will be more to come in the near future . ( xxmaj there is , after all , her juvenile \" xxmaj love and xxmaj xxunk \" ( sic ) , the short novella \" xxmaj lady xxmaj susan \" , and someone , somewhere , has doubtless supplied endings to her two unfinished fragments \" xxmaj the xxmaj xxunk \" and \" xxmaj xxunk \" . xxmaj then there are all those xxmaj austen sequels churned out by modern writers \n",
              "\n",
              "\n",
              " ) . \n",
              " \n",
              "  xxmaj the main character is xxmaj emma xxmaj woodhouse , a young lady from an aristocratic family in xxmaj regency xxmaj england . ( xxmaj not , as some reviewers have assumed , xxmaj victorian xxmaj xxunk xxmaj austen died before xxmaj queen xxmaj victoria was even born ) . xxmaj emma is , financially , considerably better off than most xxmaj austen heroines such as xxmaj elizabeth xxmaj bennett or xxmaj fanny xxmaj price , and has no need to find herself a wealthy husband . xxmaj instead , her main preoccupation seems to be finding husbands for her friends . xxmaj she persuades her friend xxmaj harriet to turn down a proposal of marriage from a young farmer , xxmaj robert xxmaj martin , believing that xxmaj harriet should be setting her sights on the ambitious clergyman xxmaj mr xxmaj elton . xxmaj this scheme goes disastrously wrong , however , as xxmaj elton has no interest in xxmaj harriet , but has fallen in love with xxmaj emma herself . xxmaj the speed with which xxmaj emma rejects his proposal makes one wonder just why she was so keen to match her friend with a man she regards ( with good reason ) as an unsuitable marriage partner for herself . xxmaj this being a xxmaj jane xxmaj austen plot , xxmaj emma turns out to be less of a committed spinster than she seems , and she too finds herself falling in love , leading to further complications . \n",
              " \n",
              "  xxmaj emma always insists that she will not marry without affection , and when she does find a partner , the handsome xxmaj mr xxmaj knightley , we feel that this will indeed be an affectionate marriage . xxmaj it does not , however , seem likely to be a very passionate one ( unlike , say , that of xxmaj elizabeth xxmaj bennett and xxmaj mr xxmaj darcy ) . xxmaj knightley , who is sixteen years older than xxmaj emma ( she is 21 , he 37 ) , and related to her by marriage , is more like a father - figure than a lover . xxmaj much more of a father - figure , in fact , than her actual father , a xxunk and selfish old hypochondriac who seems more like her grandfather . xxmaj when xxmaj emma is rude to her unbearably garrulous and tedious friend xxmaj miss xxmaj bates , it is xxmaj knightley who chides her for her lack of manners . ( xxmaj his surname is probably meant to indicate his gentlemanly xxunk nineteenth - century gentlemen liked to think of themselves as the modern equivalent of mediaeval knights with their elaborate codes of chivalry ) . xxmaj both xxmaj gwyneth xxmaj paltrow and xxmaj jeremy xxmaj northam play their parts very well , but this is not really one of the great screen romances . \n",
              " \n",
              "  xxmaj of the other characters , i liked xxmaj juliet xxmaj stephenson 's vulgar xxmaj mrs xxmaj elton and xxmaj toni xxmaj collette 's xxmaj harriet . i know that in the novel xxmaj harriet was a naïve young teenager , whereas here she is more like the character xxmaj collette played in \" xxmaj muriel 's xxmaj xxunk a gauche , slightly overweight twentysomething , fretting about her chances of finding a man . xxmaj nevertheless , i felt that this characterisation worked well in the context of the film and did not detract from xxmaj austen 's themes . \n",
              " \n",
              "  \" xxmaj emma \" is one of xxmaj austen 's more light - hearted works , without the darker overtones of \" xxmaj mansfield xxmaj park \" or even \" xxmaj pride and xxmaj prejudice \" , and this is reflected on screen . xxmaj we see a world of beauty and grace , full of stately homes and elegant costumes and fine manners . xxmaj apart from the xxunk gypsies , who make a very brief appearance , the only \" poor \" people we see are xxmaj mrs xxmaj bates and her daughter , and , as they live in the sort of picturesque rose - strewn xxunk cottage which today would change hands for over £ 500,000 , we can be sure that their poverty is relative , not absolute . xxmaj in xxmaj emma 's world , poverty is defined as not having your own stately home . xxmaj this is , of course , not a comprehensive picture of early nineteenth - century life , but nobody has ever claimed xxmaj austen as the xxmaj regency equivalent of a kitchen - sink realist . xxmaj sophisticated romantic comedy , combined with a keen eye for analysing human character , was more in her line . \n",
              " \n",
              "  i would not rate this film quite as highly as the 1994 \" xxmaj sense and xxmaj sensibility \" or the recent \" xxmaj pride and xxmaj xxunk it tends to drag a bit in the middle , although it has a strong beginning and strong xxunk but it is , in the main , a highly enjoyable xxmaj austen adaptation . 7 / 10,xxbos xxmaj in my line of work , i occasionally get contacted by independent filmmakers who are trying to publicize their film . xxmaj when i can , i take a look at these low - budget films and often they make me think that the future of xxmaj hollywood is going to the dogs . xxmaj once in a while , though , there is a film that is born of pure passion and desire , as if created for the purpose of reminding the film industry that good movies are still possible . xxmaj the short film b r o k e n , directed by xxmaj alex xxmaj ferrari , is a genuine surprise and worth a second look . \n",
              " \n",
              "  xxmaj clocking in at a scant 20 minutes , b r o k e n tries to tell a compelling ( but surreal ) story with almost no back story . xxmaj the audience is plopped down in the middle of the action with no clue as to what is happening . a young woman ( xxmaj samantha xxmaj jane xxmaj polay ) awakens from a dream to hear a gunshot and is subsequently abducted from her home . xxmaj when she awakes , she is surrounded by a group of mercenary thugs that look like they would be at home in a comic book . xxmaj these nasty guys and girls are larger than life . xxmaj they are all guns and knives . xxmaj there is no way out . \n",
              " \n",
              "  xxmaj the kicker here is that , despite being a low budget film it does n't play like one . xxmaj from the very beginning , the feeling is that b r o k e n has been shot , edited , and produced by professionals . xxmaj it looks like something xxmaj quentin xxmaj tarantino might have done on his day off when he was jamming with the xxmaj wachowski brothers . xxmaj the film is sharp and cool , it looks good and it feels like something big . \n",
              " \n",
              "  xxmaj the acting is much better than i usually see in these smaller films . xxmaj polay and xxmaj paul xxmaj gordon ( who plays the head killer , xxmaj duncan ) were well chosen . xxmaj as two of the few speaking roles in the film , it is up to them to carry the film . xxmaj no special effects , no matter how good , would have saved this film from bad acting . xxmaj thankfully , xxmaj polay manages to convey true fear and xxmaj gordon manages to come off as a real psycho . xxmaj some of the more limited roles seem to be filled by lesser talent , but it hardly shows . \n",
              " \n",
              "  xxmaj the downside to b r o k e n is that it 's only 20 minutes long . xxmaj the story ends with a xxmaj twilight xxmaj zone twist that seems a bit contrived and is hardly subtle . xxmaj watching it , i felt like i was supposed to have some epiphany , but there was only a feeling that it was much more mundane than i had hoped it would be . xxmaj the film tries hard to be one of those puzzles that leaves audiences talking for hours at the local coffee shop , but it comes off as unsatisfying . i keep thinking that this is the first 20 minutes of a longer film . \n",
              " \n",
              "  xxup my xxup rating : 8 out of 10 .,xxbos i have to admit that i went into xxmaj fever xxmaj pitch with low expectations . xxmaj it 's no huge revelation for me to say that xxmaj jimmy xxmaj fallon 's last movie ( xxmaj taxi ) was xxmaj xxunk bad , and the trailers for xxmaj fever xxmaj pitch were all right but did n't mesmerize me . i was already preparing some cheesy baseball puns for my review ... \n",
              " \n",
              "  \" i like xxmaj jimmy xxmaj fallon , but xxmaj taxi was strike one in his movie career . xxmaj well , now we 've got st xxrep 6 e -r xxrep 6 i ke xxunk xxrep 8 o ! xxmaj one more strike , and it 's back to xxup snl ! \" or \" xxmaj buy yourself some peanuts and cracker jacks , but do n't buy tickets to xxmaj fever xxmaj pitch . xxmaj you 'll walk out of the theater and never go back ! \" xxmaj then the movie had to go and be way more entertaining than i was expecting . xxmaj but hey , i could n't let my puns go to waste , right ? xxmaj another reason i thought i would n't care for the movie is that i hate the xxmaj boston xxmaj red xxmaj sox . xxmaj my whole family hates 'em . xxmaj the mere mention of xxmaj pedro xxmaj martinez ' name sends me running to the bathroom . xxmaj oh man , hold on ... \n",
              " \n",
              "  ... xxmaj all right , i 'm back . xxmaj anyway , my mom , who is a xxmaj st. xxmaj louis xxmaj cardinals fan , still believes the xxmaj world xxmaj series was rigged last year . xxmaj she refuses to believe the xxmaj sox won it legitimately . xxmaj but i 'm man enough to admit that xxmaj fever xxmaj pitch caused me to sympathize , albeit only slightly , with the plight of xxmaj red xxmaj sox fans . \n",
              " \n",
              "  xxmaj anybody who has a passion for sports will be able to relate to this movie on some level . xxmaj unless you have a favorite sports team you ca n't fully understand the extreme highs and lows that a fan such as xxmaj fallon 's xxmaj ben can go through . xxmaj there 's nothing quite so fresh as the smell of a new season and nothing quite so smooth as a clean slate . xxmaj well , figuratively speaking . xxmaj it 's the joy of being a sports fan . \" xxmaj wait ' til next year , \" becomes your mantra , your motto , your prayer - and xxmaj fever xxmaj pitch effectively captures that essence . \n",
              " \n",
              "  i love the fact that the movie takes a fictional story and throws it against the real - life backdrop of the xxmaj red xxmaj sox ' improbable xxmaj world xxmaj series run last year . i do n't love it so much that i want to marry it , but you know what i mean . i expected this to be handled in a fairly cheesy manner , and while some of the humor is a little silly , it 's actually pretty realistic . \n",
              " \n",
              "  xxmaj you see , xxmaj ben 's uncle took him to his first xxmaj red xxmaj sox game when he was 7 years old , and when he died he left xxmaj ben his two season tickets . xxmaj ben has n't missed a game in 23 years . xxmaj at the beginning of each season he has a draft day where he and his friends get together to figure out who gets to go to which games with him . xxmaj he makes everybody dance for the xxmaj yankees games and whenever somebody complains he threatens them with tickets for the games with the xxmaj royals ( sorry xxmaj mr. xxmaj shade ) and the xxmaj devil xxmaj rays . xxmaj it 's a very good scene , and it works so well because i actually know of people who do the \" ticket draft day . \" i also must admit that i can relate to when xxmaj ben goes to dinner with xxmaj lindsey and her parents . xxmaj the xxmaj red xxmaj sox are playing a road game , but instead of watching it live on xxup tv xxmaj ben decides to tape it . xxmaj one of the most dangerous things in life is taping a game and then being in public and trying to avoid hearing the result . xxmaj been there . xxmaj it 's a very tense and scary situation . w xxrep 6 e ll , xxmaj ben enters the danger zone when a guy shows up at the restaurant and mentions watching the game . xxmaj ben immediately covers his ears and starts shrieking like a banshee so as not to hear the outcome . xxmaj lindsey is embarrassed , and her parents do n't know what to think . xxmaj yeah , sports fans can be weird , i do n't deny it . xxmaj but it 's real . \n",
              " \n",
              "  xxmaj now if you 're expecting the crude , edgy stuff that the xxmaj farrelly brothers are known for then you could be disappointed . xxmaj they do have their moments though , like when xxmaj ben says he likes how xxmaj lindsey sometimes talks out of the side of her mouth \" like an adorable stroke victim , \" but overall this is definitely a softer , more romantic side that the bros are putting on display . \n",
              " \n",
              "  xxmaj that 's not to say that the movie ever gets way too sappy . xxmaj thankfully , when the sap starts to ooze a bit , the xxmaj farrellys know when to pull away . a romantic moment with xxmaj lindsey jumping on the field and running over to xxmaj ben to declare her undying love for him turns into xxmaj ben sincerely replying , \" xxmaj you 've got ta tell me about the outfield . xxmaj is it xxunk ? \" xxmaj jimmy xxmaj fallon proves that with the right material he can handle himself well on the big screen , and xxmaj drew xxmaj barrymore remains a constant source of romantic comedy charm . xxmaj fever xxmaj pitch is just good , solid entertainment that takes a somewhat fresh look at the romantic comedy genre . xxmaj it 's a movie that guys and gals can both relate to . xxmaj particularly the guys who practice sports fanaticism at some point during the year and the ladies who must deal with 'em . \n",
              " \n",
              "  xxmaj now if the xxmaj red xxmaj sox fans could please shut up about the \" xxmaj curse of the xxmaj bambino \" i would appreciate it . xxmaj my xxmaj memphis xxmaj tigers have xxup never won the xxup ncaa basketball championship , so i officially declare my plight greater than yours . \n",
              " \n",
              "  xxup the xxup gist xxmaj fans of xxmaj jimmy xxmaj fallon , xxmaj drew xxmaj barrymore , romantic comedy , the xxmaj red xxmaj sox , baseball , or sports fanaticism in general should consider giving xxmaj fever xxmaj pitch a look . i would n't go out of my way to rush and see it at the first available time , but it 'll make a great matinée . \n",
              " \n",
              "  xxmaj rating : 3.25 ( out of 5 )\n",
              "y: CategoryList\n",
              "pos,pos,pos,pos,pos\n",
              "Path: /root/.fastai/data/imdb;\n",
              "\n",
              "Valid: LabelList (25000 items)\n",
              "x: TextList\n",
              "xxbos xxmaj great movie . i was laughing all time through . xxmaj why ? xxmaj well , i am from xxmaj austria , i can get along with the xxmaj german ( xxmaj bavarian ) kind of humor . xxmaj so i guess this movie makes only sense watching when you are xxmaj german native speaker . xxmaj stefan and xxmaj erkan both are talking in a new kind of turkish - german accent , which became really popular in our xxmaj countries ( xxup xxunk & xxup xxunk ) . xxmaj but of course they are very stupid . xxmaj as in every comedy your personal humor will decide , whether thumb up or down .,xxbos xxmaj based on the manga ( comic ) of well - known artist xxmaj masamune xxmaj shirow , this animated feature was a slight disappointment to me . \n",
              " \n",
              "  xxmaj the story is good , but the animation is merely \" xxup ok \" while it could / should have been mindblowing . xxmaj the movie is xxup imo adequate , but seems somehow flat & uninspired , if you know what i mean . a wasted opportunity , if you consider that another work by xxmaj shirow , \" xxmaj ghost xxmaj in xxmaj the xxmaj shell \" , is considered a classic in many respects . xxmaj it set new standards for xxmaj japanese animation , and spawned , among other things , a brilliant series called \" gits : xxmaj stand xxmaj alone xxmaj complex \" . \n",
              " \n",
              "  i consider this worth a rental , unless you 're a fan of xxmaj shirow and want it all . xxmaj do check out the original manga , which comes highly recommended .,xxbos xxmaj inarguably one of the most interesting filmmakers of the last 50 years , xxmaj werner xxmaj herzog has been pushing the boundaries of cinema perhaps more so than any other commercial filmmaker . i 've been acquainted with xxmaj herzog for a few decades now and i 've never not been impressed by both the man and his work . xxmaj last year i went to see xxmaj rescue xxmaj dawn and was somewhat surprised at how relatively mainstream the film was , yet could n't help but imagine xxmaj herzog taking his actors and crew into the actual jungle to not only make the film , but to live it . xxmaj no other filmmaker is as crazed about the purity of the film - making process and the subsequent lore from such productions as xxmaj fitzcarraldo has been forged into cinematic legend . \n",
              " \n",
              "  xxmaj today i sat down to xxmaj fata xxmaj morgana , a 1969 xxmaj herzog film that could be described as an allegorical filmic postcard . xxmaj without researching the actual locations , i 'm assuming it was shot somewhere in xxmaj africa , both coastal and desert , a region that could have once been the cradle of infant man , infant civilization , infant life on earth . xxmaj it is these origins , the biblical notion of the xxmaj garden of xxmaj eden and the xxmaj apocalypse that xxmaj herzog is concerned with , as is voiced by the narration dispensed throughout the 79 minute run time . \n",
              " \n",
              "  xxmaj watching xxup fm i could n't help but feel i was a passenger on a profound journey . xxmaj in the opening sequence , the title is translated as \" xxmaj mirage \" and xxmaj herzog juxtaposes this translation with multiple repetitions of commercial jets landing on an airstrip . xxmaj these images are perverted , their xxunk crushed flat by a long lens , piling layers of exhaust , heat waves and light aberrations all on top of one another . xxmaj the effect left me to conclude : things are not as they seem . \n",
              " \n",
              "  xxup fm is divided into 3 very distinct chapters : 1 ) xxmaj creation , 2 ) xxmaj paradise and 3 ) xxmaj the xxmaj golden xxmaj age . xxmaj chapter xxmaj one , opens with countless , languid images , where bleak , barren landscapes scroll by , dead animals rot , broken shells of crashed airplanes and abandoned cars slowly disintegrate in the desert sun . xxmaj the people populating this inhospitable landscape are ragged , unsmiling and apparent prisoners of the desert . xxmaj the narration talks of a time before life , a time where the canvas of earth was blank and all that existed were the heavens . xxmaj while the narration hearkens to a simpler , purer era , a portrait of a young boy holding a fox - like animal by its throat evokes a chilling depiction of man 's cruel , ruthless attempt to enforce a dominion over nature . \n",
              " \n",
              "  xxmaj in the next chapter we are introduced to more of the same , yet the images and people are more animated and seem infused with a modicum of life and vitality . xxmaj we listen to a xxunk biologist talk about the xxunk a monitor lizard has hunting for prey in such a lifeless environment . xxmaj as he holds the squirming monitor , its tongue flicking at flies , he also describes how difficult it to capture these creatures in the searing 140 degree heat . xxmaj the parallel is duly noted and xxmaj herzog continues to explore this concept through repeated , candid portraits of individuals battered by the sun , the desert and the laborious efforts required to exist in this harsh realm . xxmaj he also pushes forward the theme that if not in control , man asserts his control over his environment and not always in the most pleasant of ways . \n",
              " \n",
              "  xxmaj the last chapter takes us out of the desert 's blast furnace and into the more familiar xxmaj herzog territory populated by eccentrics and absurd behavior . xxmaj no one seems to have a more effective symbiotic relationship with the oddballs of the world than xxmaj herzog -- possibly this is where he feels most at home . xxmaj much like xxmaj errol xxmaj morris , xxmaj herzog chooses to place his camera in as seemingly objective a position as he can before he lets the film roll . xxmaj the subsequent flirtation xxmaj herzog has with his subject is the result of him being able to continue shooting well beyond the point when most directors would have yelled cut . xxmaj as xxmaj morris does , this extended roll pushes past the \" on \" moment the subjects feel obliged to offer and through their discomfort of being pushed into overtime , their facade gives way to something real . xxmaj the most humorous portrait in this chapter is of the 2 person band playing an odd , polka - like song that xxmaj herzog recycles throughout this chapter . xxmaj the drummer of the band wears the same goggles as the biologist , as does another guy doing a magic trick , begging the question : what 's with the goggles ? xxmaj they definitely add some levity to the film , but one has to wonder if they hold any deeper meaning or significance , or is this just another example of xxmaj herzog 's xxunk . \n",
              " \n",
              "  xxmaj the narration aside , xxmaj herzog utilizes folk and blues music as the experimental documentary 's soundtrack . xxmaj leonard xxmaj cohen grabs the most screen time , two of his beautifully melancholic songs \" xxmaj so xxmaj long xxmaj marianne \" and \" xxmaj suzanne . \" perfectly accompany the scrolling landscapes , adding to the convincing feel that we are truly along for the ride . xxmaj by the end of the journey , xxmaj herzog comes back to one of the many shots that recur throughout the film : the distant framing of a lone vehicle traversing the endless desert engulfed by a water mirage that fills the horizon . xxmaj despite the overall bleakness of xxup fm , the crescendo of the film and the mirage motif leave you with a hopeful spirit , belief that against all odds , life will persevere and possibly even flourish . \n",
              " \n",
              "  xxmaj having finished writing this post , i referenced xxup fm to discover that xxmaj herzog shot it in xxmaj saharan xxmaj cameroon only weeks after a bloody coup . xxmaj true to his legend , xxmaj herzog and his crew were arrested , beaten and imprisoned . xxmaj while imprisoned , xxmaj herzog fell ill with xxmaj xxunk , a blood parasite . xxmaj it 's truly hard not to love such a hypnotic and austere film as xxmaj fata xxmaj morgana ; knowing the filmmaker was willing to die to get it made only makes you respect it all the more . \n",
              " \n",
              "  http : / / eattheblinds.blogspot.com /,xxbos xxmaj the centerpiece of xxmaj lackawanna xxmaj blues is the character xxmaj rachel \" xxmaj nanny \" xxmaj crosby , who runs a boardinghouse and provides unflagging support to a young boy , xxmaj ruben , the narrator of the film . xxmaj based upon the experiences of writer - actor xxmaj ruben xxmaj santiago - xxmaj hudson , the film lovingly recreates the upstate xxmaj new xxmaj york boardinghouse and evokes the cultural climate of a world in transition in the 1960s . \n",
              " \n",
              "  xxmaj the first half of the film is virtually non - stop music . xxmaj the second half addresses more completely the various characters in the boardinghouse . xxmaj nanny 's ability \" to take fragments and make them whole \" affects everyone within her sphere . xxmaj an especially vivid scene is when she confronts an abusive husband , telling him firmly , \" xxmaj if you ever touch that child again , we 're going to dance ! \" xxmaj as delivered by actress xxup s. xxmaj epatha xxmaj merkerson , that line is so steely and filled with such resolve that the husband with the hair - trigger temper is frozen in his tracks . \n",
              " \n",
              "  xxmaj from start to finish , xxmaj merkerson delivers a commanding presence xxmaj her character binds together the disparate lives of the borders in her home . xxmaj this was a touching , heartfelt film with a wonderful cast . xxmaj as played by xxmaj merkerson , the character of xxmaj nanny simply radiates love . xxmaj this is a film experience that i will remember for a long time to come .,xxbos xxmaj this is a better - than - average entry in the xxmaj saint series - xxmaj it holds your interest and , as mysteries should , keeps you guessing until the end and has several suspects to choose from . \n",
              " \n",
              "  xxmaj many films from the xxmaj golden xxmaj age are not for all tastes , especially younger viewers . xxmaj they date themselves by clothing , cars , settings , etc . xxmaj who nowadays asks for a xxunk ? xxmaj or wears a suit and tie everywhere ? xxmaj and the legal process was so much simpler - must have been a dearth of lawyers back then . xxmaj frankly , much of value is missing from those days . \n",
              " \n",
              "  xxmaj in any case , go with it and enjoy . xxmaj it 's good - in an old - fashioned sense .\n",
              "y: CategoryList\n",
              "pos,pos,pos,pos,pos\n",
              "Path: /root/.fastai/data/imdb;\n",
              "\n",
              "Test: None, model=SequentialRNN(\n",
              "  (0): MultiBatchEncoder(\n",
              "    (module): AWD_LSTM(\n",
              "      (encoder): Embedding(60000, 400, padding_idx=1)\n",
              "      (encoder_dp): EmbeddingDropout(\n",
              "        (emb): Embedding(60000, 400, padding_idx=1)\n",
              "      )\n",
              "      (rnns): ModuleList(\n",
              "        (0): WeightDropout(\n",
              "          (module): LSTM(400, 1152, batch_first=True)\n",
              "        )\n",
              "        (1): WeightDropout(\n",
              "          (module): LSTM(1152, 1152, batch_first=True)\n",
              "        )\n",
              "        (2): WeightDropout(\n",
              "          (module): LSTM(1152, 400, batch_first=True)\n",
              "        )\n",
              "      )\n",
              "      (input_dp): RNNDropout()\n",
              "      (hidden_dps): ModuleList(\n",
              "        (0): RNNDropout()\n",
              "        (1): RNNDropout()\n",
              "        (2): RNNDropout()\n",
              "      )\n",
              "    )\n",
              "  )\n",
              "  (1): PoolingLinearClassifier(\n",
              "    (layers): Sequential(\n",
              "      (0): BatchNorm1d(1200, eps=1e-05, momentum=0.1, affine=True, track_running_stats=True)\n",
              "      (1): Dropout(p=0.2, inplace=False)\n",
              "      (2): Linear(in_features=1200, out_features=50, bias=True)\n",
              "      (3): ReLU(inplace=True)\n",
              "      (4): BatchNorm1d(50, eps=1e-05, momentum=0.1, affine=True, track_running_stats=True)\n",
              "      (5): Dropout(p=0.1, inplace=False)\n",
              "      (6): Linear(in_features=50, out_features=2, bias=True)\n",
              "    )\n",
              "  )\n",
              "), opt_func=functools.partial(<class 'torch.optim.adam.Adam'>, betas=(0.9, 0.99)), loss_func=FlattenedLoss of CrossEntropyLoss(), metrics=[<function accuracy at 0x7ff18251a620>], true_wd=True, bn_wd=True, wd=0.01, train_bn=True, path=PosixPath('/root/.fastai/data/imdb'), model_dir='models', callback_fns=[functools.partial(<class 'fastai.basic_train.Recorder'>, add_time=True, silent=False)], callbacks=[RNNTrainer\n",
              "learn: RNNLearner(data=TextClasDataBunch;\n",
              "\n",
              "Train: LabelList (25000 items)\n",
              "x: TextList\n",
              "xxbos xxmaj more than twenty years before xxmaj peter xxmaj jackson 's visionary adaptation of xxmaj the xxmaj lord xxmaj of xxmaj the xxmaj rings , there was this 1978 animated effort from director xxmaj ralph xxmaj bakshi . xxmaj an ambitious and reasonably faithful version of the story , this has sadly been rather over - shadowed by the xxmaj jackson trilogy . xxmaj indeed , many reviewers here on the imdb ( mainly those who saw the newer version first ) seem to be fiercely unkind to this version xxrep 4 . but if one applies a little common sense , and takes into consideration the time when it was made and the technical possibilities that existed at that time , then they will realise that this is a pretty good film . xxmaj indeed , it was shortly after seeing this animated movie back in the early ' 80s that i sought out xxmaj tolkien 's book and immediately became a lifelong fan of these richly detailed xxmaj middle xxmaj earth adventures . xxmaj so , in some respects , i owe this film a degree of acknowledgement as the film which shaped my literary tastes forever . \n",
              " \n",
              "  xxmaj sauron , the xxmaj dark xxmaj lord of xxmaj middle xxmaj earth , forges an all - powerful ring that gives him incredible power . xxmaj following a great battle during which xxmaj sauron is defeated , the ring falls into possession of a king named xxmaj xxunk \n",
              " . but instead of destroying it he foolishly chooses to keep it . xxmaj for centuries the ring passes from hand to hand , eventually coming into the possession of a hobbit named xxmaj frodo xxmaj baggins who lives in a peace - loving community known as xxmaj the xxmaj shire . xxmaj frodo learns from a wizard named xxmaj gandalf that his ring is in fact xxmaj the xxmaj one xxmaj ring , the very same that was forged by xxmaj sauron all those centuries ago , and that its master is once again searching for it in order to restore his dark power over the entire land . xxmaj frodo embarks on a perilous journey to protect the ring with three other hobbit companions , but every step of the way they are hunted by xxmaj sauron 's ring - wraiths , the xxmaj black xxmaj riders . xxmaj there follow many adventures , during which a company of nine adventurers is formed to guide the ring to the only place where it can be \" unmade \"  xxmaj mount xxmaj doom , in the land of xxmaj mordor . xxmaj the film concludes with xxmaj frodo and his best friend xxmaj sam on the borders of xxmaj mordor , closing ever nearer to their horrifying destination . xxmaj meanwhile xxmaj gandalf and the other members of the company fight off a huge army of orcs at the legendary fortress of xxmaj helm 's xxmaj deep . \n",
              " \n",
              "  xxmaj this version covers just over half of the original book . a second instalment was planned to bring the story to an end , but was sadly never completed . xxmaj while the ending feels abrupt , it does at least end at a sensible point in the story . xxmaj one has to feel a little frustration and regret that no sequel exists in which we might follow these animated heroes to their eventual goal . xxmaj the animation is passable , with a nice variety of locales and characters presented in interesting detail . xxmaj the music by xxmaj leonard xxmaj rosenman is suitably stirring and fits in appropriately with the epic narrative . xxmaj the voice - overs are decent , too , especially xxmaj john xxmaj hurt as xxmaj aragorn and xxmaj peter xxmaj xxunk as xxmaj gollum . xxmaj on the other hand , xxmaj michael xxmaj xxunk - who provides the voice for xxmaj sam - is rather campy and goofy , which is not well suited to the character . xxmaj the xxmaj lord xxmaj of xxmaj the xxmaj rings is a commendable attempt to visualise the staggering book on which it is based .,xxbos xxmaj the lovely xxmaj danish actress xxmaj sonja xxmaj richter steals this film from under the noses of everyone , no small feat considering the terrific performances surrounding her . \n",
              " \n",
              "  xxmaj richter plays xxmaj anna , an out - of - work , independent - minded , somewhat neurotic ( and perhaps suicidal ) actress who lands a desperation job looking after a wheelchair - bound , muted , aged father named xxmaj walentin ( the great xxmaj danish actor xxmaj frits xxmaj xxunk , who died at 77 shortly after this film was made ) . \n",
              " \n",
              "  xxup spoiler xxup alert \n",
              " \n",
              "  xxmaj walentin refuses to respond to anyone xxunk he confronts the gifted xxmaj anna , whose whimsical and mischievous manner brings the poor old battered devil back from a self - imposed death sentence . \n",
              " \n",
              "  xxmaj writer / director / actor xxmaj eric xxmaj clausen has made a strong film about the difficulty a ponderous businessman son ( xxmaj jorgen , played by xxmaj clausen ) has loving a father who has never accepted him . xxmaj the film sags toward the end , but xxmaj clausen has some important things to say about euthanasia , the nature and value of loving and caring , and how one person , the irrepressible xxmaj anna , can alter the course of a human life . xxmaj highly recommended . xxmaj sonja xxmaj richter 's performance is alone worth the price of admission .,xxbos \" xxmaj emma \" was a product of what might be called by the xxmaj first xxmaj great xxmaj jane xxmaj austen xxmaj cycle of the mid - nineties , and it was recently shown on xxmaj british television , doubtless because of the interest in the author created by the xxmaj second xxmaj great xxmaj jane xxmaj austen xxmaj cycle which started with \" xxmaj pride and xxmaj prejudice \" two years ago . xxmaj we currently have in the cinemas the xxmaj austen biopic \" xxmaj becoming xxmaj jane \" , and xxup itv have recently produced three xxup tv movies based on xxmaj austen novels . xxmaj these include \" xxmaj northanger xxmaj abbey \" , the only one of the six major novels not to have been filmed previously , so the cycle should now be complete . xxmaj no doubt , however , there will be more to come in the near future . ( xxmaj there is , after all , her juvenile \" xxmaj love and xxmaj xxunk \" ( sic ) , the short novella \" xxmaj lady xxmaj susan \" , and someone , somewhere , has doubtless supplied endings to her two unfinished fragments \" xxmaj the xxmaj xxunk \" and \" xxmaj xxunk \" . xxmaj then there are all those xxmaj austen sequels churned out by modern writers \n",
              "\n",
              "\n",
              " ) . \n",
              " \n",
              "  xxmaj the main character is xxmaj emma xxmaj woodhouse , a young lady from an aristocratic family in xxmaj regency xxmaj england . ( xxmaj not , as some reviewers have assumed , xxmaj victorian xxmaj xxunk xxmaj austen died before xxmaj queen xxmaj victoria was even born ) . xxmaj emma is , financially , considerably better off than most xxmaj austen heroines such as xxmaj elizabeth xxmaj bennett or xxmaj fanny xxmaj price , and has no need to find herself a wealthy husband . xxmaj instead , her main preoccupation seems to be finding husbands for her friends . xxmaj she persuades her friend xxmaj harriet to turn down a proposal of marriage from a young farmer , xxmaj robert xxmaj martin , believing that xxmaj harriet should be setting her sights on the ambitious clergyman xxmaj mr xxmaj elton . xxmaj this scheme goes disastrously wrong , however , as xxmaj elton has no interest in xxmaj harriet , but has fallen in love with xxmaj emma herself . xxmaj the speed with which xxmaj emma rejects his proposal makes one wonder just why she was so keen to match her friend with a man she regards ( with good reason ) as an unsuitable marriage partner for herself . xxmaj this being a xxmaj jane xxmaj austen plot , xxmaj emma turns out to be less of a committed spinster than she seems , and she too finds herself falling in love , leading to further complications . \n",
              " \n",
              "  xxmaj emma always insists that she will not marry without affection , and when she does find a partner , the handsome xxmaj mr xxmaj knightley , we feel that this will indeed be an affectionate marriage . xxmaj it does not , however , seem likely to be a very passionate one ( unlike , say , that of xxmaj elizabeth xxmaj bennett and xxmaj mr xxmaj darcy ) . xxmaj knightley , who is sixteen years older than xxmaj emma ( she is 21 , he 37 ) , and related to her by marriage , is more like a father - figure than a lover . xxmaj much more of a father - figure , in fact , than her actual father , a xxunk and selfish old hypochondriac who seems more like her grandfather . xxmaj when xxmaj emma is rude to her unbearably garrulous and tedious friend xxmaj miss xxmaj bates , it is xxmaj knightley who chides her for her lack of manners . ( xxmaj his surname is probably meant to indicate his gentlemanly xxunk nineteenth - century gentlemen liked to think of themselves as the modern equivalent of mediaeval knights with their elaborate codes of chivalry ) . xxmaj both xxmaj gwyneth xxmaj paltrow and xxmaj jeremy xxmaj northam play their parts very well , but this is not really one of the great screen romances . \n",
              " \n",
              "  xxmaj of the other characters , i liked xxmaj juliet xxmaj stephenson 's vulgar xxmaj mrs xxmaj elton and xxmaj toni xxmaj collette 's xxmaj harriet . i know that in the novel xxmaj harriet was a naïve young teenager , whereas here she is more like the character xxmaj collette played in \" xxmaj muriel 's xxmaj xxunk a gauche , slightly overweight twentysomething , fretting about her chances of finding a man . xxmaj nevertheless , i felt that this characterisation worked well in the context of the film and did not detract from xxmaj austen 's themes . \n",
              " \n",
              "  \" xxmaj emma \" is one of xxmaj austen 's more light - hearted works , without the darker overtones of \" xxmaj mansfield xxmaj park \" or even \" xxmaj pride and xxmaj prejudice \" , and this is reflected on screen . xxmaj we see a world of beauty and grace , full of stately homes and elegant costumes and fine manners . xxmaj apart from the xxunk gypsies , who make a very brief appearance , the only \" poor \" people we see are xxmaj mrs xxmaj bates and her daughter , and , as they live in the sort of picturesque rose - strewn xxunk cottage which today would change hands for over £ 500,000 , we can be sure that their poverty is relative , not absolute . xxmaj in xxmaj emma 's world , poverty is defined as not having your own stately home . xxmaj this is , of course , not a comprehensive picture of early nineteenth - century life , but nobody has ever claimed xxmaj austen as the xxmaj regency equivalent of a kitchen - sink realist . xxmaj sophisticated romantic comedy , combined with a keen eye for analysing human character , was more in her line . \n",
              " \n",
              "  i would not rate this film quite as highly as the 1994 \" xxmaj sense and xxmaj sensibility \" or the recent \" xxmaj pride and xxmaj xxunk it tends to drag a bit in the middle , although it has a strong beginning and strong xxunk but it is , in the main , a highly enjoyable xxmaj austen adaptation . 7 / 10,xxbos xxmaj in my line of work , i occasionally get contacted by independent filmmakers who are trying to publicize their film . xxmaj when i can , i take a look at these low - budget films and often they make me think that the future of xxmaj hollywood is going to the dogs . xxmaj once in a while , though , there is a film that is born of pure passion and desire , as if created for the purpose of reminding the film industry that good movies are still possible . xxmaj the short film b r o k e n , directed by xxmaj alex xxmaj ferrari , is a genuine surprise and worth a second look . \n",
              " \n",
              "  xxmaj clocking in at a scant 20 minutes , b r o k e n tries to tell a compelling ( but surreal ) story with almost no back story . xxmaj the audience is plopped down in the middle of the action with no clue as to what is happening . a young woman ( xxmaj samantha xxmaj jane xxmaj polay ) awakens from a dream to hear a gunshot and is subsequently abducted from her home . xxmaj when she awakes , she is surrounded by a group of mercenary thugs that look like they would be at home in a comic book . xxmaj these nasty guys and girls are larger than life . xxmaj they are all guns and knives . xxmaj there is no way out . \n",
              " \n",
              "  xxmaj the kicker here is that , despite being a low budget film it does n't play like one . xxmaj from the very beginning , the feeling is that b r o k e n has been shot , edited , and produced by professionals . xxmaj it looks like something xxmaj quentin xxmaj tarantino might have done on his day off when he was jamming with the xxmaj wachowski brothers . xxmaj the film is sharp and cool , it looks good and it feels like something big . \n",
              " \n",
              "  xxmaj the acting is much better than i usually see in these smaller films . xxmaj polay and xxmaj paul xxmaj gordon ( who plays the head killer , xxmaj duncan ) were well chosen . xxmaj as two of the few speaking roles in the film , it is up to them to carry the film . xxmaj no special effects , no matter how good , would have saved this film from bad acting . xxmaj thankfully , xxmaj polay manages to convey true fear and xxmaj gordon manages to come off as a real psycho . xxmaj some of the more limited roles seem to be filled by lesser talent , but it hardly shows . \n",
              " \n",
              "  xxmaj the downside to b r o k e n is that it 's only 20 minutes long . xxmaj the story ends with a xxmaj twilight xxmaj zone twist that seems a bit contrived and is hardly subtle . xxmaj watching it , i felt like i was supposed to have some epiphany , but there was only a feeling that it was much more mundane than i had hoped it would be . xxmaj the film tries hard to be one of those puzzles that leaves audiences talking for hours at the local coffee shop , but it comes off as unsatisfying . i keep thinking that this is the first 20 minutes of a longer film . \n",
              " \n",
              "  xxup my xxup rating : 8 out of 10 .,xxbos i have to admit that i went into xxmaj fever xxmaj pitch with low expectations . xxmaj it 's no huge revelation for me to say that xxmaj jimmy xxmaj fallon 's last movie ( xxmaj taxi ) was xxmaj xxunk bad , and the trailers for xxmaj fever xxmaj pitch were all right but did n't mesmerize me . i was already preparing some cheesy baseball puns for my review ... \n",
              " \n",
              "  \" i like xxmaj jimmy xxmaj fallon , but xxmaj taxi was strike one in his movie career . xxmaj well , now we 've got st xxrep 6 e -r xxrep 6 i ke xxunk xxrep 8 o ! xxmaj one more strike , and it 's back to xxup snl ! \" or \" xxmaj buy yourself some peanuts and cracker jacks , but do n't buy tickets to xxmaj fever xxmaj pitch . xxmaj you 'll walk out of the theater and never go back ! \" xxmaj then the movie had to go and be way more entertaining than i was expecting . xxmaj but hey , i could n't let my puns go to waste , right ? xxmaj another reason i thought i would n't care for the movie is that i hate the xxmaj boston xxmaj red xxmaj sox . xxmaj my whole family hates 'em . xxmaj the mere mention of xxmaj pedro xxmaj martinez ' name sends me running to the bathroom . xxmaj oh man , hold on ... \n",
              " \n",
              "  ... xxmaj all right , i 'm back . xxmaj anyway , my mom , who is a xxmaj st. xxmaj louis xxmaj cardinals fan , still believes the xxmaj world xxmaj series was rigged last year . xxmaj she refuses to believe the xxmaj sox won it legitimately . xxmaj but i 'm man enough to admit that xxmaj fever xxmaj pitch caused me to sympathize , albeit only slightly , with the plight of xxmaj red xxmaj sox fans . \n",
              " \n",
              "  xxmaj anybody who has a passion for sports will be able to relate to this movie on some level . xxmaj unless you have a favorite sports team you ca n't fully understand the extreme highs and lows that a fan such as xxmaj fallon 's xxmaj ben can go through . xxmaj there 's nothing quite so fresh as the smell of a new season and nothing quite so smooth as a clean slate . xxmaj well , figuratively speaking . xxmaj it 's the joy of being a sports fan . \" xxmaj wait ' til next year , \" becomes your mantra , your motto , your prayer - and xxmaj fever xxmaj pitch effectively captures that essence . \n",
              " \n",
              "  i love the fact that the movie takes a fictional story and throws it against the real - life backdrop of the xxmaj red xxmaj sox ' improbable xxmaj world xxmaj series run last year . i do n't love it so much that i want to marry it , but you know what i mean . i expected this to be handled in a fairly cheesy manner , and while some of the humor is a little silly , it 's actually pretty realistic . \n",
              " \n",
              "  xxmaj you see , xxmaj ben 's uncle took him to his first xxmaj red xxmaj sox game when he was 7 years old , and when he died he left xxmaj ben his two season tickets . xxmaj ben has n't missed a game in 23 years . xxmaj at the beginning of each season he has a draft day where he and his friends get together to figure out who gets to go to which games with him . xxmaj he makes everybody dance for the xxmaj yankees games and whenever somebody complains he threatens them with tickets for the games with the xxmaj royals ( sorry xxmaj mr. xxmaj shade ) and the xxmaj devil xxmaj rays . xxmaj it 's a very good scene , and it works so well because i actually know of people who do the \" ticket draft day . \" i also must admit that i can relate to when xxmaj ben goes to dinner with xxmaj lindsey and her parents . xxmaj the xxmaj red xxmaj sox are playing a road game , but instead of watching it live on xxup tv xxmaj ben decides to tape it . xxmaj one of the most dangerous things in life is taping a game and then being in public and trying to avoid hearing the result . xxmaj been there . xxmaj it 's a very tense and scary situation . w xxrep 6 e ll , xxmaj ben enters the danger zone when a guy shows up at the restaurant and mentions watching the game . xxmaj ben immediately covers his ears and starts shrieking like a banshee so as not to hear the outcome . xxmaj lindsey is embarrassed , and her parents do n't know what to think . xxmaj yeah , sports fans can be weird , i do n't deny it . xxmaj but it 's real . \n",
              " \n",
              "  xxmaj now if you 're expecting the crude , edgy stuff that the xxmaj farrelly brothers are known for then you could be disappointed . xxmaj they do have their moments though , like when xxmaj ben says he likes how xxmaj lindsey sometimes talks out of the side of her mouth \" like an adorable stroke victim , \" but overall this is definitely a softer , more romantic side that the bros are putting on display . \n",
              " \n",
              "  xxmaj that 's not to say that the movie ever gets way too sappy . xxmaj thankfully , when the sap starts to ooze a bit , the xxmaj farrellys know when to pull away . a romantic moment with xxmaj lindsey jumping on the field and running over to xxmaj ben to declare her undying love for him turns into xxmaj ben sincerely replying , \" xxmaj you 've got ta tell me about the outfield . xxmaj is it xxunk ? \" xxmaj jimmy xxmaj fallon proves that with the right material he can handle himself well on the big screen , and xxmaj drew xxmaj barrymore remains a constant source of romantic comedy charm . xxmaj fever xxmaj pitch is just good , solid entertainment that takes a somewhat fresh look at the romantic comedy genre . xxmaj it 's a movie that guys and gals can both relate to . xxmaj particularly the guys who practice sports fanaticism at some point during the year and the ladies who must deal with 'em . \n",
              " \n",
              "  xxmaj now if the xxmaj red xxmaj sox fans could please shut up about the \" xxmaj curse of the xxmaj bambino \" i would appreciate it . xxmaj my xxmaj memphis xxmaj tigers have xxup never won the xxup ncaa basketball championship , so i officially declare my plight greater than yours . \n",
              " \n",
              "  xxup the xxup gist xxmaj fans of xxmaj jimmy xxmaj fallon , xxmaj drew xxmaj barrymore , romantic comedy , the xxmaj red xxmaj sox , baseball , or sports fanaticism in general should consider giving xxmaj fever xxmaj pitch a look . i would n't go out of my way to rush and see it at the first available time , but it 'll make a great matinée . \n",
              " \n",
              "  xxmaj rating : 3.25 ( out of 5 )\n",
              "y: CategoryList\n",
              "pos,pos,pos,pos,pos\n",
              "Path: /root/.fastai/data/imdb;\n",
              "\n",
              "Valid: LabelList (25000 items)\n",
              "x: TextList\n",
              "xxbos xxmaj great movie . i was laughing all time through . xxmaj why ? xxmaj well , i am from xxmaj austria , i can get along with the xxmaj german ( xxmaj bavarian ) kind of humor . xxmaj so i guess this movie makes only sense watching when you are xxmaj german native speaker . xxmaj stefan and xxmaj erkan both are talking in a new kind of turkish - german accent , which became really popular in our xxmaj countries ( xxup xxunk & xxup xxunk ) . xxmaj but of course they are very stupid . xxmaj as in every comedy your personal humor will decide , whether thumb up or down .,xxbos xxmaj based on the manga ( comic ) of well - known artist xxmaj masamune xxmaj shirow , this animated feature was a slight disappointment to me . \n",
              " \n",
              "  xxmaj the story is good , but the animation is merely \" xxup ok \" while it could / should have been mindblowing . xxmaj the movie is xxup imo adequate , but seems somehow flat & uninspired , if you know what i mean . a wasted opportunity , if you consider that another work by xxmaj shirow , \" xxmaj ghost xxmaj in xxmaj the xxmaj shell \" , is considered a classic in many respects . xxmaj it set new standards for xxmaj japanese animation , and spawned , among other things , a brilliant series called \" gits : xxmaj stand xxmaj alone xxmaj complex \" . \n",
              " \n",
              "  i consider this worth a rental , unless you 're a fan of xxmaj shirow and want it all . xxmaj do check out the original manga , which comes highly recommended .,xxbos xxmaj inarguably one of the most interesting filmmakers of the last 50 years , xxmaj werner xxmaj herzog has been pushing the boundaries of cinema perhaps more so than any other commercial filmmaker . i 've been acquainted with xxmaj herzog for a few decades now and i 've never not been impressed by both the man and his work . xxmaj last year i went to see xxmaj rescue xxmaj dawn and was somewhat surprised at how relatively mainstream the film was , yet could n't help but imagine xxmaj herzog taking his actors and crew into the actual jungle to not only make the film , but to live it . xxmaj no other filmmaker is as crazed about the purity of the film - making process and the subsequent lore from such productions as xxmaj fitzcarraldo has been forged into cinematic legend . \n",
              " \n",
              "  xxmaj today i sat down to xxmaj fata xxmaj morgana , a 1969 xxmaj herzog film that could be described as an allegorical filmic postcard . xxmaj without researching the actual locations , i 'm assuming it was shot somewhere in xxmaj africa , both coastal and desert , a region that could have once been the cradle of infant man , infant civilization , infant life on earth . xxmaj it is these origins , the biblical notion of the xxmaj garden of xxmaj eden and the xxmaj apocalypse that xxmaj herzog is concerned with , as is voiced by the narration dispensed throughout the 79 minute run time . \n",
              " \n",
              "  xxmaj watching xxup fm i could n't help but feel i was a passenger on a profound journey . xxmaj in the opening sequence , the title is translated as \" xxmaj mirage \" and xxmaj herzog juxtaposes this translation with multiple repetitions of commercial jets landing on an airstrip . xxmaj these images are perverted , their xxunk crushed flat by a long lens , piling layers of exhaust , heat waves and light aberrations all on top of one another . xxmaj the effect left me to conclude : things are not as they seem . \n",
              " \n",
              "  xxup fm is divided into 3 very distinct chapters : 1 ) xxmaj creation , 2 ) xxmaj paradise and 3 ) xxmaj the xxmaj golden xxmaj age . xxmaj chapter xxmaj one , opens with countless , languid images , where bleak , barren landscapes scroll by , dead animals rot , broken shells of crashed airplanes and abandoned cars slowly disintegrate in the desert sun . xxmaj the people populating this inhospitable landscape are ragged , unsmiling and apparent prisoners of the desert . xxmaj the narration talks of a time before life , a time where the canvas of earth was blank and all that existed were the heavens . xxmaj while the narration hearkens to a simpler , purer era , a portrait of a young boy holding a fox - like animal by its throat evokes a chilling depiction of man 's cruel , ruthless attempt to enforce a dominion over nature . \n",
              " \n",
              "  xxmaj in the next chapter we are introduced to more of the same , yet the images and people are more animated and seem infused with a modicum of life and vitality . xxmaj we listen to a xxunk biologist talk about the xxunk a monitor lizard has hunting for prey in such a lifeless environment . xxmaj as he holds the squirming monitor , its tongue flicking at flies , he also describes how difficult it to capture these creatures in the searing 140 degree heat . xxmaj the parallel is duly noted and xxmaj herzog continues to explore this concept through repeated , candid portraits of individuals battered by the sun , the desert and the laborious efforts required to exist in this harsh realm . xxmaj he also pushes forward the theme that if not in control , man asserts his control over his environment and not always in the most pleasant of ways . \n",
              " \n",
              "  xxmaj the last chapter takes us out of the desert 's blast furnace and into the more familiar xxmaj herzog territory populated by eccentrics and absurd behavior . xxmaj no one seems to have a more effective symbiotic relationship with the oddballs of the world than xxmaj herzog -- possibly this is where he feels most at home . xxmaj much like xxmaj errol xxmaj morris , xxmaj herzog chooses to place his camera in as seemingly objective a position as he can before he lets the film roll . xxmaj the subsequent flirtation xxmaj herzog has with his subject is the result of him being able to continue shooting well beyond the point when most directors would have yelled cut . xxmaj as xxmaj morris does , this extended roll pushes past the \" on \" moment the subjects feel obliged to offer and through their discomfort of being pushed into overtime , their facade gives way to something real . xxmaj the most humorous portrait in this chapter is of the 2 person band playing an odd , polka - like song that xxmaj herzog recycles throughout this chapter . xxmaj the drummer of the band wears the same goggles as the biologist , as does another guy doing a magic trick , begging the question : what 's with the goggles ? xxmaj they definitely add some levity to the film , but one has to wonder if they hold any deeper meaning or significance , or is this just another example of xxmaj herzog 's xxunk . \n",
              " \n",
              "  xxmaj the narration aside , xxmaj herzog utilizes folk and blues music as the experimental documentary 's soundtrack . xxmaj leonard xxmaj cohen grabs the most screen time , two of his beautifully melancholic songs \" xxmaj so xxmaj long xxmaj marianne \" and \" xxmaj suzanne . \" perfectly accompany the scrolling landscapes , adding to the convincing feel that we are truly along for the ride . xxmaj by the end of the journey , xxmaj herzog comes back to one of the many shots that recur throughout the film : the distant framing of a lone vehicle traversing the endless desert engulfed by a water mirage that fills the horizon . xxmaj despite the overall bleakness of xxup fm , the crescendo of the film and the mirage motif leave you with a hopeful spirit , belief that against all odds , life will persevere and possibly even flourish . \n",
              " \n",
              "  xxmaj having finished writing this post , i referenced xxup fm to discover that xxmaj herzog shot it in xxmaj saharan xxmaj cameroon only weeks after a bloody coup . xxmaj true to his legend , xxmaj herzog and his crew were arrested , beaten and imprisoned . xxmaj while imprisoned , xxmaj herzog fell ill with xxmaj xxunk , a blood parasite . xxmaj it 's truly hard not to love such a hypnotic and austere film as xxmaj fata xxmaj morgana ; knowing the filmmaker was willing to die to get it made only makes you respect it all the more . \n",
              " \n",
              "  http : / / eattheblinds.blogspot.com /,xxbos xxmaj the centerpiece of xxmaj lackawanna xxmaj blues is the character xxmaj rachel \" xxmaj nanny \" xxmaj crosby , who runs a boardinghouse and provides unflagging support to a young boy , xxmaj ruben , the narrator of the film . xxmaj based upon the experiences of writer - actor xxmaj ruben xxmaj santiago - xxmaj hudson , the film lovingly recreates the upstate xxmaj new xxmaj york boardinghouse and evokes the cultural climate of a world in transition in the 1960s . \n",
              " \n",
              "  xxmaj the first half of the film is virtually non - stop music . xxmaj the second half addresses more completely the various characters in the boardinghouse . xxmaj nanny 's ability \" to take fragments and make them whole \" affects everyone within her sphere . xxmaj an especially vivid scene is when she confronts an abusive husband , telling him firmly , \" xxmaj if you ever touch that child again , we 're going to dance ! \" xxmaj as delivered by actress xxup s. xxmaj epatha xxmaj merkerson , that line is so steely and filled with such resolve that the husband with the hair - trigger temper is frozen in his tracks . \n",
              " \n",
              "  xxmaj from start to finish , xxmaj merkerson delivers a commanding presence xxmaj her character binds together the disparate lives of the borders in her home . xxmaj this was a touching , heartfelt film with a wonderful cast . xxmaj as played by xxmaj merkerson , the character of xxmaj nanny simply radiates love . xxmaj this is a film experience that i will remember for a long time to come .,xxbos xxmaj this is a better - than - average entry in the xxmaj saint series - xxmaj it holds your interest and , as mysteries should , keeps you guessing until the end and has several suspects to choose from . \n",
              " \n",
              "  xxmaj many films from the xxmaj golden xxmaj age are not for all tastes , especially younger viewers . xxmaj they date themselves by clothing , cars , settings , etc . xxmaj who nowadays asks for a xxunk ? xxmaj or wears a suit and tie everywhere ? xxmaj and the legal process was so much simpler - must have been a dearth of lawyers back then . xxmaj frankly , much of value is missing from those days . \n",
              " \n",
              "  xxmaj in any case , go with it and enjoy . xxmaj it 's good - in an old - fashioned sense .\n",
              "y: CategoryList\n",
              "pos,pos,pos,pos,pos\n",
              "Path: /root/.fastai/data/imdb;\n",
              "\n",
              "Test: None, model=SequentialRNN(\n",
              "  (0): MultiBatchEncoder(\n",
              "    (module): AWD_LSTM(\n",
              "      (encoder): Embedding(60000, 400, padding_idx=1)\n",
              "      (encoder_dp): EmbeddingDropout(\n",
              "        (emb): Embedding(60000, 400, padding_idx=1)\n",
              "      )\n",
              "      (rnns): ModuleList(\n",
              "        (0): WeightDropout(\n",
              "          (module): LSTM(400, 1152, batch_first=True)\n",
              "        )\n",
              "        (1): WeightDropout(\n",
              "          (module): LSTM(1152, 1152, batch_first=True)\n",
              "        )\n",
              "        (2): WeightDropout(\n",
              "          (module): LSTM(1152, 400, batch_first=True)\n",
              "        )\n",
              "      )\n",
              "      (input_dp): RNNDropout()\n",
              "      (hidden_dps): ModuleList(\n",
              "        (0): RNNDropout()\n",
              "        (1): RNNDropout()\n",
              "        (2): RNNDropout()\n",
              "      )\n",
              "    )\n",
              "  )\n",
              "  (1): PoolingLinearClassifier(\n",
              "    (layers): Sequential(\n",
              "      (0): BatchNorm1d(1200, eps=1e-05, momentum=0.1, affine=True, track_running_stats=True)\n",
              "      (1): Dropout(p=0.2, inplace=False)\n",
              "      (2): Linear(in_features=1200, out_features=50, bias=True)\n",
              "      (3): ReLU(inplace=True)\n",
              "      (4): BatchNorm1d(50, eps=1e-05, momentum=0.1, affine=True, track_running_stats=True)\n",
              "      (5): Dropout(p=0.1, inplace=False)\n",
              "      (6): Linear(in_features=50, out_features=2, bias=True)\n",
              "    )\n",
              "  )\n",
              "), opt_func=functools.partial(<class 'torch.optim.adam.Adam'>, betas=(0.9, 0.99)), loss_func=FlattenedLoss of CrossEntropyLoss(), metrics=[<function accuracy at 0x7ff18251a620>], true_wd=True, bn_wd=True, wd=0.01, train_bn=True, path=PosixPath('/root/.fastai/data/imdb'), model_dir='models', callback_fns=[functools.partial(<class 'fastai.basic_train.Recorder'>, add_time=True, silent=False)], callbacks=[...], layer_groups=[Sequential(\n",
              "  (0): Embedding(60000, 400, padding_idx=1)\n",
              "  (1): EmbeddingDropout(\n",
              "    (emb): Embedding(60000, 400, padding_idx=1)\n",
              "  )\n",
              "), Sequential(\n",
              "  (0): WeightDropout(\n",
              "    (module): LSTM(400, 1152, batch_first=True)\n",
              "  )\n",
              "  (1): RNNDropout()\n",
              "), Sequential(\n",
              "  (0): WeightDropout(\n",
              "    (module): LSTM(1152, 1152, batch_first=True)\n",
              "  )\n",
              "  (1): RNNDropout()\n",
              "), Sequential(\n",
              "  (0): WeightDropout(\n",
              "    (module): LSTM(1152, 400, batch_first=True)\n",
              "  )\n",
              "  (1): RNNDropout()\n",
              "), Sequential(\n",
              "  (0): PoolingLinearClassifier(\n",
              "    (layers): Sequential(\n",
              "      (0): BatchNorm1d(1200, eps=1e-05, momentum=0.1, affine=True, track_running_stats=True)\n",
              "      (1): Dropout(p=0.2, inplace=False)\n",
              "      (2): Linear(in_features=1200, out_features=50, bias=True)\n",
              "      (3): ReLU(inplace=True)\n",
              "      (4): BatchNorm1d(50, eps=1e-05, momentum=0.1, affine=True, track_running_stats=True)\n",
              "      (5): Dropout(p=0.1, inplace=False)\n",
              "      (6): Linear(in_features=50, out_features=2, bias=True)\n",
              "    )\n",
              "  )\n",
              ")], add_time=True, silent=False)\n",
              "alpha: 2.0\n",
              "beta: 1.0], layer_groups=[Sequential(\n",
              "  (0): Embedding(60000, 400, padding_idx=1)\n",
              "  (1): EmbeddingDropout(\n",
              "    (emb): Embedding(60000, 400, padding_idx=1)\n",
              "  )\n",
              "), Sequential(\n",
              "  (0): WeightDropout(\n",
              "    (module): LSTM(400, 1152, batch_first=True)\n",
              "  )\n",
              "  (1): RNNDropout()\n",
              "), Sequential(\n",
              "  (0): WeightDropout(\n",
              "    (module): LSTM(1152, 1152, batch_first=True)\n",
              "  )\n",
              "  (1): RNNDropout()\n",
              "), Sequential(\n",
              "  (0): WeightDropout(\n",
              "    (module): LSTM(1152, 400, batch_first=True)\n",
              "  )\n",
              "  (1): RNNDropout()\n",
              "), Sequential(\n",
              "  (0): PoolingLinearClassifier(\n",
              "    (layers): Sequential(\n",
              "      (0): BatchNorm1d(1200, eps=1e-05, momentum=0.1, affine=True, track_running_stats=True)\n",
              "      (1): Dropout(p=0.2, inplace=False)\n",
              "      (2): Linear(in_features=1200, out_features=50, bias=True)\n",
              "      (3): ReLU(inplace=True)\n",
              "      (4): BatchNorm1d(50, eps=1e-05, momentum=0.1, affine=True, track_running_stats=True)\n",
              "      (5): Dropout(p=0.1, inplace=False)\n",
              "      (6): Linear(in_features=50, out_features=2, bias=True)\n",
              "    )\n",
              "  )\n",
              ")], add_time=True, silent=False)"
            ]
          },
          "metadata": {
            "tags": []
          },
          "execution_count": 44
        }
      ]
    },
    {
      "cell_type": "code",
      "metadata": {
        "id": "naPlWhhET_l8",
        "colab_type": "code",
        "colab": {
          "base_uri": "https://localhost:8080/",
          "height": 112
        },
        "outputId": "81e41dfe-1c35-4775-d812-568dd3b716fd"
      },
      "source": [
        "learn.lr_find()"
      ],
      "execution_count": 45,
      "outputs": [
        {
          "output_type": "display_data",
          "data": {
            "text/html": [
              "\n",
              "    <div>\n",
              "        <style>\n",
              "            /* Turns off some styling */\n",
              "            progress {\n",
              "                /* gets rid of default border in Firefox and Opera. */\n",
              "                border: none;\n",
              "                /* Needs to be in here for Safari polyfill so background images work as expected. */\n",
              "                background-size: auto;\n",
              "            }\n",
              "            .progress-bar-interrupted, .progress-bar-interrupted::-webkit-progress-bar {\n",
              "                background: #F44336;\n",
              "            }\n",
              "        </style>\n",
              "      <progress value='0' class='' max='1' style='width:300px; height:20px; vertical-align: middle;'></progress>\n",
              "      0.00% [0/1 00:00<00:00]\n",
              "    </div>\n",
              "    \n",
              "<table border=\"1\" class=\"dataframe\">\n",
              "  <thead>\n",
              "    <tr style=\"text-align: left;\">\n",
              "      <th>epoch</th>\n",
              "      <th>train_loss</th>\n",
              "      <th>valid_loss</th>\n",
              "      <th>accuracy</th>\n",
              "      <th>time</th>\n",
              "    </tr>\n",
              "  </thead>\n",
              "  <tbody>\n",
              "  </tbody>\n",
              "</table><p>\n",
              "\n",
              "    <div>\n",
              "        <style>\n",
              "            /* Turns off some styling */\n",
              "            progress {\n",
              "                /* gets rid of default border in Firefox and Opera. */\n",
              "                border: none;\n",
              "                /* Needs to be in here for Safari polyfill so background images work as expected. */\n",
              "                background-size: auto;\n",
              "            }\n",
              "            .progress-bar-interrupted, .progress-bar-interrupted::-webkit-progress-bar {\n",
              "                background: #F44336;\n",
              "            }\n",
              "        </style>\n",
              "      <progress value='96' class='' max='520' style='width:300px; height:20px; vertical-align: middle;'></progress>\n",
              "      18.46% [96/520 00:49<03:36 2.0049]\n",
              "    </div>\n",
              "    "
            ],
            "text/plain": [
              "<IPython.core.display.HTML object>"
            ]
          },
          "metadata": {
            "tags": []
          }
        },
        {
          "output_type": "stream",
          "text": [
            "LR Finder is complete, type {learner_name}.recorder.plot() to see the graph.\n"
          ],
          "name": "stdout"
        }
      ]
    },
    {
      "cell_type": "code",
      "metadata": {
        "id": "9LVuHshKT_l-",
        "colab_type": "code",
        "colab": {
          "base_uri": "https://localhost:8080/",
          "height": 279
        },
        "outputId": "e756ffa7-c68f-43fc-8512-e9b2483196a2"
      },
      "source": [
        "learn.recorder.plot()"
      ],
      "execution_count": 46,
      "outputs": [
        {
          "output_type": "display_data",
          "data": {
            "image/png": "[encoded data removed]",
            "text/plain": [
              "<Figure size 432x288 with 1 Axes>"
            ]
          },
          "metadata": {
            "tags": [],
            "needs_background": "light"
          }
        }
      ]
    },
    {
      "cell_type": "code",
      "metadata": {
        "id": "3jHym7nAT_mB",
        "colab_type": "code",
        "outputId": "918ff429-6090-4e94-cf4f-005d9add591d",
        "colab": {
          "base_uri": "https://localhost:8080/",
          "height": 77
        }
      },
      "source": [
        "learn.fit_one_cycle(1, 2e-2, moms=(0.8,0.7))"
      ],
      "execution_count": 47,
      "outputs": [
        {
          "output_type": "display_data",
          "data": {
            "text/html": [
              "<table border=\"1\" class=\"dataframe\">\n",
              "  <thead>\n",
              "    <tr style=\"text-align: left;\">\n",
              "      <th>epoch</th>\n",
              "      <th>train_loss</th>\n",
              "      <th>valid_loss</th>\n",
              "      <th>accuracy</th>\n",
              "      <th>time</th>\n",
              "    </tr>\n",
              "  </thead>\n",
              "  <tbody>\n",
              "    <tr>\n",
              "      <td>0</td>\n",
              "      <td>0.330005</td>\n",
              "      <td>0.259694</td>\n",
              "      <td>0.893400</td>\n",
              "      <td>05:26</td>\n",
              "    </tr>\n",
              "  </tbody>\n",
              "</table>"
            ],
            "text/plain": [
              "<IPython.core.display.HTML object>"
            ]
          },
          "metadata": {
            "tags": []
          }
        }
      ]
    },
    {
      "cell_type": "code",
      "metadata": {
        "id": "loPDmPEQT_mC",
        "colab_type": "code",
        "colab": {}
      },
      "source": [
        "learn.save('first')"
      ],
      "execution_count": 0,
      "outputs": []
    },
    {
      "cell_type": "code",
      "metadata": {
        "id": "_tXRYeU7T_mF",
        "colab_type": "code",
        "colab": {}
      },
      "source": [
        "learn.load('first');"
      ],
      "execution_count": 0,
      "outputs": []
    },
    {
      "cell_type": "code",
      "metadata": {
        "id": "ISRQU4i8T_mH",
        "colab_type": "code",
        "outputId": "cda37e53-e46b-4791-edf2-1baf2030a880",
        "colab": {
          "base_uri": "https://localhost:8080/",
          "height": 77
        }
      },
      "source": [
        "learn.freeze_to(-2)\n",
        "learn.fit_one_cycle(1, slice(1e-2/(2.6**4), 1e-2), moms=(0.8,0.7))\n",
        "# learning rate : 2.6에 관하여. 차별적 학습률. 하이퍼 매개변수. 랜덤 포레스트. 최적의 매개변수 설정. "
      ],
      "execution_count": 50,
      "outputs": [
        {
          "output_type": "display_data",
          "data": {
            "text/html": [
              "<table border=\"1\" class=\"dataframe\">\n",
              "  <thead>\n",
              "    <tr style=\"text-align: left;\">\n",
              "      <th>epoch</th>\n",
              "      <th>train_loss</th>\n",
              "      <th>valid_loss</th>\n",
              "      <th>accuracy</th>\n",
              "      <th>time</th>\n",
              "    </tr>\n",
              "  </thead>\n",
              "  <tbody>\n",
              "    <tr>\n",
              "      <td>0</td>\n",
              "      <td>0.279007</td>\n",
              "      <td>0.219035</td>\n",
              "      <td>0.915840</td>\n",
              "      <td>05:16</td>\n",
              "    </tr>\n",
              "  </tbody>\n",
              "</table>"
            ],
            "text/plain": [
              "<IPython.core.display.HTML object>"
            ]
          },
          "metadata": {
            "tags": []
          }
        }
      ]
    },
    {
      "cell_type": "code",
      "metadata": {
        "id": "7yqlPsi4T_mI",
        "colab_type": "code",
        "colab": {}
      },
      "source": [
        "learn.save('second')"
      ],
      "execution_count": 0,
      "outputs": []
    },
    {
      "cell_type": "code",
      "metadata": {
        "id": "xUOmYOOmT_mK",
        "colab_type": "code",
        "colab": {}
      },
      "source": [
        "learn.load('second');"
      ],
      "execution_count": 0,
      "outputs": []
    },
    {
      "cell_type": "code",
      "metadata": {
        "id": "60-WqtH1T_mL",
        "colab_type": "code",
        "outputId": "1824739c-5476-452b-e034-883e054b4e54",
        "colab": {
          "base_uri": "https://localhost:8080/",
          "height": 77
        }
      },
      "source": [
        "learn.freeze_to(-3)\n",
        "learn.fit_one_cycle(1, slice(5e-3/(2.6**4), 5e-3), moms=(0.8,0.7))"
      ],
      "execution_count": 53,
      "outputs": [
        {
          "output_type": "display_data",
          "data": {
            "text/html": [
              "<table border=\"1\" class=\"dataframe\">\n",
              "  <thead>\n",
              "    <tr style=\"text-align: left;\">\n",
              "      <th>epoch</th>\n",
              "      <th>train_loss</th>\n",
              "      <th>valid_loss</th>\n",
              "      <th>accuracy</th>\n",
              "      <th>time</th>\n",
              "    </tr>\n",
              "  </thead>\n",
              "  <tbody>\n",
              "    <tr>\n",
              "      <td>0</td>\n",
              "      <td>0.254364</td>\n",
              "      <td>0.192709</td>\n",
              "      <td>0.924720</td>\n",
              "      <td>06:09</td>\n",
              "    </tr>\n",
              "  </tbody>\n",
              "</table>"
            ],
            "text/plain": [
              "<IPython.core.display.HTML object>"
            ]
          },
          "metadata": {
            "tags": []
          }
        }
      ]
    },
    {
      "cell_type": "code",
      "metadata": {
        "id": "di8tIBURT_mN",
        "colab_type": "code",
        "colab": {}
      },
      "source": [
        "learn.save('third')"
      ],
      "execution_count": 0,
      "outputs": []
    },
    {
      "cell_type": "code",
      "metadata": {
        "id": "ak_FG7laT_mP",
        "colab_type": "code",
        "colab": {}
      },
      "source": [
        "learn.load('third');"
      ],
      "execution_count": 0,
      "outputs": []
    },
    {
      "cell_type": "code",
      "metadata": {
        "id": "2irbNU_rT_mR",
        "colab_type": "code",
        "outputId": "a3dd3737-9535-4b9a-90e6-6f7d5a3f0fa5",
        "colab": {
          "base_uri": "https://localhost:8080/",
          "height": 107
        }
      },
      "source": [
        "learn.unfreeze()\n",
        "learn.fit_one_cycle(2, slice(1e-3/(2.6**4), 1e-3), moms=(0.8,0.7))"
      ],
      "execution_count": 56,
      "outputs": [
        {
          "output_type": "display_data",
          "data": {
            "text/html": [
              "<table border=\"1\" class=\"dataframe\">\n",
              "  <thead>\n",
              "    <tr style=\"text-align: left;\">\n",
              "      <th>epoch</th>\n",
              "      <th>train_loss</th>\n",
              "      <th>valid_loss</th>\n",
              "      <th>accuracy</th>\n",
              "      <th>time</th>\n",
              "    </tr>\n",
              "  </thead>\n",
              "  <tbody>\n",
              "    <tr>\n",
              "      <td>0</td>\n",
              "      <td>0.202985</td>\n",
              "      <td>0.177036</td>\n",
              "      <td>0.931640</td>\n",
              "      <td>05:17</td>\n",
              "    </tr>\n",
              "    <tr>\n",
              "      <td>1</td>\n",
              "      <td>0.192615</td>\n",
              "      <td>0.173693</td>\n",
              "      <td>0.933360</td>\n",
              "      <td>06:01</td>\n",
              "    </tr>\n",
              "  </tbody>\n",
              "</table>"
            ],
            "text/plain": [
              "<IPython.core.display.HTML object>"
            ]
          },
          "metadata": {
            "tags": []
          }
        }
      ]
    },
    {
      "cell_type": "code",
      "metadata": {
        "id": "SZFlDI1xT_mU",
        "colab_type": "code",
        "outputId": "3c4f50a7-c1d5-4125-b3fb-4d6eb0c053bb",
        "colab": {
          "base_uri": "https://localhost:8080/",
          "height": 34
        }
      },
      "source": [
        "learn.predict(\"I really loved that movie, it was awesome!\")"
      ],
      "execution_count": 57,
      "outputs": [
        {
          "output_type": "execute_result",
          "data": {
            "text/plain": [
              "(Category pos, tensor(1), tensor([7.1944e-05, 9.9993e-01]))"
            ]
          },
          "metadata": {
            "tags": []
          },
          "execution_count": 57
        }
      ]
    },
    {
      "cell_type": "code",
      "metadata": {
        "id": "LPxOwIfpT_mW",
        "colab_type": "code",
        "colab": {}
      },
      "source": [
        ""
      ],
      "execution_count": 0,
      "outputs": []
    }
  ]
}