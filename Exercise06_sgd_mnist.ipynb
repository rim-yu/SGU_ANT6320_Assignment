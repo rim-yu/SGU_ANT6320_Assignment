{
  "nbformat": 4,
  "nbformat_minor": 0,
  "metadata": {
    "kernelspec": {
      "name": "python3",
      "display_name": "Python 3"
    },
    "colab": {
      "name": "Exercise06_sgd-mnist.ipynb",
      "provenance": [],
      "collapsed_sections": [
        "lcz6lzsAR7FY"
      ],
      "include_colab_link": true
    },
    "accelerator": "GPU"
  },
  "cells": [
    {
      "cell_type": "markdown",
      "metadata": {
        "id": "view-in-github",
        "colab_type": "text"
      },
      "source": [
        "<a href=\"https://colab.research.google.com/github/rim-yu/SGU_ANT6320_Assignment/blob/master/Exercise06_sgd_mnist.ipynb\" target=\"_parent\"><img src=\"https://colab.research.google.com/assets/colab-badge.svg\" alt=\"Open In Colab\"/></a>"
      ]
    },
    {
      "cell_type": "code",
      "metadata": {
        "id": "S8k450edR7CS",
        "colab_type": "code",
        "colab": {}
      },
      "source": [
        "%matplotlib inline\n",
        "from fastai.basics import *\n",
        "# fastai.basics pakege의 모든 module을 import한다. "
      ],
      "execution_count": 0,
      "outputs": []
    },
    {
      "cell_type": "code",
      "metadata": {
        "id": "afHTj-Gkd3-F",
        "colab_type": "code",
        "outputId": "be13b06d-c4c3-4d91-d1de-d368abc607ee",
        "colab": {
          "base_uri": "https://localhost:8080/",
          "height": 34
        }
      },
      "source": [
        "from google.colab import drive\n",
        "drive.mount('/content/drive')"
      ],
      "execution_count": 0,
      "outputs": [
        {
          "output_type": "stream",
          "text": [
            "Drive already mounted at /content/drive; to attempt to forcibly remount, call drive.mount(\"/content/drive\", force_remount=True).\n"
          ],
          "name": "stdout"
        }
      ]
    },
    {
      "cell_type": "markdown",
      "metadata": {
        "id": "L68gZxE_R7Cc",
        "colab_type": "text"
      },
      "source": [
        "## MNIST SGD"
      ]
    },
    {
      "cell_type": "markdown",
      "metadata": {
        "id": "3LrKWhSQR7Cd",
        "colab_type": "text"
      },
      "source": [
        "Get the 'pickled' MNIST dataset from http://deeplearning.net/data/mnist/mnist.pkl.gz. We're going to treat it as a standard flat dataset with fully connected layers, rather than using a CNN.\n",
        "\n",
        "deeplearning.net은 python pickle 파일 형식을 사용하는 MNIST dataset을 제공한다. python은 이 파일을 직접 열고 numpy.arrays를 직접 제공하며 numpy.arrays를 자동으로 평평하게 만들 수 있다. "
      ]
    },
    {
      "cell_type": "code",
      "metadata": {
        "id": "I68doJA_R7Cf",
        "colab_type": "code",
        "colab": {}
      },
      "source": [
        "path = Config().data_path()/'mnist'\n",
        "#path = Config().data_path()"
      ],
      "execution_count": 0,
      "outputs": []
    },
    {
      "cell_type": "code",
      "metadata": {
        "id": "s5nBSTNEeBlV",
        "colab_type": "code",
        "outputId": "756b637b-8922-4ba3-9f50-61b957045379",
        "colab": {
          "base_uri": "https://localhost:8080/",
          "height": 34
        }
      },
      "source": [
        "path"
      ],
      "execution_count": 0,
      "outputs": [
        {
          "output_type": "execute_result",
          "data": {
            "text/plain": [
              "PosixPath('/root/.fastai/data/mnist')"
            ]
          },
          "metadata": {
            "tags": []
          },
          "execution_count": 22
        }
      ]
    },
    {
      "cell_type": "code",
      "metadata": {
        "id": "Be4VDizcfB0u",
        "colab_type": "code",
        "outputId": "1ff7db88-440f-4720-f2a4-b6a45b08628c",
        "colab": {
          "base_uri": "https://localhost:8080/",
          "height": 34
        }
      },
      "source": [
        "cd /root/.fastai/data"
      ],
      "execution_count": 0,
      "outputs": [
        {
          "output_type": "stream",
          "text": [
            "/root/.fastai/data\n"
          ],
          "name": "stdout"
        }
      ]
    },
    {
      "cell_type": "code",
      "metadata": {
        "id": "jFHF7aO6gT3Y",
        "colab_type": "code",
        "outputId": "69fba6bb-5062-4a85-f882-6be0d620b89f",
        "colab": {
          "base_uri": "https://localhost:8080/",
          "height": 34
        }
      },
      "source": [
        "ls"
      ],
      "execution_count": 0,
      "outputs": [
        {
          "output_type": "stream",
          "text": [
            "mnist.pkl.gz\n"
          ],
          "name": "stdout"
        }
      ]
    },
    {
      "cell_type": "code",
      "metadata": {
        "id": "a0vY9HTBfdbk",
        "colab_type": "code",
        "colab": {}
      },
      "source": [
        "! mkdir /root/.fastai/data/mnist"
      ],
      "execution_count": 0,
      "outputs": []
    },
    {
      "cell_type": "code",
      "metadata": {
        "id": "EhiNsOBqeDrZ",
        "colab_type": "code",
        "colab": {}
      },
      "source": [
        "# cp /content/drive/\"My Drive\"/\"required files for ML\"/mnist.pkl.gz /root/.fastai/data\n",
        "cp /root/.fastai/data/mnist.pkl.gz /root/.fastai/data/mnist\n",
        "# mnist data(file extension : pkl.gz)를 /root/.fastai/data/mnist folder 아래 위치하게 함. "
      ],
      "execution_count": 0,
      "outputs": []
    },
    {
      "cell_type": "code",
      "metadata": {
        "id": "Wgvt4MStR7Cm",
        "colab_type": "code",
        "outputId": "485b0b4d-6f4e-494a-b9a5-d74a2360e240",
        "colab": {
          "base_uri": "https://localhost:8080/",
          "height": 34
        }
      },
      "source": [
        "path.ls()"
      ],
      "execution_count": 0,
      "outputs": [
        {
          "output_type": "execute_result",
          "data": {
            "text/plain": [
              "[PosixPath('/root/.fastai/data/mnist/mnist.pkl.gz')]"
            ]
          },
          "metadata": {
            "tags": []
          },
          "execution_count": 31
        }
      ]
    },
    {
      "cell_type": "code",
      "metadata": {
        "id": "dmOosNaoR7Ct",
        "colab_type": "code",
        "colab": {}
      },
      "source": [
        "with gzip.open(path/'mnist.pkl.gz', 'rb') as f:\n",
        "    ((x_train, y_train), (x_valid, y_valid), _) = pickle.load(f, encoding='latin-1')\n",
        "\n",
        "# gzip은 파일을 압축하고 압축을 푸는 간단한 인터페이스를 제공함.\n",
        "# 자동으로 데이터를 압축하거나 압축을 풀어서 일반적인 파일 객체처럼 보이게 한다.\n",
        "\n",
        "# gzip.open(filename, mode='rb', compresslevel=9, encoding=None, errors=None, newline=None) \n",
        "# mode 인자는 바이너리 모드인 경우와 텍스트 모드의 경우로 나뉘어지는데 기본값은 'rb'임.\n",
        "# gzip 관련 : https://docs.python.org/ko/3/library/gzip.html \n",
        "\n",
        "# as를 통해 mnist file을 변수 f로 사용할 수 있음. \n",
        "\n",
        "# _는 필요하지는 않지만 test dataset의 내용에 신경을 쓰지 않는다는 것을 다른 사람에게 알림. \n",
        "# 따라서 train dataset(X, y), valid dataset(X, y)만 출력된다. "
      ],
      "execution_count": 0,
      "outputs": []
    },
    {
      "cell_type": "code",
      "metadata": {
        "id": "Vqrvn6URR7C0",
        "colab_type": "code",
        "outputId": "00c49745-db21-4833-ce55-c93b4adef800",
        "colab": {
          "base_uri": "https://localhost:8080/",
          "height": 282
        }
      },
      "source": [
        "plt.imshow(x_train[0].reshape((28,28)), cmap=\"gray\")\n",
        "x_train.shape\n",
        "\n",
        "# 첫 번째 train data를 보여준다. 28*28 = 784."
      ],
      "execution_count": 0,
      "outputs": [
        {
          "output_type": "execute_result",
          "data": {
            "text/plain": [
              "(50000, 784)"
            ]
          },
          "metadata": {
            "tags": []
          },
          "execution_count": 33
        },
        {
          "output_type": "display_data",
          "data": {
            "image/png": "[encoded data removed]",
            "text/plain": [
              "<Figure size 432x288 with 1 Axes>"
            ]
          },
          "metadata": {
            "tags": []
          }
        }
      ]
    },
    {
      "cell_type": "code",
      "metadata": {
        "id": "mX2vI2WGR7C9",
        "colab_type": "code",
        "outputId": "7c75333b-f1d8-447f-9d4a-c7ccda2b1a50",
        "colab": {
          "base_uri": "https://localhost:8080/",
          "height": 34
        }
      },
      "source": [
        "x_train, y_train, x_valid, y_valid = map(torch.tensor, (x_train, y_train, x_valid, y_valid))\n",
        "n, c = x_train.shape \n",
        "# nd은 총 데이터 양, c는 columns.\n",
        "x_train.shape, y_train.min(), y_train.max()\n",
        "\n",
        "# map function은 리스트나 튜플을 지정함수로 처리해주는 역할을 함. \n",
        "# mab(a, b)라고 한다면 a는 함수 b에 전달할 매개변수를 쓰면 된다. \n",
        "# 이경우 mnist dataset(train dataset, valid dataset)를 모두 tensor형으로 만들어줌. \n",
        "\n",
        "# 현재 data sample은 numpy.arays이며 tensor여야 함. "
      ],
      "execution_count": 0,
      "outputs": [
        {
          "output_type": "execute_result",
          "data": {
            "text/plain": [
              "(torch.Size([50000, 784]), tensor(0), tensor(9))"
            ]
          },
          "metadata": {
            "tags": []
          },
          "execution_count": 34
        }
      ]
    },
    {
      "cell_type": "markdown",
      "metadata": {
        "id": "TJyMN9lmR7DE",
        "colab_type": "text"
      },
      "source": [
        "In lesson2-sgd we did these things ourselves:\n",
        "\n",
        "```python\n",
        "x = torch.ones(n,2) \n",
        "def mse(y_hat, y): return ((y_hat-y)**2).mean()\n",
        "y_hat = x@a\n",
        "```\n",
        "\n",
        "Now instead we'll use PyTorch's functions to do it for us, and also to handle mini-batches (which we didn't do last time, since our dataset was so small)."
      ]
    },
    {
      "cell_type": "code",
      "metadata": {
        "id": "OHmqXeXHR7DG",
        "colab_type": "code",
        "colab": {}
      },
      "source": [
        "bs=64\n",
        "train_ds = TensorDataset(x_train, y_train)\n",
        "valid_ds = TensorDataset(x_valid, y_valid)\n",
        "data = DataBunch.create(train_ds, valid_ds, bs=bs) \n",
        "# mnist dataset으로 DataBunch를 만듦. \n",
        "\n",
        "# mini-batch를 원함. mini-batch를 위해 TensorDataset이란 도구를 사용. \n",
        "# 2개의 tensor로 dataset을 만들 수 있다. "
      ],
      "execution_count": 0,
      "outputs": []
    },
    {
      "cell_type": "code",
      "metadata": {
        "id": "BXoDm2VUR7DM",
        "colab_type": "code",
        "outputId": "227e5ff6-4dd1-4c87-a9e1-20bb81193570",
        "colab": {
          "base_uri": "https://localhost:8080/",
          "height": 34
        }
      },
      "source": [
        "x, y = next(iter(data.train_dl))\n",
        "x.shape, y.shape\n",
        "\n",
        "# iter : 반복을 끝낼 값을 지정하면 특정 값이 나올 때 반복을 끝냄. \n",
        "# iter(호출 가능한 객체(data.train_dl), 반복을 끝낼 값)\n",
        "# 반복을 계속 하다가 반복을 끝낼 값이 나오면 StopIteration이 발생하는데, 이 때까지 무작위로 객체가 생성된다. \n",
        "# next : default 지정 가능. default을 지정하면 반복이 끝나더라도 멈추지 않고 default을 출력. \n",
        "# next(반복 가능한 객체, default)\n",
        "\n",
        "# mini-batch : 64."
      ],
      "execution_count": 0,
      "outputs": [
        {
          "output_type": "execute_result",
          "data": {
            "text/plain": [
              "(torch.Size([64, 784]), torch.Size([64]))"
            ]
          },
          "metadata": {
            "tags": []
          },
          "execution_count": 36
        }
      ]
    },
    {
      "cell_type": "code",
      "metadata": {
        "id": "WVX5-avZR7DV",
        "colab_type": "code",
        "colab": {}
      },
      "source": [
        "# y_hat = x@a 대신에 nn을 만들었음. \n",
        "# 선형 레이어 구조를 저장하는 속성을 만드는 것. \n",
        "\n",
        "class Mnist_Logistic(nn.Module):\n",
        "    def __init__(self):\n",
        "        super().__init__()\n",
        "        self.lin = nn.Linear(784, 10, bias=True) # x@a + b.\n",
        "\n",
        "    def forward(self, xb): return self.lin(xb) # xb : x의 작은 batch를 나타냄.\n",
        "\n",
        "# xb를 self.lin에 주면 a@x + b의 결과를 반환할 수 있는 것임.    \n",
        "# 로지스틱 회귀 모델이라고 함. "
      ],
      "execution_count": 0,
      "outputs": []
    },
    {
      "cell_type": "markdown",
      "metadata": {
        "id": "q5ICTAMeqotn",
        "colab_type": "text"
      },
      "source": [
        "\n",
        "\n",
        "> nn.module\n",
        "\n",
        "기존 모듈과 다른 것을 수행하기 위해 nn.Module을 build하려면 그 위에 sub class를 build해야 한다. pytorch에서 sub class 작성은 매우 일반적인 작업임. \n"
      ]
    },
    {
      "cell_type": "code",
      "metadata": {
        "id": "Q6Kzxmd1R7Dd",
        "colab_type": "code",
        "colab": {}
      },
      "source": [
        "model = Mnist_Logistic().cuda()\n",
        "\n",
        "# CUDA는 NVDIA가 만든 기술로 GPU에서 수행하는 알고리즘을 C 언어를 비롯한 \n",
        "# 각종 산업 표준 언어를 사용하여 작성할 수 있도록 하는 기술이다. \n",
        "\n",
        "# 모델을 수동으로 구축하기 때문에 GPU에 매개변수 매트릭스를 수동으로 배치해야한다. "
      ],
      "execution_count": 0,
      "outputs": []
    },
    {
      "cell_type": "code",
      "metadata": {
        "id": "h86UVCOcR7Dn",
        "colab_type": "code",
        "outputId": "131ecc9d-1b5b-4afb-f448-197118ea3c46",
        "colab": {
          "base_uri": "https://localhost:8080/",
          "height": 69
        }
      },
      "source": [
        "model\n",
        "# 이 모델인 nn임. 이 모듈은 자동으로 모델을 제공함. \n",
        "# 모델은 일련의 메소드와 함수 및 속성을 자동으로 생성함. "
      ],
      "execution_count": 0,
      "outputs": [
        {
          "output_type": "execute_result",
          "data": {
            "text/plain": [
              "Mnist_Logistic(\n",
              "  (lin): Linear(in_features=784, out_features=10, bias=True)\n",
              ")"
            ]
          },
          "metadata": {
            "tags": []
          },
          "execution_count": 39
        }
      ]
    },
    {
      "cell_type": "code",
      "metadata": {
        "id": "d22h5-_oR7Dz",
        "colab_type": "code",
        "outputId": "b7683cd4-a6e1-46df-d669-a522fb0b31f8",
        "colab": {
          "base_uri": "https://localhost:8080/",
          "height": 34
        }
      },
      "source": [
        "model.lin"
      ],
      "execution_count": 0,
      "outputs": [
        {
          "output_type": "execute_result",
          "data": {
            "text/plain": [
              "Linear(in_features=784, out_features=10, bias=True)"
            ]
          },
          "metadata": {
            "tags": []
          },
          "execution_count": 40
        }
      ]
    },
    {
      "cell_type": "code",
      "metadata": {
        "id": "8VM7_hOmR7D6",
        "colab_type": "code",
        "outputId": "40372dfd-1f9b-4487-9ecb-84806d55536a",
        "colab": {
          "base_uri": "https://localhost:8080/",
          "height": 34
        }
      },
      "source": [
        "model(x).shape\n",
        "# 예측값(y_hat)의 shape."
      ],
      "execution_count": 0,
      "outputs": [
        {
          "output_type": "execute_result",
          "data": {
            "text/plain": [
              "torch.Size([64, 10])"
            ]
          },
          "metadata": {
            "tags": []
          },
          "execution_count": 41
        }
      ]
    },
    {
      "cell_type": "code",
      "metadata": {
        "id": "IHbiThshR7EC",
        "colab_type": "code",
        "outputId": "d4650f8c-32b5-4466-c336-7043687053f3",
        "colab": {
          "base_uri": "https://localhost:8080/",
          "height": 34
        }
      },
      "source": [
        "[p.shape for p in model.parameters()]\n",
        "# 784개의 입력값을 받아들이고 10개의 출력값을 반환한다는 의미.\n",
        "# 입력값이 784 차원이고 10개의 확률값을 출력해야하므로 편리함.  \n",
        "# 이후 10개의 활성화 값이 있음. 그런 다음 bias를 추가. "
      ],
      "execution_count": 0,
      "outputs": [
        {
          "output_type": "execute_result",
          "data": {
            "text/plain": [
              "[torch.Size([10, 784]), torch.Size([10])]"
            ]
          },
          "metadata": {
            "tags": []
          },
          "execution_count": 42
        }
      ]
    },
    {
      "cell_type": "code",
      "metadata": {
        "id": "3pd0XoAIR7EH",
        "colab_type": "code",
        "colab": {}
      },
      "source": [
        "lr=2e-2\n",
        "# learning rate. "
      ],
      "execution_count": 0,
      "outputs": []
    },
    {
      "cell_type": "code",
      "metadata": {
        "id": "HbWqjgvsR7EK",
        "colab_type": "code",
        "colab": {}
      },
      "source": [
        "loss_func = nn.CrossEntropyLoss()\n",
        "# loss function. cross entropy loss를 쓴다. \n",
        "# MSE 안씀. 3을 0으로 예측하거나 4로 예측하거나 도찐개찐. "
      ],
      "execution_count": 0,
      "outputs": []
    },
    {
      "cell_type": "code",
      "metadata": {
        "id": "NV3m4_CtR7EP",
        "colab_type": "code",
        "colab": {}
      },
      "source": [
        "# lesson2 SGD notebook에서 카피함. \n",
        "\n",
        "def update(x, y, lr):\n",
        "    wd = 1e-5\n",
        "    y_hat = model(x)\n",
        "    # weight decay\n",
        "    w2 = 0. \n",
        "    # 각 매개변수 행렬을 하나씩 가져와서 매개변수 행렬의 제곱합을 w2에 더함. \n",
        "    # w2는 모든 모수 행렬의 제곱합을 포함함. \n",
        "    for p in model.parameters(): w2 += (p**2).sum() # 여기까지 weight decay. \n",
        "    # add to regular loss\n",
        "    loss = loss_func(y_hat, y) + w2*wd # MSE 대신. \n",
        "    loss.backward()\n",
        "    with torch.no_grad(): # pytorch가 모든 매개변수 목록을 자동으로 생성함. __init__()에 내장되어있음. \n",
        "        for p in model.parameters():\n",
        "            p.sub_(lr * p.grad) # parameter = parameter - learning rate*gradient. \n",
        "            p.grad.zero_()\n",
        "    return loss.item()\n",
        "# tensor는 모든 계산이 GPU에서 방금 이뤄졌기 때문에 모든 데이터는 GPU의 gradient며 많은 메모리를 차지함. \n",
        "# 1차원 tensor에 대해 .item()을 실행하면 일반적인 python값이 반환된다. 그러면 graph를 만들 수 있는 것임. "
      ],
      "execution_count": 0,
      "outputs": []
    },
    {
      "cell_type": "markdown",
      "metadata": {
        "id": "5r_TbFqrudjZ",
        "colab_type": "text"
      },
      "source": [
        "\n",
        "\n",
        "> weight decay\n",
        "\n",
        "weight decay는 신경망을 훈련할 때만 유용함. gradient를 만들어야 하므로. 이 부분은 parameter를 업데이트하는 데 도움이 됨. wd*parameter sum of squares. 이 수식에 대해 w로 미분하였더니 일정한 상수와 parameter를 곱한 꼴이 되었음.(강의에서) 따라서 weight decay는 각 batch 계산에서 일정한 상수와 parameter를 빼서 수행하게 되는 것임. 이게 weight가 약해지는 이유. 이 식에 weight 감소가 존재하면, loss에 parameter sum of squaere을 추가하면, L2 정규화(L2 regularzation)라고 함. \n"
      ]
    },
    {
      "cell_type": "code",
      "metadata": {
        "id": "lURCt1CAR7EU",
        "colab_type": "code",
        "colab": {}
      },
      "source": [
        "losses = [update(x, y, lr) for x, y in data.train_dl]\n",
        "# DataLoader를 탐색하면 모든 mini-batch를 하나씩 제공함. "
      ],
      "execution_count": 0,
      "outputs": []
    },
    {
      "cell_type": "code",
      "metadata": {
        "id": "PNJCG8KUR7Eb",
        "colab_type": "code",
        "outputId": "f51e51a7-e9a3-4646-b49e-20c3eb9aefc7",
        "colab": {
          "base_uri": "https://localhost:8080/",
          "height": 265
        }
      },
      "source": [
        "plt.plot(losses);\n",
        "# loss가 낮아질수록 더 강하게 진동하는 것을 볼 수 있음.  "
      ],
      "execution_count": 0,
      "outputs": [
        {
          "output_type": "display_data",
          "data": {
            "image/png": "[encoded data removed]",
            "text/plain": [
              "<Figure size 432x288 with 1 Axes>"
            ]
          },
          "metadata": {
            "tags": []
          }
        }
      ]
    },
    {
      "cell_type": "code",
      "metadata": {
        "id": "8F-LH6L2R7Ef",
        "colab_type": "code",
        "colab": {}
      },
      "source": [
        "# Mnist_logistic을 대체하고 Mnist_NN을 사용하여 처음부터 신경망을 구축할 것임. \n",
        "# update(), 즉 gradient에서 내려갈 수 있는 기능이 있으면 다른 model을 사용해볼 수 있음. \n",
        "\n",
        "class Mnist_NN(nn.Module): \n",
        "    def __init__(self):\n",
        "        super().__init__()\n",
        "        self.lin1 = nn.Linear(784, 50, bias=True) # 50 columns. \n",
        "        self.lin2 = nn.Linear(50, 10, bias=True) # 10 : 예측 범주의 수. \n",
        "        # 2개의 linear layer.\n",
        "    def forward(self, xb): # relu를 구해서 두 번째 linear layer을 구성한다. \n",
        "        x = self.lin1(xb)\n",
        "        x = F.relu(x) \n",
        "        return self.lin2(x)"
      ],
      "execution_count": 0,
      "outputs": []
    },
    {
      "cell_type": "code",
      "metadata": {
        "id": "u9l_w1ysR7Eh",
        "colab_type": "code",
        "colab": {}
      },
      "source": [
        "model = Mnist_NN().cuda()"
      ],
      "execution_count": 0,
      "outputs": []
    },
    {
      "cell_type": "code",
      "metadata": {
        "id": "pZwB8NudR7Ek",
        "colab_type": "code",
        "colab": {}
      },
      "source": [
        "losses = [update(x, y, lr) for x, y in data.train_dl]"
      ],
      "execution_count": 0,
      "outputs": []
    },
    {
      "cell_type": "code",
      "metadata": {
        "id": "ylSKQ4LPR7Ep",
        "colab_type": "code",
        "outputId": "82ea7815-46c1-4f85-a4be-6edacd68da8f",
        "colab": {
          "base_uri": "https://localhost:8080/",
          "height": 265
        }
      },
      "source": [
        "plt.plot(losses);"
      ],
      "execution_count": 0,
      "outputs": [
        {
          "output_type": "display_data",
          "data": {
            "image/png": "[encoded data removed]",
            "text/plain": [
              "<Figure size 432x288 with 1 Axes>"
            ]
          },
          "metadata": {
            "tags": []
          }
        }
      ]
    },
    {
      "cell_type": "code",
      "metadata": {
        "id": "4Iq-AnuWR7Es",
        "colab_type": "code",
        "colab": {}
      },
      "source": [
        "model = Mnist_NN().cuda()"
      ],
      "execution_count": 0,
      "outputs": []
    },
    {
      "cell_type": "code",
      "metadata": {
        "id": "AG4JuktTR7Ev",
        "colab_type": "code",
        "colab": {}
      },
      "source": [
        "def update(x, y, lr):\n",
        "    opt = optim.Adam(model.parameters(), lr) # optim.SGD 사용 중. 하지만 Adam으로 교체할 수 있음.\n",
        "    # Adam에 관해 01:44부터 함. \n",
        "    # opt = optim.Adam(model.parameters(), lr, weight_decay = wd) 추가 가능.  \n",
        "    y_hat = model(x)\n",
        "    loss = loss_func(y_hat, y)\n",
        "    loss.backward()\n",
        "    opt.step() # p.sub_(lr*p.grad)랑 똑같은 코드. \n",
        "    opt.zero_grad()\n",
        "    return loss.item()"
      ],
      "execution_count": 0,
      "outputs": []
    },
    {
      "cell_type": "code",
      "metadata": {
        "id": "RGMCnJ2gR7E2",
        "colab_type": "code",
        "colab": {}
      },
      "source": [
        "losses = [update(x, y, 1e-3) for x,y in data.train_dl]"
      ],
      "execution_count": 0,
      "outputs": []
    },
    {
      "cell_type": "code",
      "metadata": {
        "id": "JpgIZQgJR7E8",
        "colab_type": "code",
        "outputId": "ad2a21c5-1675-45b8-b188-81a85ff46724",
        "colab": {
          "base_uri": "https://localhost:8080/",
          "height": 265
        }
      },
      "source": [
        "plt.plot(losses);"
      ],
      "execution_count": 0,
      "outputs": [
        {
          "output_type": "display_data",
          "data": {
            "image/png": "[encoded data removed]",
            "text/plain": [
              "<Figure size 432x288 with 1 Axes>"
            ]
          },
          "metadata": {
            "tags": []
          }
        }
      ]
    },
    {
      "cell_type": "code",
      "metadata": {
        "id": "Cq10thXXR7FB",
        "colab_type": "code",
        "colab": {}
      },
      "source": [
        "learn = Learner(data, Mnist_NN(), loss_func=loss_func, metrics=accuracy)\n",
        "# 최적화 알고리즘을 사용하는 경향이 없음. 학습자를 더 사용함. \n",
        "# learner는 nn의 하위 클래스임. metrics는 프린트를 위함. "
      ],
      "execution_count": 0,
      "outputs": []
    },
    {
      "cell_type": "code",
      "metadata": {
        "id": "Psym0eIJR7FI",
        "colab_type": "code",
        "outputId": "bcd04016-ec0f-49dd-dbc4-86401bdda405",
        "colab": {}
      },
      "source": [
        "learn.lr_find()\n",
        "learn.recorder.plot()"
      ],
      "execution_count": 0,
      "outputs": [
        {
          "output_type": "display_data",
          "data": {
            "text/html": [
              ""
            ],
            "text/plain": [
              "<IPython.core.display.HTML object>"
            ]
          },
          "metadata": {
            "tags": []
          }
        },
        {
          "output_type": "stream",
          "text": [
            "LR Finder is complete, type {learner_name}.recorder.plot() to see the graph.\n"
          ],
          "name": "stdout"
        },
        {
          "output_type": "display_data",
          "data": {
            "image/png": "[encoded data removed]",
            "text/plain": [
              "<Figure size 432x288 with 1 Axes>"
            ]
          },
          "metadata": {
            "tags": [],
            "needs_background": "light"
          }
        }
      ]
    },
    {
      "cell_type": "code",
      "metadata": {
        "id": "2gc2zP6kR7FM",
        "colab_type": "code",
        "outputId": "337522c4-7ce5-4b5e-be76-ab6c103e0a02",
        "colab": {}
      },
      "source": [
        "learn.fit_one_cycle(1, 1e-2)"
      ],
      "execution_count": 0,
      "outputs": [
        {
          "output_type": "display_data",
          "data": {
            "text/html": [
              "Total time: 00:03 <p><table style='width:300px; margin-bottom:10px'>\n",
              "  <tr>\n",
              "    <th>epoch</th>\n",
              "    <th>train_loss</th>\n",
              "    <th>valid_loss</th>\n",
              "    <th>accuracy</th>\n",
              "  </tr>\n",
              "  <tr>\n",
              "    <th>1</th>\n",
              "    <th>0.129131</th>\n",
              "    <th>0.125927</th>\n",
              "    <th>0.963500</th>\n",
              "  </tr>\n",
              "</table>\n"
            ],
            "text/plain": [
              "<IPython.core.display.HTML object>"
            ]
          },
          "metadata": {
            "tags": []
          }
        }
      ]
    },
    {
      "cell_type": "code",
      "metadata": {
        "id": "dhOMUPokR7FR",
        "colab_type": "code",
        "outputId": "a9766a9e-124d-4510-c02a-962f6d10812f",
        "colab": {}
      },
      "source": [
        "learn.recorder.plot_lr(show_moms=True)\n",
        "# 최종 최적 결과에 근접하면 목표에 정확하게 도달하기 위해 학습 속도를 감소시켜야 함.\n",
        "# 운동량(모멘텀)이 그려짐. "
      ],
      "execution_count": 0,
      "outputs": [
        {
          "output_type": "display_data",
          "data": {
            "image/png": "[encoded data removed]",
            "text/plain": [
              "<Figure size 864x288 with 2 Axes>"
            ]
          },
          "metadata": {
            "tags": [],
            "needs_background": "light"
          }
        }
      ]
    },
    {
      "cell_type": "code",
      "metadata": {
        "id": "zrdwQEZ5R7FU",
        "colab_type": "code",
        "outputId": "04eb9d82-8b1e-4b3f-839b-360378fe7e4b",
        "colab": {}
      },
      "source": [
        "learn.recorder.plot_losses()"
      ],
      "execution_count": 0,
      "outputs": [
        {
          "output_type": "display_data",
          "data": {
            "image/png": "[encoded data removed]",
            "text/plain": [
              "<Figure size 432x288 with 1 Axes>"
            ]
          },
          "metadata": {
            "tags": [],
            "needs_background": "light"
          }
        }
      ]
    },
    {
      "cell_type": "markdown",
      "metadata": {
        "id": "lcz6lzsAR7FY",
        "colab_type": "text"
      },
      "source": [
        "## fin"
      ]
    },
    {
      "cell_type": "code",
      "metadata": {
        "id": "X0dq75gxR7FY",
        "colab_type": "code",
        "colab": {}
      },
      "source": [
        ""
      ],
      "execution_count": 0,
      "outputs": []
    }
  ]
}